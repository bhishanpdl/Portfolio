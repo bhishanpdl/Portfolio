{
 "cells": [
  {
   "cell_type": "markdown",
   "metadata": {
    "toc": true
   },
   "source": [
    "<h1>Table of Contents<span class=\"tocSkip\"></span></h1>\n",
    "<div class=\"toc\"><ul class=\"toc-item\"><li><span><a href=\"#Data-Description\" data-toc-modified-id=\"Data-Description-1\"><span class=\"toc-item-num\">1&nbsp;&nbsp;</span>Data Description</a></span></li><li><span><a href=\"#Imports\" data-toc-modified-id=\"Imports-2\"><span class=\"toc-item-num\">2&nbsp;&nbsp;</span>Imports</a></span></li><li><span><a href=\"#Useful-Scripts\" data-toc-modified-id=\"Useful-Scripts-3\"><span class=\"toc-item-num\">3&nbsp;&nbsp;</span>Useful Scripts</a></span></li><li><span><a href=\"#Load-the-data\" data-toc-modified-id=\"Load-the-data-4\"><span class=\"toc-item-num\">4&nbsp;&nbsp;</span>Load the data</a></span></li><li><span><a href=\"#Data-Processing-and-Feature-Engineering\" data-toc-modified-id=\"Data-Processing-and-Feature-Engineering-5\"><span class=\"toc-item-num\">5&nbsp;&nbsp;</span>Data Processing and Feature Engineering</a></span><ul class=\"toc-item\"><li><span><a href=\"#Date-time-features\" data-toc-modified-id=\"Date-time-features-5.1\"><span class=\"toc-item-num\">5.1&nbsp;&nbsp;</span>Date time features</a></span></li><li><span><a href=\"#Categorical-Features\" data-toc-modified-id=\"Categorical-Features-5.2\"><span class=\"toc-item-num\">5.2&nbsp;&nbsp;</span>Categorical Features</a></span></li></ul></li><li><span><a href=\"#Missing-Values\" data-toc-modified-id=\"Missing-Values-6\"><span class=\"toc-item-num\">6&nbsp;&nbsp;</span>Missing Values</a></span></li><li><span><a href=\"#Save-clean-data\" data-toc-modified-id=\"Save-clean-data-7\"><span class=\"toc-item-num\">7&nbsp;&nbsp;</span>Save clean data</a></span></li></ul></div>"
   ]
  },
  {
   "cell_type": "markdown",
   "metadata": {},
   "source": [
    "# Data Description\n",
    "- Data source: https://www.kaggle.com/AnalyzeBoston/crimes-in-boston\n",
    "\n",
    "**Context**  \n",
    "Crime incident reports are provided by Boston Police Department (BPD) to document the initial details surrounding an incident to which BPD officers respond. This is a dataset containing records from the new crime incident report system, which includes a reduced set of fields focused on capturing the type of incident as well as when and where it occurred.\n",
    "\n",
    "**Content**  \n",
    "Records begin in June 14, 2015 and continue to September 3, 2018.\n",
    "\n",
    "**Acknowledgements**  \n",
    "The data is provided by Analyze Boston. The most up-to-date version can be found [here](https://data.boston.gov/dataset/crime-incident-reports-august-2015-to-date-source-new-system).\n",
    "\n",
    "**Inspiration**  \n",
    "- What types of crimes are most common? \n",
    "- Where are different types of crimes most likely to occur? \n",
    "- Does the frequency of crimes change over the day? Week? Year?"
   ]
  },
  {
   "cell_type": "markdown",
   "metadata": {},
   "source": [
    "# Imports"
   ]
  },
  {
   "cell_type": "code",
   "execution_count": 47,
   "metadata": {
    "ExecuteTime": {
     "end_time": "2019-10-31T02:16:43.473320Z",
     "start_time": "2019-10-31T02:16:43.411523Z"
    }
   },
   "outputs": [],
   "source": [
    "import bhishan"
   ]
  },
  {
   "cell_type": "code",
   "execution_count": 48,
   "metadata": {
    "ExecuteTime": {
     "end_time": "2019-10-31T02:16:43.545275Z",
     "start_time": "2019-10-31T02:16:43.488437Z"
    }
   },
   "outputs": [
    {
     "name": "stdout",
     "output_type": "stream",
     "text": [
      "The autoreload extension is already loaded. To reload it, use:\n",
      "  %reload_ext autoreload\n"
     ]
    }
   ],
   "source": [
    "%load_ext autoreload"
   ]
  },
  {
   "cell_type": "code",
   "execution_count": 49,
   "metadata": {
    "ExecuteTime": {
     "end_time": "2019-10-31T02:16:43.617223Z",
     "start_time": "2019-10-31T02:16:43.551829Z"
    }
   },
   "outputs": [],
   "source": [
    "autoreload 2"
   ]
  },
  {
   "cell_type": "code",
   "execution_count": 50,
   "metadata": {
    "ExecuteTime": {
     "end_time": "2019-10-31T02:16:43.688635Z",
     "start_time": "2019-10-31T02:16:43.624141Z"
    }
   },
   "outputs": [
    {
     "name": "stdout",
     "output_type": "stream",
     "text": [
      "[('numpy', '1.16.4'), ('pandas', '0.25.0'), ('seaborn', '0.9.0'), ('matplotlib', '3.1.1')]\n"
     ]
    }
   ],
   "source": [
    "import numpy as np\n",
    "import pandas as pd\n",
    "import seaborn as sns\n",
    "sns.set(color_codes=True)\n",
    "\n",
    "import matplotlib\n",
    "import matplotlib.pyplot as plt\n",
    "%matplotlib inline\n",
    "%config InlineBackend.figure_format = 'retina'\n",
    "sns.set(context='notebook', style='whitegrid', rc={'figure.figsize': (12,8)})\n",
    "plt.style.use('ggplot') # better than sns styles.\n",
    "matplotlib.rcParams['figure.figsize'] = 12,8\n",
    "\n",
    "import os\n",
    "import time\n",
    "\n",
    "\n",
    "# random state\n",
    "random_state=100\n",
    "np.random.seed(random_state)\n",
    "\n",
    "# Jupyter notebook settings for pandas\n",
    "#pd.set_option('display.float_format', '{:,.2g}'.format) # numbers sep by comma\n",
    "from pandas.api.types import CategoricalDtype\n",
    "np.set_printoptions(precision=3)\n",
    "pd.set_option('display.max_columns', 100)\n",
    "pd.set_option('display.max_rows', 100) # None for all the rows\n",
    "pd.set_option('display.max_colwidth', 200)\n",
    "\n",
    "import IPython\n",
    "from IPython.display import display, HTML, Image, Markdown\n",
    "\n",
    "print([(x.__name__,x.__version__) for x in [np, pd,sns,matplotlib]])"
   ]
  },
  {
   "cell_type": "markdown",
   "metadata": {},
   "source": [
    "# Useful Scripts"
   ]
  },
  {
   "cell_type": "code",
   "execution_count": 70,
   "metadata": {
    "ExecuteTime": {
     "end_time": "2019-10-31T02:17:43.206285Z",
     "start_time": "2019-10-31T02:17:43.153956Z"
    }
   },
   "outputs": [],
   "source": [
    "def show_method_attributes(method, ncols=7,start=None):\n",
    "    \"\"\" Show all the attributes of a given method.\n",
    "    Example:\n",
    "    ========\n",
    "    show_method_attributes(list)\n",
    "     \"\"\"\n",
    "    x = [I for I in dir(method) if I[0]!='_' ]\n",
    "    x = [I for I in x \n",
    "         if I not in 'os np pd sys time psycopg2'.split() ]\n",
    "    if start:\n",
    "        x = [I for I in x if I.startswith(start)]\n",
    "\n",
    "    return pd.DataFrame(np.array_split(x,ncols)).T.fillna('')"
   ]
  },
  {
   "cell_type": "markdown",
   "metadata": {},
   "source": [
    "# Load the data"
   ]
  },
  {
   "cell_type": "code",
   "execution_count": 51,
   "metadata": {
    "ExecuteTime": {
     "end_time": "2019-10-31T02:16:44.570273Z",
     "start_time": "2019-10-31T02:16:43.693039Z"
    }
   },
   "outputs": [
    {
     "name": "stdout",
     "output_type": "stream",
     "text": [
      "(319073, 17)\n"
     ]
    },
    {
     "data": {
      "text/html": [
       "<div>\n",
       "<style scoped>\n",
       "    .dataframe tbody tr th:only-of-type {\n",
       "        vertical-align: middle;\n",
       "    }\n",
       "\n",
       "    .dataframe tbody tr th {\n",
       "        vertical-align: top;\n",
       "    }\n",
       "\n",
       "    .dataframe thead th {\n",
       "        text-align: right;\n",
       "    }\n",
       "</style>\n",
       "<table border=\"1\" class=\"dataframe\">\n",
       "  <thead>\n",
       "    <tr style=\"text-align: right;\">\n",
       "      <th></th>\n",
       "      <th>INCIDENT_NUMBER</th>\n",
       "      <th>OFFENSE_CODE</th>\n",
       "      <th>OFFENSE_CODE_GROUP</th>\n",
       "      <th>OFFENSE_DESCRIPTION</th>\n",
       "      <th>DISTRICT</th>\n",
       "      <th>REPORTING_AREA</th>\n",
       "      <th>SHOOTING</th>\n",
       "      <th>OCCURRED_ON_DATE</th>\n",
       "      <th>YEAR</th>\n",
       "      <th>MONTH</th>\n",
       "      <th>DAY_OF_WEEK</th>\n",
       "      <th>HOUR</th>\n",
       "      <th>UCR_PART</th>\n",
       "      <th>STREET</th>\n",
       "      <th>Lat</th>\n",
       "      <th>Long</th>\n",
       "      <th>Location</th>\n",
       "    </tr>\n",
       "  </thead>\n",
       "  <tbody>\n",
       "    <tr>\n",
       "      <th>0</th>\n",
       "      <td>I182070945</td>\n",
       "      <td>619</td>\n",
       "      <td>Larceny</td>\n",
       "      <td>LARCENY ALL OTHERS</td>\n",
       "      <td>D14</td>\n",
       "      <td>808</td>\n",
       "      <td>NaN</td>\n",
       "      <td>2018-09-02 13:00:00</td>\n",
       "      <td>2018</td>\n",
       "      <td>9</td>\n",
       "      <td>Sunday</td>\n",
       "      <td>13</td>\n",
       "      <td>Part One</td>\n",
       "      <td>LINCOLN ST</td>\n",
       "      <td>42.357791</td>\n",
       "      <td>-71.139371</td>\n",
       "      <td>(42.35779134, -71.13937053)</td>\n",
       "    </tr>\n",
       "    <tr>\n",
       "      <th>1</th>\n",
       "      <td>I182070943</td>\n",
       "      <td>1402</td>\n",
       "      <td>Vandalism</td>\n",
       "      <td>VANDALISM</td>\n",
       "      <td>C11</td>\n",
       "      <td>347</td>\n",
       "      <td>NaN</td>\n",
       "      <td>2018-08-21 00:00:00</td>\n",
       "      <td>2018</td>\n",
       "      <td>8</td>\n",
       "      <td>Tuesday</td>\n",
       "      <td>0</td>\n",
       "      <td>Part Two</td>\n",
       "      <td>HECLA ST</td>\n",
       "      <td>42.306821</td>\n",
       "      <td>-71.060300</td>\n",
       "      <td>(42.30682138, -71.06030035)</td>\n",
       "    </tr>\n",
       "    <tr>\n",
       "      <th>2</th>\n",
       "      <td>I182070941</td>\n",
       "      <td>3410</td>\n",
       "      <td>Towed</td>\n",
       "      <td>TOWED MOTOR VEHICLE</td>\n",
       "      <td>D4</td>\n",
       "      <td>151</td>\n",
       "      <td>NaN</td>\n",
       "      <td>2018-09-03 19:27:00</td>\n",
       "      <td>2018</td>\n",
       "      <td>9</td>\n",
       "      <td>Monday</td>\n",
       "      <td>19</td>\n",
       "      <td>Part Three</td>\n",
       "      <td>CAZENOVE ST</td>\n",
       "      <td>42.346589</td>\n",
       "      <td>-71.072429</td>\n",
       "      <td>(42.34658879, -71.07242943)</td>\n",
       "    </tr>\n",
       "    <tr>\n",
       "      <th>3</th>\n",
       "      <td>I182070940</td>\n",
       "      <td>3114</td>\n",
       "      <td>Investigate Property</td>\n",
       "      <td>INVESTIGATE PROPERTY</td>\n",
       "      <td>D4</td>\n",
       "      <td>272</td>\n",
       "      <td>NaN</td>\n",
       "      <td>2018-09-03 21:16:00</td>\n",
       "      <td>2018</td>\n",
       "      <td>9</td>\n",
       "      <td>Monday</td>\n",
       "      <td>21</td>\n",
       "      <td>Part Three</td>\n",
       "      <td>NEWCOMB ST</td>\n",
       "      <td>42.334182</td>\n",
       "      <td>-71.078664</td>\n",
       "      <td>(42.33418175, -71.07866441)</td>\n",
       "    </tr>\n",
       "    <tr>\n",
       "      <th>4</th>\n",
       "      <td>I182070938</td>\n",
       "      <td>3114</td>\n",
       "      <td>Investigate Property</td>\n",
       "      <td>INVESTIGATE PROPERTY</td>\n",
       "      <td>B3</td>\n",
       "      <td>421</td>\n",
       "      <td>NaN</td>\n",
       "      <td>2018-09-03 21:05:00</td>\n",
       "      <td>2018</td>\n",
       "      <td>9</td>\n",
       "      <td>Monday</td>\n",
       "      <td>21</td>\n",
       "      <td>Part Three</td>\n",
       "      <td>DELHI ST</td>\n",
       "      <td>42.275365</td>\n",
       "      <td>-71.090361</td>\n",
       "      <td>(42.27536542, -71.09036101)</td>\n",
       "    </tr>\n",
       "  </tbody>\n",
       "</table>\n",
       "</div>"
      ],
      "text/plain": [
       "  INCIDENT_NUMBER  OFFENSE_CODE    OFFENSE_CODE_GROUP   OFFENSE_DESCRIPTION  \\\n",
       "0      I182070945           619               Larceny    LARCENY ALL OTHERS   \n",
       "1      I182070943          1402             Vandalism             VANDALISM   \n",
       "2      I182070941          3410                 Towed   TOWED MOTOR VEHICLE   \n",
       "3      I182070940          3114  Investigate Property  INVESTIGATE PROPERTY   \n",
       "4      I182070938          3114  Investigate Property  INVESTIGATE PROPERTY   \n",
       "\n",
       "  DISTRICT REPORTING_AREA SHOOTING     OCCURRED_ON_DATE  YEAR  MONTH  \\\n",
       "0      D14            808      NaN  2018-09-02 13:00:00  2018      9   \n",
       "1      C11            347      NaN  2018-08-21 00:00:00  2018      8   \n",
       "2       D4            151      NaN  2018-09-03 19:27:00  2018      9   \n",
       "3       D4            272      NaN  2018-09-03 21:16:00  2018      9   \n",
       "4       B3            421      NaN  2018-09-03 21:05:00  2018      9   \n",
       "\n",
       "  DAY_OF_WEEK  HOUR    UCR_PART       STREET        Lat       Long  \\\n",
       "0      Sunday    13    Part One   LINCOLN ST  42.357791 -71.139371   \n",
       "1     Tuesday     0    Part Two     HECLA ST  42.306821 -71.060300   \n",
       "2      Monday    19  Part Three  CAZENOVE ST  42.346589 -71.072429   \n",
       "3      Monday    21  Part Three   NEWCOMB ST  42.334182 -71.078664   \n",
       "4      Monday    21  Part Three     DELHI ST  42.275365 -71.090361   \n",
       "\n",
       "                      Location  \n",
       "0  (42.35779134, -71.13937053)  \n",
       "1  (42.30682138, -71.06030035)  \n",
       "2  (42.34658879, -71.07242943)  \n",
       "3  (42.33418175, -71.07866441)  \n",
       "4  (42.27536542, -71.09036101)  "
      ]
     },
     "execution_count": 51,
     "metadata": {},
     "output_type": "execute_result"
    }
   ],
   "source": [
    "df = pd.read_csv('../data/raw/crime.csv',encoding='latin-1')\n",
    "print(df.shape)\n",
    "df.head()"
   ]
  },
  {
   "cell_type": "code",
   "execution_count": 52,
   "metadata": {
    "ExecuteTime": {
     "end_time": "2019-10-31T02:16:44.632228Z",
     "start_time": "2019-10-31T02:16:44.576199Z"
    }
   },
   "outputs": [
    {
     "data": {
      "text/plain": [
       "Index(['INCIDENT_NUMBER', 'OFFENSE_CODE', 'OFFENSE_CODE_GROUP',\n",
       "       'OFFENSE_DESCRIPTION', 'DISTRICT', 'REPORTING_AREA', 'SHOOTING',\n",
       "       'OCCURRED_ON_DATE', 'YEAR', 'MONTH', 'DAY_OF_WEEK', 'HOUR', 'UCR_PART',\n",
       "       'STREET', 'Lat', 'Long', 'Location'],\n",
       "      dtype='object')"
      ]
     },
     "execution_count": 52,
     "metadata": {},
     "output_type": "execute_result"
    }
   ],
   "source": [
    "df.columns"
   ]
  },
  {
   "cell_type": "code",
   "execution_count": 53,
   "metadata": {
    "ExecuteTime": {
     "end_time": "2019-10-31T02:16:44.696666Z",
     "start_time": "2019-10-31T02:16:44.637938Z"
    }
   },
   "outputs": [
    {
     "data": {
      "text/plain": [
       "Index(['incident_number', 'offense_code', 'offense_code_group',\n",
       "       'offense_description', 'district', 'reporting_area', 'shooting',\n",
       "       'occurred_on_date', 'year', 'month', 'day_of_week', 'hour', 'ucr_part',\n",
       "       'street', 'lat', 'long', 'location'],\n",
       "      dtype='object')"
      ]
     },
     "execution_count": 53,
     "metadata": {},
     "output_type": "execute_result"
    }
   ],
   "source": [
    "df.columns = df.columns.str.lower()\n",
    "df.columns"
   ]
  },
  {
   "cell_type": "code",
   "execution_count": 54,
   "metadata": {
    "ExecuteTime": {
     "end_time": "2019-10-31T02:16:44.787637Z",
     "start_time": "2019-10-31T02:16:44.706440Z"
    }
   },
   "outputs": [
    {
     "data": {
      "text/html": [
       "<div>\n",
       "<style scoped>\n",
       "    .dataframe tbody tr th:only-of-type {\n",
       "        vertical-align: middle;\n",
       "    }\n",
       "\n",
       "    .dataframe tbody tr th {\n",
       "        vertical-align: top;\n",
       "    }\n",
       "\n",
       "    .dataframe thead th {\n",
       "        text-align: right;\n",
       "    }\n",
       "</style>\n",
       "<table border=\"1\" class=\"dataframe\">\n",
       "  <thead>\n",
       "    <tr style=\"text-align: right;\">\n",
       "      <th></th>\n",
       "      <th>incident</th>\n",
       "      <th>code</th>\n",
       "      <th>group</th>\n",
       "      <th>description</th>\n",
       "      <th>district</th>\n",
       "      <th>area</th>\n",
       "      <th>shooting</th>\n",
       "      <th>date</th>\n",
       "      <th>year</th>\n",
       "      <th>month</th>\n",
       "      <th>dayofweek</th>\n",
       "      <th>hour</th>\n",
       "      <th>ucr_part</th>\n",
       "      <th>street</th>\n",
       "      <th>lat</th>\n",
       "      <th>long</th>\n",
       "      <th>location</th>\n",
       "    </tr>\n",
       "  </thead>\n",
       "  <tbody>\n",
       "    <tr>\n",
       "      <th>0</th>\n",
       "      <td>I182070945</td>\n",
       "      <td>619</td>\n",
       "      <td>Larceny</td>\n",
       "      <td>LARCENY ALL OTHERS</td>\n",
       "      <td>D14</td>\n",
       "      <td>808</td>\n",
       "      <td>NaN</td>\n",
       "      <td>2018-09-02 13:00:00</td>\n",
       "      <td>2018</td>\n",
       "      <td>9</td>\n",
       "      <td>Sunday</td>\n",
       "      <td>13</td>\n",
       "      <td>Part One</td>\n",
       "      <td>LINCOLN ST</td>\n",
       "      <td>42.357791</td>\n",
       "      <td>-71.139371</td>\n",
       "      <td>(42.35779134, -71.13937053)</td>\n",
       "    </tr>\n",
       "    <tr>\n",
       "      <th>1</th>\n",
       "      <td>I182070943</td>\n",
       "      <td>1402</td>\n",
       "      <td>Vandalism</td>\n",
       "      <td>VANDALISM</td>\n",
       "      <td>C11</td>\n",
       "      <td>347</td>\n",
       "      <td>NaN</td>\n",
       "      <td>2018-08-21 00:00:00</td>\n",
       "      <td>2018</td>\n",
       "      <td>8</td>\n",
       "      <td>Tuesday</td>\n",
       "      <td>0</td>\n",
       "      <td>Part Two</td>\n",
       "      <td>HECLA ST</td>\n",
       "      <td>42.306821</td>\n",
       "      <td>-71.060300</td>\n",
       "      <td>(42.30682138, -71.06030035)</td>\n",
       "    </tr>\n",
       "    <tr>\n",
       "      <th>2</th>\n",
       "      <td>I182070941</td>\n",
       "      <td>3410</td>\n",
       "      <td>Towed</td>\n",
       "      <td>TOWED MOTOR VEHICLE</td>\n",
       "      <td>D4</td>\n",
       "      <td>151</td>\n",
       "      <td>NaN</td>\n",
       "      <td>2018-09-03 19:27:00</td>\n",
       "      <td>2018</td>\n",
       "      <td>9</td>\n",
       "      <td>Monday</td>\n",
       "      <td>19</td>\n",
       "      <td>Part Three</td>\n",
       "      <td>CAZENOVE ST</td>\n",
       "      <td>42.346589</td>\n",
       "      <td>-71.072429</td>\n",
       "      <td>(42.34658879, -71.07242943)</td>\n",
       "    </tr>\n",
       "    <tr>\n",
       "      <th>3</th>\n",
       "      <td>I182070940</td>\n",
       "      <td>3114</td>\n",
       "      <td>Investigate Property</td>\n",
       "      <td>INVESTIGATE PROPERTY</td>\n",
       "      <td>D4</td>\n",
       "      <td>272</td>\n",
       "      <td>NaN</td>\n",
       "      <td>2018-09-03 21:16:00</td>\n",
       "      <td>2018</td>\n",
       "      <td>9</td>\n",
       "      <td>Monday</td>\n",
       "      <td>21</td>\n",
       "      <td>Part Three</td>\n",
       "      <td>NEWCOMB ST</td>\n",
       "      <td>42.334182</td>\n",
       "      <td>-71.078664</td>\n",
       "      <td>(42.33418175, -71.07866441)</td>\n",
       "    </tr>\n",
       "    <tr>\n",
       "      <th>4</th>\n",
       "      <td>I182070938</td>\n",
       "      <td>3114</td>\n",
       "      <td>Investigate Property</td>\n",
       "      <td>INVESTIGATE PROPERTY</td>\n",
       "      <td>B3</td>\n",
       "      <td>421</td>\n",
       "      <td>NaN</td>\n",
       "      <td>2018-09-03 21:05:00</td>\n",
       "      <td>2018</td>\n",
       "      <td>9</td>\n",
       "      <td>Monday</td>\n",
       "      <td>21</td>\n",
       "      <td>Part Three</td>\n",
       "      <td>DELHI ST</td>\n",
       "      <td>42.275365</td>\n",
       "      <td>-71.090361</td>\n",
       "      <td>(42.27536542, -71.09036101)</td>\n",
       "    </tr>\n",
       "  </tbody>\n",
       "</table>\n",
       "</div>"
      ],
      "text/plain": [
       "     incident  code                 group           description district area  \\\n",
       "0  I182070945   619               Larceny    LARCENY ALL OTHERS      D14  808   \n",
       "1  I182070943  1402             Vandalism             VANDALISM      C11  347   \n",
       "2  I182070941  3410                 Towed   TOWED MOTOR VEHICLE       D4  151   \n",
       "3  I182070940  3114  Investigate Property  INVESTIGATE PROPERTY       D4  272   \n",
       "4  I182070938  3114  Investigate Property  INVESTIGATE PROPERTY       B3  421   \n",
       "\n",
       "  shooting                 date  year  month dayofweek  hour    ucr_part  \\\n",
       "0      NaN  2018-09-02 13:00:00  2018      9    Sunday    13    Part One   \n",
       "1      NaN  2018-08-21 00:00:00  2018      8   Tuesday     0    Part Two   \n",
       "2      NaN  2018-09-03 19:27:00  2018      9    Monday    19  Part Three   \n",
       "3      NaN  2018-09-03 21:16:00  2018      9    Monday    21  Part Three   \n",
       "4      NaN  2018-09-03 21:05:00  2018      9    Monday    21  Part Three   \n",
       "\n",
       "        street        lat       long                     location  \n",
       "0   LINCOLN ST  42.357791 -71.139371  (42.35779134, -71.13937053)  \n",
       "1     HECLA ST  42.306821 -71.060300  (42.30682138, -71.06030035)  \n",
       "2  CAZENOVE ST  42.346589 -71.072429  (42.34658879, -71.07242943)  \n",
       "3   NEWCOMB ST  42.334182 -71.078664  (42.33418175, -71.07866441)  \n",
       "4     DELHI ST  42.275365 -71.090361  (42.27536542, -71.09036101)  "
      ]
     },
     "execution_count": 54,
     "metadata": {},
     "output_type": "execute_result"
    }
   ],
   "source": [
    "df.columns = ['incident', 'code', 'group',\n",
    "       'description', 'district', 'area', 'shooting',\n",
    "       'date', 'year', 'month', 'dayofweek', 'hour', 'ucr_part',\n",
    "       'street', 'lat', 'long', 'location']\n",
    "df.head()"
   ]
  },
  {
   "cell_type": "markdown",
   "metadata": {},
   "source": [
    "# Data Processing and Feature Engineering"
   ]
  },
  {
   "cell_type": "code",
   "execution_count": 55,
   "metadata": {
    "ExecuteTime": {
     "end_time": "2019-10-31T02:16:44.837183Z",
     "start_time": "2019-10-31T02:16:44.790466Z"
    }
   },
   "outputs": [],
   "source": [
    "from bhishan.util_ds import get_column_descriptions"
   ]
  },
  {
   "cell_type": "markdown",
   "metadata": {},
   "source": [
    "## Date time features"
   ]
  },
  {
   "cell_type": "code",
   "execution_count": 56,
   "metadata": {
    "ExecuteTime": {
     "end_time": "2019-10-31T02:16:44.904151Z",
     "start_time": "2019-10-31T02:16:44.840131Z"
    }
   },
   "outputs": [],
   "source": [
    "from pandas.api.types import CategoricalDtype"
   ]
  },
  {
   "cell_type": "code",
   "execution_count": 57,
   "metadata": {
    "ExecuteTime": {
     "end_time": "2019-10-31T02:16:44.956640Z",
     "start_time": "2019-10-31T02:16:44.908439Z"
    }
   },
   "outputs": [],
   "source": [
    "# we already have year, month and hour as numeric type\n",
    "# we need to make occurred on date as datetime object"
   ]
  },
  {
   "cell_type": "code",
   "execution_count": 58,
   "metadata": {
    "ExecuteTime": {
     "end_time": "2019-10-31T02:16:45.099424Z",
     "start_time": "2019-10-31T02:16:44.959887Z"
    }
   },
   "outputs": [],
   "source": [
    "df['date'] = pd.to_datetime(df['date'], errors='coerce')"
   ]
  },
  {
   "cell_type": "code",
   "execution_count": 71,
   "metadata": {
    "ExecuteTime": {
     "end_time": "2019-10-31T02:18:17.826980Z",
     "start_time": "2019-10-31T02:18:17.763048Z"
    }
   },
   "outputs": [
    {
     "data": {
      "text/html": [
       "<div>\n",
       "<style scoped>\n",
       "    .dataframe tbody tr th:only-of-type {\n",
       "        vertical-align: middle;\n",
       "    }\n",
       "\n",
       "    .dataframe tbody tr th {\n",
       "        vertical-align: top;\n",
       "    }\n",
       "\n",
       "    .dataframe thead th {\n",
       "        text-align: right;\n",
       "    }\n",
       "</style>\n",
       "<table border=\"1\" class=\"dataframe\">\n",
       "  <thead>\n",
       "    <tr style=\"text-align: right;\">\n",
       "      <th></th>\n",
       "      <th>0</th>\n",
       "      <th>1</th>\n",
       "      <th>2</th>\n",
       "      <th>3</th>\n",
       "      <th>4</th>\n",
       "      <th>5</th>\n",
       "      <th>6</th>\n",
       "    </tr>\n",
       "  </thead>\n",
       "  <tbody>\n",
       "    <tr>\n",
       "      <th>0</th>\n",
       "      <td>ceil</td>\n",
       "      <td>days_in_month</td>\n",
       "      <td>is_month_end</td>\n",
       "      <td>microsecond</td>\n",
       "      <td>quarter</td>\n",
       "      <td>to_period</td>\n",
       "      <td>week</td>\n",
       "    </tr>\n",
       "    <tr>\n",
       "      <th>1</th>\n",
       "      <td>date</td>\n",
       "      <td>daysinmonth</td>\n",
       "      <td>is_month_start</td>\n",
       "      <td>minute</td>\n",
       "      <td>round</td>\n",
       "      <td>to_pydatetime</td>\n",
       "      <td>weekday</td>\n",
       "    </tr>\n",
       "    <tr>\n",
       "      <th>2</th>\n",
       "      <td>day</td>\n",
       "      <td>floor</td>\n",
       "      <td>is_quarter_end</td>\n",
       "      <td>month</td>\n",
       "      <td>second</td>\n",
       "      <td>tz</td>\n",
       "      <td>weekday_name</td>\n",
       "    </tr>\n",
       "    <tr>\n",
       "      <th>3</th>\n",
       "      <td>day_name</td>\n",
       "      <td>freq</td>\n",
       "      <td>is_quarter_start</td>\n",
       "      <td>month_name</td>\n",
       "      <td>strftime</td>\n",
       "      <td>tz_convert</td>\n",
       "      <td>weekofyear</td>\n",
       "    </tr>\n",
       "    <tr>\n",
       "      <th>4</th>\n",
       "      <td>dayofweek</td>\n",
       "      <td>hour</td>\n",
       "      <td>is_year_end</td>\n",
       "      <td>nanosecond</td>\n",
       "      <td>timetz</td>\n",
       "      <td>tz_localize</td>\n",
       "      <td>year</td>\n",
       "    </tr>\n",
       "    <tr>\n",
       "      <th>5</th>\n",
       "      <td>dayofyear</td>\n",
       "      <td>is_leap_year</td>\n",
       "      <td>is_year_start</td>\n",
       "      <td>normalize</td>\n",
       "      <td></td>\n",
       "      <td></td>\n",
       "      <td></td>\n",
       "    </tr>\n",
       "  </tbody>\n",
       "</table>\n",
       "</div>"
      ],
      "text/plain": [
       "           0              1                 2            3         4  \\\n",
       "0       ceil  days_in_month      is_month_end  microsecond   quarter   \n",
       "1       date    daysinmonth    is_month_start       minute     round   \n",
       "2        day          floor    is_quarter_end        month    second   \n",
       "3   day_name           freq  is_quarter_start   month_name  strftime   \n",
       "4  dayofweek           hour       is_year_end   nanosecond    timetz   \n",
       "5  dayofyear   is_leap_year     is_year_start    normalize             \n",
       "\n",
       "               5             6  \n",
       "0      to_period          week  \n",
       "1  to_pydatetime       weekday  \n",
       "2             tz  weekday_name  \n",
       "3     tz_convert    weekofyear  \n",
       "4    tz_localize          year  \n",
       "5                               "
      ]
     },
     "execution_count": 71,
     "metadata": {},
     "output_type": "execute_result"
    }
   ],
   "source": [
    "show_method_attributes(df['date'].dt)"
   ]
  },
  {
   "cell_type": "code",
   "execution_count": 73,
   "metadata": {
    "ExecuteTime": {
     "end_time": "2019-10-31T02:20:21.762548Z",
     "start_time": "2019-10-31T02:20:21.456606Z"
    }
   },
   "outputs": [
    {
     "data": {
      "text/html": [
       "<div>\n",
       "<style scoped>\n",
       "    .dataframe tbody tr th:only-of-type {\n",
       "        vertical-align: middle;\n",
       "    }\n",
       "\n",
       "    .dataframe tbody tr th {\n",
       "        vertical-align: top;\n",
       "    }\n",
       "\n",
       "    .dataframe thead th {\n",
       "        text-align: right;\n",
       "    }\n",
       "</style>\n",
       "<table border=\"1\" class=\"dataframe\">\n",
       "  <thead>\n",
       "    <tr style=\"text-align: right;\">\n",
       "      <th></th>\n",
       "      <th>incident</th>\n",
       "      <th>code</th>\n",
       "      <th>group</th>\n",
       "      <th>description</th>\n",
       "      <th>district</th>\n",
       "      <th>area</th>\n",
       "      <th>shooting</th>\n",
       "      <th>date</th>\n",
       "      <th>year</th>\n",
       "      <th>month</th>\n",
       "      <th>dayofweek</th>\n",
       "      <th>hour</th>\n",
       "      <th>ucr_part</th>\n",
       "      <th>street</th>\n",
       "      <th>lat</th>\n",
       "      <th>long</th>\n",
       "      <th>location</th>\n",
       "      <th>dayofmonth</th>\n",
       "      <th>dayofyear</th>\n",
       "      <th>weekofyear</th>\n",
       "      <th>quarter</th>\n",
       "      <th>day_name</th>\n",
       "      <th>month_name</th>\n",
       "    </tr>\n",
       "  </thead>\n",
       "  <tbody>\n",
       "    <tr>\n",
       "      <th>0</th>\n",
       "      <td>I182070945</td>\n",
       "      <td>619</td>\n",
       "      <td>Larceny</td>\n",
       "      <td>LARCENY ALL OTHERS</td>\n",
       "      <td>D14</td>\n",
       "      <td>808</td>\n",
       "      <td>N</td>\n",
       "      <td>2018-09-02 13:00:00</td>\n",
       "      <td>2018</td>\n",
       "      <td>9</td>\n",
       "      <td>6</td>\n",
       "      <td>13</td>\n",
       "      <td>Part One</td>\n",
       "      <td>LINCOLN ST</td>\n",
       "      <td>42.357791</td>\n",
       "      <td>-71.139371</td>\n",
       "      <td>(42.35779134, -71.13937053)</td>\n",
       "      <td>2</td>\n",
       "      <td>245</td>\n",
       "      <td>35</td>\n",
       "      <td>3</td>\n",
       "      <td>Sunday</td>\n",
       "      <td>September</td>\n",
       "    </tr>\n",
       "    <tr>\n",
       "      <th>1</th>\n",
       "      <td>I182070943</td>\n",
       "      <td>1402</td>\n",
       "      <td>Vandalism</td>\n",
       "      <td>VANDALISM</td>\n",
       "      <td>C11</td>\n",
       "      <td>347</td>\n",
       "      <td>N</td>\n",
       "      <td>2018-08-21 00:00:00</td>\n",
       "      <td>2018</td>\n",
       "      <td>8</td>\n",
       "      <td>1</td>\n",
       "      <td>0</td>\n",
       "      <td>Part Two</td>\n",
       "      <td>HECLA ST</td>\n",
       "      <td>42.306821</td>\n",
       "      <td>-71.060300</td>\n",
       "      <td>(42.30682138, -71.06030035)</td>\n",
       "      <td>21</td>\n",
       "      <td>233</td>\n",
       "      <td>34</td>\n",
       "      <td>3</td>\n",
       "      <td>Tuesday</td>\n",
       "      <td>August</td>\n",
       "    </tr>\n",
       "    <tr>\n",
       "      <th>2</th>\n",
       "      <td>I182070941</td>\n",
       "      <td>3410</td>\n",
       "      <td>Towed</td>\n",
       "      <td>TOWED MOTOR VEHICLE</td>\n",
       "      <td>D4</td>\n",
       "      <td>151</td>\n",
       "      <td>N</td>\n",
       "      <td>2018-09-03 19:27:00</td>\n",
       "      <td>2018</td>\n",
       "      <td>9</td>\n",
       "      <td>0</td>\n",
       "      <td>19</td>\n",
       "      <td>Part Three</td>\n",
       "      <td>CAZENOVE ST</td>\n",
       "      <td>42.346589</td>\n",
       "      <td>-71.072429</td>\n",
       "      <td>(42.34658879, -71.07242943)</td>\n",
       "      <td>3</td>\n",
       "      <td>246</td>\n",
       "      <td>36</td>\n",
       "      <td>3</td>\n",
       "      <td>Monday</td>\n",
       "      <td>September</td>\n",
       "    </tr>\n",
       "    <tr>\n",
       "      <th>3</th>\n",
       "      <td>I182070940</td>\n",
       "      <td>3114</td>\n",
       "      <td>Investigate Property</td>\n",
       "      <td>INVESTIGATE PROPERTY</td>\n",
       "      <td>D4</td>\n",
       "      <td>272</td>\n",
       "      <td>N</td>\n",
       "      <td>2018-09-03 21:16:00</td>\n",
       "      <td>2018</td>\n",
       "      <td>9</td>\n",
       "      <td>0</td>\n",
       "      <td>21</td>\n",
       "      <td>Part Three</td>\n",
       "      <td>NEWCOMB ST</td>\n",
       "      <td>42.334182</td>\n",
       "      <td>-71.078664</td>\n",
       "      <td>(42.33418175, -71.07866441)</td>\n",
       "      <td>3</td>\n",
       "      <td>246</td>\n",
       "      <td>36</td>\n",
       "      <td>3</td>\n",
       "      <td>Monday</td>\n",
       "      <td>September</td>\n",
       "    </tr>\n",
       "    <tr>\n",
       "      <th>4</th>\n",
       "      <td>I182070938</td>\n",
       "      <td>3114</td>\n",
       "      <td>Investigate Property</td>\n",
       "      <td>INVESTIGATE PROPERTY</td>\n",
       "      <td>B3</td>\n",
       "      <td>421</td>\n",
       "      <td>N</td>\n",
       "      <td>2018-09-03 21:05:00</td>\n",
       "      <td>2018</td>\n",
       "      <td>9</td>\n",
       "      <td>0</td>\n",
       "      <td>21</td>\n",
       "      <td>Part Three</td>\n",
       "      <td>DELHI ST</td>\n",
       "      <td>42.275365</td>\n",
       "      <td>-71.090361</td>\n",
       "      <td>(42.27536542, -71.09036101)</td>\n",
       "      <td>3</td>\n",
       "      <td>246</td>\n",
       "      <td>36</td>\n",
       "      <td>3</td>\n",
       "      <td>Monday</td>\n",
       "      <td>September</td>\n",
       "    </tr>\n",
       "  </tbody>\n",
       "</table>\n",
       "</div>"
      ],
      "text/plain": [
       "     incident  code                 group           description district area  \\\n",
       "0  I182070945   619               Larceny    LARCENY ALL OTHERS      D14  808   \n",
       "1  I182070943  1402             Vandalism             VANDALISM      C11  347   \n",
       "2  I182070941  3410                 Towed   TOWED MOTOR VEHICLE       D4  151   \n",
       "3  I182070940  3114  Investigate Property  INVESTIGATE PROPERTY       D4  272   \n",
       "4  I182070938  3114  Investigate Property  INVESTIGATE PROPERTY       B3  421   \n",
       "\n",
       "  shooting                date  year  month dayofweek  hour    ucr_part  \\\n",
       "0        N 2018-09-02 13:00:00  2018      9         6    13    Part One   \n",
       "1        N 2018-08-21 00:00:00  2018      8         1     0    Part Two   \n",
       "2        N 2018-09-03 19:27:00  2018      9         0    19  Part Three   \n",
       "3        N 2018-09-03 21:16:00  2018      9         0    21  Part Three   \n",
       "4        N 2018-09-03 21:05:00  2018      9         0    21  Part Three   \n",
       "\n",
       "        street        lat       long                     location dayofmonth  \\\n",
       "0   LINCOLN ST  42.357791 -71.139371  (42.35779134, -71.13937053)          2   \n",
       "1     HECLA ST  42.306821 -71.060300  (42.30682138, -71.06030035)         21   \n",
       "2  CAZENOVE ST  42.346589 -71.072429  (42.34658879, -71.07242943)          3   \n",
       "3   NEWCOMB ST  42.334182 -71.078664  (42.33418175, -71.07866441)          3   \n",
       "4     DELHI ST  42.275365 -71.090361  (42.27536542, -71.09036101)          3   \n",
       "\n",
       "  dayofyear weekofyear quarter day_name month_name  \n",
       "0       245         35       3   Sunday  September  \n",
       "1       233         34       3  Tuesday     August  \n",
       "2       246         36       3   Monday  September  \n",
       "3       246         36       3   Monday  September  \n",
       "4       246         36       3   Monday  September  "
      ]
     },
     "execution_count": 73,
     "metadata": {},
     "output_type": "execute_result"
    }
   ],
   "source": [
    "df['dayofweek']  = df['date'].dt.dayofweek.astype(CategoricalDtype())\n",
    "df['dayofmonth'] = df['date'].dt.day.astype(CategoricalDtype())\n",
    "df['dayofyear']  = df['date'].dt.dayofyear.astype(CategoricalDtype())\n",
    "df['weekofyear'] = df['date'].dt.weekofyear.astype(CategoricalDtype())\n",
    "df['quarter']    = df['date'].dt.quarter.astype(CategoricalDtype())\n",
    "\n",
    "df['day_name']   = df['date'].dt.day_name().astype(CategoricalDtype())\n",
    "df['month_name'] = df['date'].dt.month_name().astype(CategoricalDtype())\n",
    "\n",
    "df.head()"
   ]
  },
  {
   "cell_type": "markdown",
   "metadata": {},
   "source": [
    "## Categorical Features\n",
    "Ref: https://pandas.pydata.org/pandas-docs/stable/user_guide/categorical.html\n",
    "\n",
    "- Some categorical features may be number type, make them string type.\n",
    "- Some categorical features may be nans make them 'Missing'\n",
    "- We may fill categorical features by mode."
   ]
  },
  {
   "cell_type": "code",
   "execution_count": 74,
   "metadata": {
    "ExecuteTime": {
     "end_time": "2019-10-31T02:20:45.857266Z",
     "start_time": "2019-10-31T02:20:45.356867Z"
    }
   },
   "outputs": [
    {
     "data": {
      "text/html": [
       "<style  type=\"text/css\" >\n",
       "    #T_0bc99574_fb85_11e9_a980_acde48001122row0_col1 {\n",
       "            background:  salmon;\n",
       "        }    #T_0bc99574_fb85_11e9_a980_acde48001122row2_col1 {\n",
       "            background:  salmon;\n",
       "        }    #T_0bc99574_fb85_11e9_a980_acde48001122row3_col1 {\n",
       "            background:  salmon;\n",
       "        }    #T_0bc99574_fb85_11e9_a980_acde48001122row4_col1 {\n",
       "            background:  salmon;\n",
       "        }    #T_0bc99574_fb85_11e9_a980_acde48001122row5_col1 {\n",
       "            background:  salmon;\n",
       "        }    #T_0bc99574_fb85_11e9_a980_acde48001122row6_col1 {\n",
       "            background:  salmon;\n",
       "        }    #T_0bc99574_fb85_11e9_a980_acde48001122row12_col1 {\n",
       "            background:  salmon;\n",
       "        }    #T_0bc99574_fb85_11e9_a980_acde48001122row13_col1 {\n",
       "            background:  salmon;\n",
       "        }    #T_0bc99574_fb85_11e9_a980_acde48001122row16_col1 {\n",
       "            background:  salmon;\n",
       "        }</style><table id=\"T_0bc99574_fb85_11e9_a980_acde48001122\" ><thead>    <tr>        <th class=\"blank level0\" ></th>        <th class=\"col_heading level0 col0\" >column</th>        <th class=\"col_heading level0 col1\" >dtype</th>        <th class=\"col_heading level0 col2\" >nunique</th>        <th class=\"col_heading level0 col3\" >nans</th>        <th class=\"col_heading level0 col4\" >nans_pct</th>        <th class=\"col_heading level0 col5\" >nzeros</th>        <th class=\"col_heading level0 col6\" >nzeros_pct</th>    </tr></thead><tbody>\n",
       "                <tr>\n",
       "                        <th id=\"T_0bc99574_fb85_11e9_a980_acde48001122level0_row0\" class=\"row_heading level0 row0\" >0</th>\n",
       "                        <td id=\"T_0bc99574_fb85_11e9_a980_acde48001122row0_col0\" class=\"data row0 col0\" >incident</td>\n",
       "                        <td id=\"T_0bc99574_fb85_11e9_a980_acde48001122row0_col1\" class=\"data row0 col1\" >object</td>\n",
       "                        <td id=\"T_0bc99574_fb85_11e9_a980_acde48001122row0_col2\" class=\"data row0 col2\" >282517</td>\n",
       "                        <td id=\"T_0bc99574_fb85_11e9_a980_acde48001122row0_col3\" class=\"data row0 col3\" >0</td>\n",
       "                        <td id=\"T_0bc99574_fb85_11e9_a980_acde48001122row0_col4\" class=\"data row0 col4\" >0.0%</td>\n",
       "                        <td id=\"T_0bc99574_fb85_11e9_a980_acde48001122row0_col5\" class=\"data row0 col5\" >0</td>\n",
       "                        <td id=\"T_0bc99574_fb85_11e9_a980_acde48001122row0_col6\" class=\"data row0 col6\" >0.0%</td>\n",
       "            </tr>\n",
       "            <tr>\n",
       "                        <th id=\"T_0bc99574_fb85_11e9_a980_acde48001122level0_row1\" class=\"row_heading level0 row1\" >1</th>\n",
       "                        <td id=\"T_0bc99574_fb85_11e9_a980_acde48001122row1_col0\" class=\"data row1 col0\" >code</td>\n",
       "                        <td id=\"T_0bc99574_fb85_11e9_a980_acde48001122row1_col1\" class=\"data row1 col1\" >int64</td>\n",
       "                        <td id=\"T_0bc99574_fb85_11e9_a980_acde48001122row1_col2\" class=\"data row1 col2\" >222</td>\n",
       "                        <td id=\"T_0bc99574_fb85_11e9_a980_acde48001122row1_col3\" class=\"data row1 col3\" >0</td>\n",
       "                        <td id=\"T_0bc99574_fb85_11e9_a980_acde48001122row1_col4\" class=\"data row1 col4\" >0.0%</td>\n",
       "                        <td id=\"T_0bc99574_fb85_11e9_a980_acde48001122row1_col5\" class=\"data row1 col5\" >0</td>\n",
       "                        <td id=\"T_0bc99574_fb85_11e9_a980_acde48001122row1_col6\" class=\"data row1 col6\" >0.0%</td>\n",
       "            </tr>\n",
       "            <tr>\n",
       "                        <th id=\"T_0bc99574_fb85_11e9_a980_acde48001122level0_row2\" class=\"row_heading level0 row2\" >2</th>\n",
       "                        <td id=\"T_0bc99574_fb85_11e9_a980_acde48001122row2_col0\" class=\"data row2 col0\" >group</td>\n",
       "                        <td id=\"T_0bc99574_fb85_11e9_a980_acde48001122row2_col1\" class=\"data row2 col1\" >object</td>\n",
       "                        <td id=\"T_0bc99574_fb85_11e9_a980_acde48001122row2_col2\" class=\"data row2 col2\" >67</td>\n",
       "                        <td id=\"T_0bc99574_fb85_11e9_a980_acde48001122row2_col3\" class=\"data row2 col3\" >0</td>\n",
       "                        <td id=\"T_0bc99574_fb85_11e9_a980_acde48001122row2_col4\" class=\"data row2 col4\" >0.0%</td>\n",
       "                        <td id=\"T_0bc99574_fb85_11e9_a980_acde48001122row2_col5\" class=\"data row2 col5\" >0</td>\n",
       "                        <td id=\"T_0bc99574_fb85_11e9_a980_acde48001122row2_col6\" class=\"data row2 col6\" >0.0%</td>\n",
       "            </tr>\n",
       "            <tr>\n",
       "                        <th id=\"T_0bc99574_fb85_11e9_a980_acde48001122level0_row3\" class=\"row_heading level0 row3\" >3</th>\n",
       "                        <td id=\"T_0bc99574_fb85_11e9_a980_acde48001122row3_col0\" class=\"data row3 col0\" >description</td>\n",
       "                        <td id=\"T_0bc99574_fb85_11e9_a980_acde48001122row3_col1\" class=\"data row3 col1\" >object</td>\n",
       "                        <td id=\"T_0bc99574_fb85_11e9_a980_acde48001122row3_col2\" class=\"data row3 col2\" >244</td>\n",
       "                        <td id=\"T_0bc99574_fb85_11e9_a980_acde48001122row3_col3\" class=\"data row3 col3\" >0</td>\n",
       "                        <td id=\"T_0bc99574_fb85_11e9_a980_acde48001122row3_col4\" class=\"data row3 col4\" >0.0%</td>\n",
       "                        <td id=\"T_0bc99574_fb85_11e9_a980_acde48001122row3_col5\" class=\"data row3 col5\" >0</td>\n",
       "                        <td id=\"T_0bc99574_fb85_11e9_a980_acde48001122row3_col6\" class=\"data row3 col6\" >0.0%</td>\n",
       "            </tr>\n",
       "            <tr>\n",
       "                        <th id=\"T_0bc99574_fb85_11e9_a980_acde48001122level0_row4\" class=\"row_heading level0 row4\" >4</th>\n",
       "                        <td id=\"T_0bc99574_fb85_11e9_a980_acde48001122row4_col0\" class=\"data row4 col0\" >district</td>\n",
       "                        <td id=\"T_0bc99574_fb85_11e9_a980_acde48001122row4_col1\" class=\"data row4 col1\" >object</td>\n",
       "                        <td id=\"T_0bc99574_fb85_11e9_a980_acde48001122row4_col2\" class=\"data row4 col2\" >12</td>\n",
       "                        <td id=\"T_0bc99574_fb85_11e9_a980_acde48001122row4_col3\" class=\"data row4 col3\" >1765</td>\n",
       "                        <td id=\"T_0bc99574_fb85_11e9_a980_acde48001122row4_col4\" class=\"data row4 col4\" >0.55%</td>\n",
       "                        <td id=\"T_0bc99574_fb85_11e9_a980_acde48001122row4_col5\" class=\"data row4 col5\" >0</td>\n",
       "                        <td id=\"T_0bc99574_fb85_11e9_a980_acde48001122row4_col6\" class=\"data row4 col6\" >0.0%</td>\n",
       "            </tr>\n",
       "            <tr>\n",
       "                        <th id=\"T_0bc99574_fb85_11e9_a980_acde48001122level0_row5\" class=\"row_heading level0 row5\" >5</th>\n",
       "                        <td id=\"T_0bc99574_fb85_11e9_a980_acde48001122row5_col0\" class=\"data row5 col0\" >area</td>\n",
       "                        <td id=\"T_0bc99574_fb85_11e9_a980_acde48001122row5_col1\" class=\"data row5 col1\" >object</td>\n",
       "                        <td id=\"T_0bc99574_fb85_11e9_a980_acde48001122row5_col2\" class=\"data row5 col2\" >879</td>\n",
       "                        <td id=\"T_0bc99574_fb85_11e9_a980_acde48001122row5_col3\" class=\"data row5 col3\" >0</td>\n",
       "                        <td id=\"T_0bc99574_fb85_11e9_a980_acde48001122row5_col4\" class=\"data row5 col4\" >0.0%</td>\n",
       "                        <td id=\"T_0bc99574_fb85_11e9_a980_acde48001122row5_col5\" class=\"data row5 col5\" >0</td>\n",
       "                        <td id=\"T_0bc99574_fb85_11e9_a980_acde48001122row5_col6\" class=\"data row5 col6\" >0.0%</td>\n",
       "            </tr>\n",
       "            <tr>\n",
       "                        <th id=\"T_0bc99574_fb85_11e9_a980_acde48001122level0_row6\" class=\"row_heading level0 row6\" >6</th>\n",
       "                        <td id=\"T_0bc99574_fb85_11e9_a980_acde48001122row6_col0\" class=\"data row6 col0\" >shooting</td>\n",
       "                        <td id=\"T_0bc99574_fb85_11e9_a980_acde48001122row6_col1\" class=\"data row6 col1\" >object</td>\n",
       "                        <td id=\"T_0bc99574_fb85_11e9_a980_acde48001122row6_col2\" class=\"data row6 col2\" >2</td>\n",
       "                        <td id=\"T_0bc99574_fb85_11e9_a980_acde48001122row6_col3\" class=\"data row6 col3\" >0</td>\n",
       "                        <td id=\"T_0bc99574_fb85_11e9_a980_acde48001122row6_col4\" class=\"data row6 col4\" >0.0%</td>\n",
       "                        <td id=\"T_0bc99574_fb85_11e9_a980_acde48001122row6_col5\" class=\"data row6 col5\" >0</td>\n",
       "                        <td id=\"T_0bc99574_fb85_11e9_a980_acde48001122row6_col6\" class=\"data row6 col6\" >0.0%</td>\n",
       "            </tr>\n",
       "            <tr>\n",
       "                        <th id=\"T_0bc99574_fb85_11e9_a980_acde48001122level0_row7\" class=\"row_heading level0 row7\" >7</th>\n",
       "                        <td id=\"T_0bc99574_fb85_11e9_a980_acde48001122row7_col0\" class=\"data row7 col0\" >date</td>\n",
       "                        <td id=\"T_0bc99574_fb85_11e9_a980_acde48001122row7_col1\" class=\"data row7 col1\" >datetime64[ns]</td>\n",
       "                        <td id=\"T_0bc99574_fb85_11e9_a980_acde48001122row7_col2\" class=\"data row7 col2\" >233229</td>\n",
       "                        <td id=\"T_0bc99574_fb85_11e9_a980_acde48001122row7_col3\" class=\"data row7 col3\" >0</td>\n",
       "                        <td id=\"T_0bc99574_fb85_11e9_a980_acde48001122row7_col4\" class=\"data row7 col4\" >0.0%</td>\n",
       "                        <td id=\"T_0bc99574_fb85_11e9_a980_acde48001122row7_col5\" class=\"data row7 col5\" >0</td>\n",
       "                        <td id=\"T_0bc99574_fb85_11e9_a980_acde48001122row7_col6\" class=\"data row7 col6\" >0.0%</td>\n",
       "            </tr>\n",
       "            <tr>\n",
       "                        <th id=\"T_0bc99574_fb85_11e9_a980_acde48001122level0_row8\" class=\"row_heading level0 row8\" >8</th>\n",
       "                        <td id=\"T_0bc99574_fb85_11e9_a980_acde48001122row8_col0\" class=\"data row8 col0\" >year</td>\n",
       "                        <td id=\"T_0bc99574_fb85_11e9_a980_acde48001122row8_col1\" class=\"data row8 col1\" >int64</td>\n",
       "                        <td id=\"T_0bc99574_fb85_11e9_a980_acde48001122row8_col2\" class=\"data row8 col2\" >4</td>\n",
       "                        <td id=\"T_0bc99574_fb85_11e9_a980_acde48001122row8_col3\" class=\"data row8 col3\" >0</td>\n",
       "                        <td id=\"T_0bc99574_fb85_11e9_a980_acde48001122row8_col4\" class=\"data row8 col4\" >0.0%</td>\n",
       "                        <td id=\"T_0bc99574_fb85_11e9_a980_acde48001122row8_col5\" class=\"data row8 col5\" >0</td>\n",
       "                        <td id=\"T_0bc99574_fb85_11e9_a980_acde48001122row8_col6\" class=\"data row8 col6\" >0.0%</td>\n",
       "            </tr>\n",
       "            <tr>\n",
       "                        <th id=\"T_0bc99574_fb85_11e9_a980_acde48001122level0_row9\" class=\"row_heading level0 row9\" >9</th>\n",
       "                        <td id=\"T_0bc99574_fb85_11e9_a980_acde48001122row9_col0\" class=\"data row9 col0\" >month</td>\n",
       "                        <td id=\"T_0bc99574_fb85_11e9_a980_acde48001122row9_col1\" class=\"data row9 col1\" >int64</td>\n",
       "                        <td id=\"T_0bc99574_fb85_11e9_a980_acde48001122row9_col2\" class=\"data row9 col2\" >12</td>\n",
       "                        <td id=\"T_0bc99574_fb85_11e9_a980_acde48001122row9_col3\" class=\"data row9 col3\" >0</td>\n",
       "                        <td id=\"T_0bc99574_fb85_11e9_a980_acde48001122row9_col4\" class=\"data row9 col4\" >0.0%</td>\n",
       "                        <td id=\"T_0bc99574_fb85_11e9_a980_acde48001122row9_col5\" class=\"data row9 col5\" >0</td>\n",
       "                        <td id=\"T_0bc99574_fb85_11e9_a980_acde48001122row9_col6\" class=\"data row9 col6\" >0.0%</td>\n",
       "            </tr>\n",
       "            <tr>\n",
       "                        <th id=\"T_0bc99574_fb85_11e9_a980_acde48001122level0_row10\" class=\"row_heading level0 row10\" >10</th>\n",
       "                        <td id=\"T_0bc99574_fb85_11e9_a980_acde48001122row10_col0\" class=\"data row10 col0\" >dayofweek</td>\n",
       "                        <td id=\"T_0bc99574_fb85_11e9_a980_acde48001122row10_col1\" class=\"data row10 col1\" >category</td>\n",
       "                        <td id=\"T_0bc99574_fb85_11e9_a980_acde48001122row10_col2\" class=\"data row10 col2\" >7</td>\n",
       "                        <td id=\"T_0bc99574_fb85_11e9_a980_acde48001122row10_col3\" class=\"data row10 col3\" >0</td>\n",
       "                        <td id=\"T_0bc99574_fb85_11e9_a980_acde48001122row10_col4\" class=\"data row10 col4\" >0.0%</td>\n",
       "                        <td id=\"T_0bc99574_fb85_11e9_a980_acde48001122row10_col5\" class=\"data row10 col5\" >45679</td>\n",
       "                        <td id=\"T_0bc99574_fb85_11e9_a980_acde48001122row10_col6\" class=\"data row10 col6\" >14.32%</td>\n",
       "            </tr>\n",
       "            <tr>\n",
       "                        <th id=\"T_0bc99574_fb85_11e9_a980_acde48001122level0_row11\" class=\"row_heading level0 row11\" >11</th>\n",
       "                        <td id=\"T_0bc99574_fb85_11e9_a980_acde48001122row11_col0\" class=\"data row11 col0\" >hour</td>\n",
       "                        <td id=\"T_0bc99574_fb85_11e9_a980_acde48001122row11_col1\" class=\"data row11 col1\" >int64</td>\n",
       "                        <td id=\"T_0bc99574_fb85_11e9_a980_acde48001122row11_col2\" class=\"data row11 col2\" >24</td>\n",
       "                        <td id=\"T_0bc99574_fb85_11e9_a980_acde48001122row11_col3\" class=\"data row11 col3\" >0</td>\n",
       "                        <td id=\"T_0bc99574_fb85_11e9_a980_acde48001122row11_col4\" class=\"data row11 col4\" >0.0%</td>\n",
       "                        <td id=\"T_0bc99574_fb85_11e9_a980_acde48001122row11_col5\" class=\"data row11 col5\" >15106</td>\n",
       "                        <td id=\"T_0bc99574_fb85_11e9_a980_acde48001122row11_col6\" class=\"data row11 col6\" >4.73%</td>\n",
       "            </tr>\n",
       "            <tr>\n",
       "                        <th id=\"T_0bc99574_fb85_11e9_a980_acde48001122level0_row12\" class=\"row_heading level0 row12\" >12</th>\n",
       "                        <td id=\"T_0bc99574_fb85_11e9_a980_acde48001122row12_col0\" class=\"data row12 col0\" >ucr_part</td>\n",
       "                        <td id=\"T_0bc99574_fb85_11e9_a980_acde48001122row12_col1\" class=\"data row12 col1\" >object</td>\n",
       "                        <td id=\"T_0bc99574_fb85_11e9_a980_acde48001122row12_col2\" class=\"data row12 col2\" >4</td>\n",
       "                        <td id=\"T_0bc99574_fb85_11e9_a980_acde48001122row12_col3\" class=\"data row12 col3\" >90</td>\n",
       "                        <td id=\"T_0bc99574_fb85_11e9_a980_acde48001122row12_col4\" class=\"data row12 col4\" >0.03%</td>\n",
       "                        <td id=\"T_0bc99574_fb85_11e9_a980_acde48001122row12_col5\" class=\"data row12 col5\" >0</td>\n",
       "                        <td id=\"T_0bc99574_fb85_11e9_a980_acde48001122row12_col6\" class=\"data row12 col6\" >0.0%</td>\n",
       "            </tr>\n",
       "            <tr>\n",
       "                        <th id=\"T_0bc99574_fb85_11e9_a980_acde48001122level0_row13\" class=\"row_heading level0 row13\" >13</th>\n",
       "                        <td id=\"T_0bc99574_fb85_11e9_a980_acde48001122row13_col0\" class=\"data row13 col0\" >street</td>\n",
       "                        <td id=\"T_0bc99574_fb85_11e9_a980_acde48001122row13_col1\" class=\"data row13 col1\" >object</td>\n",
       "                        <td id=\"T_0bc99574_fb85_11e9_a980_acde48001122row13_col2\" class=\"data row13 col2\" >4657</td>\n",
       "                        <td id=\"T_0bc99574_fb85_11e9_a980_acde48001122row13_col3\" class=\"data row13 col3\" >10871</td>\n",
       "                        <td id=\"T_0bc99574_fb85_11e9_a980_acde48001122row13_col4\" class=\"data row13 col4\" >3.41%</td>\n",
       "                        <td id=\"T_0bc99574_fb85_11e9_a980_acde48001122row13_col5\" class=\"data row13 col5\" >0</td>\n",
       "                        <td id=\"T_0bc99574_fb85_11e9_a980_acde48001122row13_col6\" class=\"data row13 col6\" >0.0%</td>\n",
       "            </tr>\n",
       "            <tr>\n",
       "                        <th id=\"T_0bc99574_fb85_11e9_a980_acde48001122level0_row14\" class=\"row_heading level0 row14\" >14</th>\n",
       "                        <td id=\"T_0bc99574_fb85_11e9_a980_acde48001122row14_col0\" class=\"data row14 col0\" >lat</td>\n",
       "                        <td id=\"T_0bc99574_fb85_11e9_a980_acde48001122row14_col1\" class=\"data row14 col1\" >float64</td>\n",
       "                        <td id=\"T_0bc99574_fb85_11e9_a980_acde48001122row14_col2\" class=\"data row14 col2\" >18177</td>\n",
       "                        <td id=\"T_0bc99574_fb85_11e9_a980_acde48001122row14_col3\" class=\"data row14 col3\" >20044</td>\n",
       "                        <td id=\"T_0bc99574_fb85_11e9_a980_acde48001122row14_col4\" class=\"data row14 col4\" >6.28%</td>\n",
       "                        <td id=\"T_0bc99574_fb85_11e9_a980_acde48001122row14_col5\" class=\"data row14 col5\" >0</td>\n",
       "                        <td id=\"T_0bc99574_fb85_11e9_a980_acde48001122row14_col6\" class=\"data row14 col6\" >0.0%</td>\n",
       "            </tr>\n",
       "            <tr>\n",
       "                        <th id=\"T_0bc99574_fb85_11e9_a980_acde48001122level0_row15\" class=\"row_heading level0 row15\" >15</th>\n",
       "                        <td id=\"T_0bc99574_fb85_11e9_a980_acde48001122row15_col0\" class=\"data row15 col0\" >long</td>\n",
       "                        <td id=\"T_0bc99574_fb85_11e9_a980_acde48001122row15_col1\" class=\"data row15 col1\" >float64</td>\n",
       "                        <td id=\"T_0bc99574_fb85_11e9_a980_acde48001122row15_col2\" class=\"data row15 col2\" >18177</td>\n",
       "                        <td id=\"T_0bc99574_fb85_11e9_a980_acde48001122row15_col3\" class=\"data row15 col3\" >20044</td>\n",
       "                        <td id=\"T_0bc99574_fb85_11e9_a980_acde48001122row15_col4\" class=\"data row15 col4\" >6.28%</td>\n",
       "                        <td id=\"T_0bc99574_fb85_11e9_a980_acde48001122row15_col5\" class=\"data row15 col5\" >0</td>\n",
       "                        <td id=\"T_0bc99574_fb85_11e9_a980_acde48001122row15_col6\" class=\"data row15 col6\" >0.0%</td>\n",
       "            </tr>\n",
       "            <tr>\n",
       "                        <th id=\"T_0bc99574_fb85_11e9_a980_acde48001122level0_row16\" class=\"row_heading level0 row16\" >16</th>\n",
       "                        <td id=\"T_0bc99574_fb85_11e9_a980_acde48001122row16_col0\" class=\"data row16 col0\" >location</td>\n",
       "                        <td id=\"T_0bc99574_fb85_11e9_a980_acde48001122row16_col1\" class=\"data row16 col1\" >object</td>\n",
       "                        <td id=\"T_0bc99574_fb85_11e9_a980_acde48001122row16_col2\" class=\"data row16 col2\" >18194</td>\n",
       "                        <td id=\"T_0bc99574_fb85_11e9_a980_acde48001122row16_col3\" class=\"data row16 col3\" >0</td>\n",
       "                        <td id=\"T_0bc99574_fb85_11e9_a980_acde48001122row16_col4\" class=\"data row16 col4\" >0.0%</td>\n",
       "                        <td id=\"T_0bc99574_fb85_11e9_a980_acde48001122row16_col5\" class=\"data row16 col5\" >0</td>\n",
       "                        <td id=\"T_0bc99574_fb85_11e9_a980_acde48001122row16_col6\" class=\"data row16 col6\" >0.0%</td>\n",
       "            </tr>\n",
       "            <tr>\n",
       "                        <th id=\"T_0bc99574_fb85_11e9_a980_acde48001122level0_row17\" class=\"row_heading level0 row17\" >17</th>\n",
       "                        <td id=\"T_0bc99574_fb85_11e9_a980_acde48001122row17_col0\" class=\"data row17 col0\" >dayofmonth</td>\n",
       "                        <td id=\"T_0bc99574_fb85_11e9_a980_acde48001122row17_col1\" class=\"data row17 col1\" >category</td>\n",
       "                        <td id=\"T_0bc99574_fb85_11e9_a980_acde48001122row17_col2\" class=\"data row17 col2\" >31</td>\n",
       "                        <td id=\"T_0bc99574_fb85_11e9_a980_acde48001122row17_col3\" class=\"data row17 col3\" >0</td>\n",
       "                        <td id=\"T_0bc99574_fb85_11e9_a980_acde48001122row17_col4\" class=\"data row17 col4\" >0.0%</td>\n",
       "                        <td id=\"T_0bc99574_fb85_11e9_a980_acde48001122row17_col5\" class=\"data row17 col5\" >0</td>\n",
       "                        <td id=\"T_0bc99574_fb85_11e9_a980_acde48001122row17_col6\" class=\"data row17 col6\" >0.0%</td>\n",
       "            </tr>\n",
       "            <tr>\n",
       "                        <th id=\"T_0bc99574_fb85_11e9_a980_acde48001122level0_row18\" class=\"row_heading level0 row18\" >18</th>\n",
       "                        <td id=\"T_0bc99574_fb85_11e9_a980_acde48001122row18_col0\" class=\"data row18 col0\" >dayofyear</td>\n",
       "                        <td id=\"T_0bc99574_fb85_11e9_a980_acde48001122row18_col1\" class=\"data row18 col1\" >category</td>\n",
       "                        <td id=\"T_0bc99574_fb85_11e9_a980_acde48001122row18_col2\" class=\"data row18 col2\" >366</td>\n",
       "                        <td id=\"T_0bc99574_fb85_11e9_a980_acde48001122row18_col3\" class=\"data row18 col3\" >0</td>\n",
       "                        <td id=\"T_0bc99574_fb85_11e9_a980_acde48001122row18_col4\" class=\"data row18 col4\" >0.0%</td>\n",
       "                        <td id=\"T_0bc99574_fb85_11e9_a980_acde48001122row18_col5\" class=\"data row18 col5\" >0</td>\n",
       "                        <td id=\"T_0bc99574_fb85_11e9_a980_acde48001122row18_col6\" class=\"data row18 col6\" >0.0%</td>\n",
       "            </tr>\n",
       "            <tr>\n",
       "                        <th id=\"T_0bc99574_fb85_11e9_a980_acde48001122level0_row19\" class=\"row_heading level0 row19\" >19</th>\n",
       "                        <td id=\"T_0bc99574_fb85_11e9_a980_acde48001122row19_col0\" class=\"data row19 col0\" >weekofyear</td>\n",
       "                        <td id=\"T_0bc99574_fb85_11e9_a980_acde48001122row19_col1\" class=\"data row19 col1\" >category</td>\n",
       "                        <td id=\"T_0bc99574_fb85_11e9_a980_acde48001122row19_col2\" class=\"data row19 col2\" >53</td>\n",
       "                        <td id=\"T_0bc99574_fb85_11e9_a980_acde48001122row19_col3\" class=\"data row19 col3\" >0</td>\n",
       "                        <td id=\"T_0bc99574_fb85_11e9_a980_acde48001122row19_col4\" class=\"data row19 col4\" >0.0%</td>\n",
       "                        <td id=\"T_0bc99574_fb85_11e9_a980_acde48001122row19_col5\" class=\"data row19 col5\" >0</td>\n",
       "                        <td id=\"T_0bc99574_fb85_11e9_a980_acde48001122row19_col6\" class=\"data row19 col6\" >0.0%</td>\n",
       "            </tr>\n",
       "            <tr>\n",
       "                        <th id=\"T_0bc99574_fb85_11e9_a980_acde48001122level0_row20\" class=\"row_heading level0 row20\" >20</th>\n",
       "                        <td id=\"T_0bc99574_fb85_11e9_a980_acde48001122row20_col0\" class=\"data row20 col0\" >quarter</td>\n",
       "                        <td id=\"T_0bc99574_fb85_11e9_a980_acde48001122row20_col1\" class=\"data row20 col1\" >category</td>\n",
       "                        <td id=\"T_0bc99574_fb85_11e9_a980_acde48001122row20_col2\" class=\"data row20 col2\" >4</td>\n",
       "                        <td id=\"T_0bc99574_fb85_11e9_a980_acde48001122row20_col3\" class=\"data row20 col3\" >0</td>\n",
       "                        <td id=\"T_0bc99574_fb85_11e9_a980_acde48001122row20_col4\" class=\"data row20 col4\" >0.0%</td>\n",
       "                        <td id=\"T_0bc99574_fb85_11e9_a980_acde48001122row20_col5\" class=\"data row20 col5\" >0</td>\n",
       "                        <td id=\"T_0bc99574_fb85_11e9_a980_acde48001122row20_col6\" class=\"data row20 col6\" >0.0%</td>\n",
       "            </tr>\n",
       "            <tr>\n",
       "                        <th id=\"T_0bc99574_fb85_11e9_a980_acde48001122level0_row21\" class=\"row_heading level0 row21\" >21</th>\n",
       "                        <td id=\"T_0bc99574_fb85_11e9_a980_acde48001122row21_col0\" class=\"data row21 col0\" >day_name</td>\n",
       "                        <td id=\"T_0bc99574_fb85_11e9_a980_acde48001122row21_col1\" class=\"data row21 col1\" >category</td>\n",
       "                        <td id=\"T_0bc99574_fb85_11e9_a980_acde48001122row21_col2\" class=\"data row21 col2\" >7</td>\n",
       "                        <td id=\"T_0bc99574_fb85_11e9_a980_acde48001122row21_col3\" class=\"data row21 col3\" >0</td>\n",
       "                        <td id=\"T_0bc99574_fb85_11e9_a980_acde48001122row21_col4\" class=\"data row21 col4\" >0.0%</td>\n",
       "                        <td id=\"T_0bc99574_fb85_11e9_a980_acde48001122row21_col5\" class=\"data row21 col5\" >0</td>\n",
       "                        <td id=\"T_0bc99574_fb85_11e9_a980_acde48001122row21_col6\" class=\"data row21 col6\" >0.0%</td>\n",
       "            </tr>\n",
       "            <tr>\n",
       "                        <th id=\"T_0bc99574_fb85_11e9_a980_acde48001122level0_row22\" class=\"row_heading level0 row22\" >22</th>\n",
       "                        <td id=\"T_0bc99574_fb85_11e9_a980_acde48001122row22_col0\" class=\"data row22 col0\" >month_name</td>\n",
       "                        <td id=\"T_0bc99574_fb85_11e9_a980_acde48001122row22_col1\" class=\"data row22 col1\" >category</td>\n",
       "                        <td id=\"T_0bc99574_fb85_11e9_a980_acde48001122row22_col2\" class=\"data row22 col2\" >12</td>\n",
       "                        <td id=\"T_0bc99574_fb85_11e9_a980_acde48001122row22_col3\" class=\"data row22 col3\" >0</td>\n",
       "                        <td id=\"T_0bc99574_fb85_11e9_a980_acde48001122row22_col4\" class=\"data row22 col4\" >0.0%</td>\n",
       "                        <td id=\"T_0bc99574_fb85_11e9_a980_acde48001122row22_col5\" class=\"data row22 col5\" >0</td>\n",
       "                        <td id=\"T_0bc99574_fb85_11e9_a980_acde48001122row22_col6\" class=\"data row22 col6\" >0.0%</td>\n",
       "            </tr>\n",
       "    </tbody></table>"
      ],
      "text/plain": [
       "<pandas.io.formats.style.Styler at 0x124d8ba90>"
      ]
     },
     "execution_count": 74,
     "metadata": {},
     "output_type": "execute_result"
    }
   ],
   "source": [
    "get_column_descriptions(df)\n",
    "# 99% shooting data is nans, we can drop this column"
   ]
  },
  {
   "cell_type": "code",
   "execution_count": 75,
   "metadata": {
    "ExecuteTime": {
     "end_time": "2019-10-31T02:20:45.944396Z",
     "start_time": "2019-10-31T02:20:45.859462Z"
    }
   },
   "outputs": [
    {
     "data": {
      "text/plain": [
       "Index(['incident', 'group', 'description', 'district', 'area', 'shooting',\n",
       "       'ucr_part', 'street', 'location'],\n",
       "      dtype='object')"
      ]
     },
     "execution_count": 75,
     "metadata": {},
     "output_type": "execute_result"
    }
   ],
   "source": [
    "cols_obj = df.select_dtypes(['object']).columns\n",
    "cols_obj"
   ]
  },
  {
   "cell_type": "code",
   "execution_count": 76,
   "metadata": {
    "ExecuteTime": {
     "end_time": "2019-10-31T02:20:46.222018Z",
     "start_time": "2019-10-31T02:20:45.952342Z"
    }
   },
   "outputs": [
    {
     "data": {
      "text/plain": [
       "incident       282517\n",
       "group              67\n",
       "description       244\n",
       "district           12\n",
       "area              879\n",
       "shooting            2\n",
       "ucr_part            4\n",
       "street           4657\n",
       "location        18194\n",
       "dtype: int64"
      ]
     },
     "execution_count": 76,
     "metadata": {},
     "output_type": "execute_result"
    }
   ],
   "source": [
    "df.select_dtypes(['object']).apply(pd.Series.nunique)"
   ]
  },
  {
   "cell_type": "code",
   "execution_count": 77,
   "metadata": {
    "ExecuteTime": {
     "end_time": "2019-10-31T02:20:46.257004Z",
     "start_time": "2019-10-31T02:20:46.223983Z"
    }
   },
   "outputs": [
    {
     "data": {
      "text/plain": [
       "319073"
      ]
     },
     "execution_count": 77,
     "metadata": {},
     "output_type": "execute_result"
    }
   ],
   "source": [
    "len(df)"
   ]
  },
  {
   "cell_type": "code",
   "execution_count": 78,
   "metadata": {
    "ExecuteTime": {
     "end_time": "2019-10-31T02:20:46.541910Z",
     "start_time": "2019-10-31T02:20:46.259731Z"
    }
   },
   "outputs": [
    {
     "data": {
      "text/plain": [
       "district    12\n",
       "shooting     2\n",
       "ucr_part     4\n",
       "dtype: int64"
      ]
     },
     "execution_count": 78,
     "metadata": {},
     "output_type": "execute_result"
    }
   ],
   "source": [
    "df.select_dtypes(['object']).apply(pd.Series.nunique).loc[lambda x: x<20]"
   ]
  },
  {
   "cell_type": "code",
   "execution_count": 79,
   "metadata": {
    "ExecuteTime": {
     "end_time": "2019-10-31T02:20:46.856048Z",
     "start_time": "2019-10-31T02:20:46.544241Z"
    }
   },
   "outputs": [
    {
     "name": "stdout",
     "output_type": "stream",
     "text": [
      "\n",
      "=========================================\n",
      "district\n",
      "B2     49945\n",
      "C11    42530\n",
      "D4     41915\n",
      "A1     35717\n",
      "B3     35442\n",
      "C6     23460\n",
      "D14    20127\n",
      "E13    17536\n",
      "E18    17348\n",
      "A7     13544\n",
      "E5     13239\n",
      "A15     6505\n",
      "Name: district, dtype: int64\n",
      "\n",
      "=========================================\n",
      "shooting\n",
      "N    318054\n",
      "Y      1019\n",
      "Name: shooting, dtype: int64\n",
      "\n",
      "=========================================\n",
      "ucr_part\n",
      "Part Three    158553\n",
      "Part Two       97569\n",
      "Part One       61629\n",
      "Other           1232\n",
      "Name: ucr_part, dtype: int64\n"
     ]
    }
   ],
   "source": [
    "cols_obj_small = df.select_dtypes(['object']).apply(pd.Series.nunique).loc[lambda x: x<20].index\n",
    "\n",
    "for c in cols_obj_small:\n",
    "    print('\\n=========================================')\n",
    "    print(c) \n",
    "    print(df[c].value_counts())"
   ]
  },
  {
   "cell_type": "markdown",
   "metadata": {},
   "source": [
    "# Missing Values"
   ]
  },
  {
   "cell_type": "code",
   "execution_count": 80,
   "metadata": {
    "ExecuteTime": {
     "end_time": "2019-10-31T02:20:46.936138Z",
     "start_time": "2019-10-31T02:20:46.858424Z"
    }
   },
   "outputs": [
    {
     "data": {
      "text/plain": [
       "N    318054\n",
       "Y      1019\n",
       "Name: shooting, dtype: int64"
      ]
     },
     "execution_count": 80,
     "metadata": {},
     "output_type": "execute_result"
    }
   ],
   "source": [
    "# make shootings nans as N\n",
    "df['shooting'] = df['shooting'].fillna('N')\n",
    "\n",
    "df['shooting'].value_counts()"
   ]
  },
  {
   "cell_type": "code",
   "execution_count": 81,
   "metadata": {
    "ExecuteTime": {
     "end_time": "2019-10-31T02:20:46.997227Z",
     "start_time": "2019-10-31T02:20:46.942453Z"
    }
   },
   "outputs": [],
   "source": [
    "df['lat'] = df['lat'].replace(-1, None)\n",
    "df['long'] = df['long'].replace(-1, None)"
   ]
  },
  {
   "cell_type": "markdown",
   "metadata": {},
   "source": [
    "# Save clean data"
   ]
  },
  {
   "cell_type": "code",
   "execution_count": 82,
   "metadata": {
    "ExecuteTime": {
     "end_time": "2019-10-31T02:20:50.530908Z",
     "start_time": "2019-10-31T02:20:47.001107Z"
    }
   },
   "outputs": [],
   "source": [
    "df.to_csv('../data/processed/data_cleaned.csv',index=False)"
   ]
  },
  {
   "cell_type": "code",
   "execution_count": null,
   "metadata": {},
   "outputs": [],
   "source": []
  }
 ],
 "metadata": {
  "kernelspec": {
   "display_name": "Python (dataSc)",
   "language": "python",
   "name": "datasc"
  },
  "language_info": {
   "codemirror_mode": {
    "name": "ipython",
    "version": 3
   },
   "file_extension": ".py",
   "mimetype": "text/x-python",
   "name": "python",
   "nbconvert_exporter": "python",
   "pygments_lexer": "ipython3",
   "version": "3.7.3"
  },
  "toc": {
   "base_numbering": 1,
   "nav_menu": {},
   "number_sections": true,
   "sideBar": true,
   "skip_h1_title": false,
   "title_cell": "Table of Contents",
   "title_sidebar": "Contents",
   "toc_cell": true,
   "toc_position": {},
   "toc_section_display": true,
   "toc_window_display": true
  }
 },
 "nbformat": 4,
 "nbformat_minor": 2
}
