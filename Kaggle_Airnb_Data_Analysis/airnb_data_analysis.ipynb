{
 "cells": [
  {
   "cell_type": "markdown",
   "metadata": {
    "toc": true
   },
   "source": [
    "<h1>Table of Contents<span class=\"tocSkip\"></span></h1>\n",
    "<div class=\"toc\"><ul class=\"toc-item\"><li><span><a href=\"#Imports\" data-toc-modified-id=\"Imports-1\"><span class=\"toc-item-num\">1&nbsp;&nbsp;</span>Imports</a></span></li><li><span><a href=\"#Check-for-nans\" data-toc-modified-id=\"Check-for-nans-2\"><span class=\"toc-item-num\">2&nbsp;&nbsp;</span>Check for nans</a></span></li><li><span><a href=\"#Age-Analysis\" data-toc-modified-id=\"Age-Analysis-3\"><span class=\"toc-item-num\">3&nbsp;&nbsp;</span>Age Analysis</a></span><ul class=\"toc-item\"><li><span><a href=\"#Plots-using-seaborn\" data-toc-modified-id=\"Plots-using-seaborn-3.1\"><span class=\"toc-item-num\">3.1&nbsp;&nbsp;</span>Plots using seaborn</a></span></li></ul></li><li><span><a href=\"#Gender-Analysis\" data-toc-modified-id=\"Gender-Analysis-4\"><span class=\"toc-item-num\">4&nbsp;&nbsp;</span>Gender Analysis</a></span></li><li><span><a href=\"#Histogram-Using-Bokeh\" data-toc-modified-id=\"Histogram-Using-Bokeh-5\"><span class=\"toc-item-num\">5&nbsp;&nbsp;</span>Histogram Using Bokeh</a></span></li></ul></div>"
   ]
  },
  {
   "cell_type": "markdown",
   "metadata": {},
   "source": [
    "Author: Bhishan Poudel  \n",
    "Date: Sep 2, 2018"
   ]
  },
  {
   "cell_type": "markdown",
   "metadata": {},
   "source": [
    "**Exploratory Data Analysis of Airnb Kaggle Data**\n",
    "\n",
    "**Age Analysis**\n",
    "1. Drop NaN values\n",
    "2. Take age between 18 to 100, inclusive.\n",
    "3. Convert age 1915 to 100 and 1997 to 18 and discard other large values."
   ]
  },
  {
   "cell_type": "markdown",
   "metadata": {},
   "source": [
    "# Imports"
   ]
  },
  {
   "cell_type": "code",
   "execution_count": 38,
   "metadata": {
    "ExecuteTime": {
     "end_time": "2018-10-05T02:20:35.362271Z",
     "start_time": "2018-10-05T02:20:35.350334Z"
    }
   },
   "outputs": [],
   "source": [
    "import numpy as np\n",
    "import pandas as pd\n",
    "import matplotlib.pyplot as plt\n",
    "import seaborn as sns\n",
    "\n",
    "# plot settings\n",
    "sns.set(style=\"darkgrid\")\n",
    "plt.style.use('ggplot')\n",
    "\n",
    "\n",
    "# Jupyter-notebook settings\n",
    "%matplotlib inline\n",
    "pd.set_option('display.max_row', 1000)\n",
    "pd.set_option('display.max_columns', 50)"
   ]
  },
  {
   "cell_type": "code",
   "execution_count": 39,
   "metadata": {
    "ExecuteTime": {
     "end_time": "2018-10-05T02:20:35.492206Z",
     "start_time": "2018-10-05T02:20:35.364962Z"
    }
   },
   "outputs": [
    {
     "name": "stdout",
     "output_type": "stream",
     "text": [
      "ls: ../input/*.csv: No such file or directory\r\n"
     ]
    }
   ],
   "source": [
    "! ls ../input/*.csv"
   ]
  },
  {
   "cell_type": "code",
   "execution_count": 40,
   "metadata": {
    "ExecuteTime": {
     "end_time": "2018-10-05T02:20:35.889890Z",
     "start_time": "2018-10-05T02:20:35.495360Z"
    }
   },
   "outputs": [
    {
     "name": "stdout",
     "output_type": "stream",
     "text": [
      "(213451, 16)\n"
     ]
    },
    {
     "data": {
      "text/html": [
       "<div>\n",
       "<style scoped>\n",
       "    .dataframe tbody tr th:only-of-type {\n",
       "        vertical-align: middle;\n",
       "    }\n",
       "\n",
       "    .dataframe tbody tr th {\n",
       "        vertical-align: top;\n",
       "    }\n",
       "\n",
       "    .dataframe thead th {\n",
       "        text-align: right;\n",
       "    }\n",
       "</style>\n",
       "<table border=\"1\" class=\"dataframe\">\n",
       "  <thead>\n",
       "    <tr style=\"text-align: right;\">\n",
       "      <th></th>\n",
       "      <th>id</th>\n",
       "      <th>date_account_created</th>\n",
       "      <th>timestamp_first_active</th>\n",
       "      <th>date_first_booking</th>\n",
       "      <th>gender</th>\n",
       "      <th>age</th>\n",
       "      <th>signup_method</th>\n",
       "      <th>signup_flow</th>\n",
       "      <th>language</th>\n",
       "      <th>affiliate_channel</th>\n",
       "      <th>affiliate_provider</th>\n",
       "      <th>first_affiliate_tracked</th>\n",
       "      <th>signup_app</th>\n",
       "      <th>first_device_type</th>\n",
       "      <th>first_browser</th>\n",
       "      <th>country_destination</th>\n",
       "    </tr>\n",
       "  </thead>\n",
       "  <tbody>\n",
       "    <tr>\n",
       "      <th>0</th>\n",
       "      <td>gxn3p5htnn</td>\n",
       "      <td>2010-06-28</td>\n",
       "      <td>20090319043255</td>\n",
       "      <td>NaN</td>\n",
       "      <td>-unknown-</td>\n",
       "      <td>NaN</td>\n",
       "      <td>facebook</td>\n",
       "      <td>0</td>\n",
       "      <td>en</td>\n",
       "      <td>direct</td>\n",
       "      <td>direct</td>\n",
       "      <td>untracked</td>\n",
       "      <td>Web</td>\n",
       "      <td>Mac Desktop</td>\n",
       "      <td>Chrome</td>\n",
       "      <td>NDF</td>\n",
       "    </tr>\n",
       "    <tr>\n",
       "      <th>1</th>\n",
       "      <td>820tgsjxq7</td>\n",
       "      <td>2011-05-25</td>\n",
       "      <td>20090523174809</td>\n",
       "      <td>NaN</td>\n",
       "      <td>MALE</td>\n",
       "      <td>38.0</td>\n",
       "      <td>facebook</td>\n",
       "      <td>0</td>\n",
       "      <td>en</td>\n",
       "      <td>seo</td>\n",
       "      <td>google</td>\n",
       "      <td>untracked</td>\n",
       "      <td>Web</td>\n",
       "      <td>Mac Desktop</td>\n",
       "      <td>Chrome</td>\n",
       "      <td>NDF</td>\n",
       "    </tr>\n",
       "    <tr>\n",
       "      <th>2</th>\n",
       "      <td>4ft3gnwmtx</td>\n",
       "      <td>2010-09-28</td>\n",
       "      <td>20090609231247</td>\n",
       "      <td>2010-08-02</td>\n",
       "      <td>FEMALE</td>\n",
       "      <td>56.0</td>\n",
       "      <td>basic</td>\n",
       "      <td>3</td>\n",
       "      <td>en</td>\n",
       "      <td>direct</td>\n",
       "      <td>direct</td>\n",
       "      <td>untracked</td>\n",
       "      <td>Web</td>\n",
       "      <td>Windows Desktop</td>\n",
       "      <td>IE</td>\n",
       "      <td>US</td>\n",
       "    </tr>\n",
       "    <tr>\n",
       "      <th>3</th>\n",
       "      <td>bjjt8pjhuk</td>\n",
       "      <td>2011-12-05</td>\n",
       "      <td>20091031060129</td>\n",
       "      <td>2012-09-08</td>\n",
       "      <td>FEMALE</td>\n",
       "      <td>42.0</td>\n",
       "      <td>facebook</td>\n",
       "      <td>0</td>\n",
       "      <td>en</td>\n",
       "      <td>direct</td>\n",
       "      <td>direct</td>\n",
       "      <td>untracked</td>\n",
       "      <td>Web</td>\n",
       "      <td>Mac Desktop</td>\n",
       "      <td>Firefox</td>\n",
       "      <td>other</td>\n",
       "    </tr>\n",
       "    <tr>\n",
       "      <th>4</th>\n",
       "      <td>87mebub9p4</td>\n",
       "      <td>2010-09-14</td>\n",
       "      <td>20091208061105</td>\n",
       "      <td>2010-02-18</td>\n",
       "      <td>-unknown-</td>\n",
       "      <td>41.0</td>\n",
       "      <td>basic</td>\n",
       "      <td>0</td>\n",
       "      <td>en</td>\n",
       "      <td>direct</td>\n",
       "      <td>direct</td>\n",
       "      <td>untracked</td>\n",
       "      <td>Web</td>\n",
       "      <td>Mac Desktop</td>\n",
       "      <td>Chrome</td>\n",
       "      <td>US</td>\n",
       "    </tr>\n",
       "  </tbody>\n",
       "</table>\n",
       "</div>"
      ],
      "text/plain": [
       "           id date_account_created  timestamp_first_active date_first_booking  \\\n",
       "0  gxn3p5htnn           2010-06-28          20090319043255                NaN   \n",
       "1  820tgsjxq7           2011-05-25          20090523174809                NaN   \n",
       "2  4ft3gnwmtx           2010-09-28          20090609231247         2010-08-02   \n",
       "3  bjjt8pjhuk           2011-12-05          20091031060129         2012-09-08   \n",
       "4  87mebub9p4           2010-09-14          20091208061105         2010-02-18   \n",
       "\n",
       "      gender   age signup_method  signup_flow language affiliate_channel  \\\n",
       "0  -unknown-   NaN      facebook            0       en            direct   \n",
       "1       MALE  38.0      facebook            0       en               seo   \n",
       "2     FEMALE  56.0         basic            3       en            direct   \n",
       "3     FEMALE  42.0      facebook            0       en            direct   \n",
       "4  -unknown-  41.0         basic            0       en            direct   \n",
       "\n",
       "  affiliate_provider first_affiliate_tracked signup_app first_device_type  \\\n",
       "0             direct               untracked        Web       Mac Desktop   \n",
       "1             google               untracked        Web       Mac Desktop   \n",
       "2             direct               untracked        Web   Windows Desktop   \n",
       "3             direct               untracked        Web       Mac Desktop   \n",
       "4             direct               untracked        Web       Mac Desktop   \n",
       "\n",
       "  first_browser country_destination  \n",
       "0        Chrome                 NDF  \n",
       "1        Chrome                 NDF  \n",
       "2            IE                  US  \n",
       "3       Firefox               other  \n",
       "4        Chrome                  US  "
      ]
     },
     "execution_count": 40,
     "metadata": {},
     "output_type": "execute_result"
    }
   ],
   "source": [
    "# load data\n",
    "users = pd.read_csv('input/train_users_2.csv',parse_dates=True)\n",
    "print(users.shape)\n",
    "users.head()"
   ]
  },
  {
   "cell_type": "code",
   "execution_count": 41,
   "metadata": {
    "ExecuteTime": {
     "end_time": "2018-10-05T02:20:35.945889Z",
     "start_time": "2018-10-05T02:20:35.892578Z"
    }
   },
   "outputs": [
    {
     "data": {
      "text/html": [
       "<div>\n",
       "<style scoped>\n",
       "    .dataframe tbody tr th:only-of-type {\n",
       "        vertical-align: middle;\n",
       "    }\n",
       "\n",
       "    .dataframe tbody tr th {\n",
       "        vertical-align: top;\n",
       "    }\n",
       "\n",
       "    .dataframe thead th {\n",
       "        text-align: right;\n",
       "    }\n",
       "</style>\n",
       "<table border=\"1\" class=\"dataframe\">\n",
       "  <thead>\n",
       "    <tr style=\"text-align: right;\">\n",
       "      <th></th>\n",
       "      <th>timestamp_first_active</th>\n",
       "      <th>age</th>\n",
       "      <th>signup_flow</th>\n",
       "    </tr>\n",
       "  </thead>\n",
       "  <tbody>\n",
       "    <tr>\n",
       "      <th>count</th>\n",
       "      <td>2.134510e+05</td>\n",
       "      <td>125461.000000</td>\n",
       "      <td>213451.000000</td>\n",
       "    </tr>\n",
       "    <tr>\n",
       "      <th>mean</th>\n",
       "      <td>2.013085e+13</td>\n",
       "      <td>49.668335</td>\n",
       "      <td>3.267387</td>\n",
       "    </tr>\n",
       "    <tr>\n",
       "      <th>std</th>\n",
       "      <td>9.253717e+09</td>\n",
       "      <td>155.666612</td>\n",
       "      <td>7.637707</td>\n",
       "    </tr>\n",
       "    <tr>\n",
       "      <th>min</th>\n",
       "      <td>2.009032e+13</td>\n",
       "      <td>1.000000</td>\n",
       "      <td>0.000000</td>\n",
       "    </tr>\n",
       "    <tr>\n",
       "      <th>25%</th>\n",
       "      <td>2.012123e+13</td>\n",
       "      <td>28.000000</td>\n",
       "      <td>0.000000</td>\n",
       "    </tr>\n",
       "    <tr>\n",
       "      <th>50%</th>\n",
       "      <td>2.013091e+13</td>\n",
       "      <td>34.000000</td>\n",
       "      <td>0.000000</td>\n",
       "    </tr>\n",
       "    <tr>\n",
       "      <th>75%</th>\n",
       "      <td>2.014031e+13</td>\n",
       "      <td>43.000000</td>\n",
       "      <td>0.000000</td>\n",
       "    </tr>\n",
       "    <tr>\n",
       "      <th>max</th>\n",
       "      <td>2.014063e+13</td>\n",
       "      <td>2014.000000</td>\n",
       "      <td>25.000000</td>\n",
       "    </tr>\n",
       "  </tbody>\n",
       "</table>\n",
       "</div>"
      ],
      "text/plain": [
       "       timestamp_first_active            age    signup_flow\n",
       "count            2.134510e+05  125461.000000  213451.000000\n",
       "mean             2.013085e+13      49.668335       3.267387\n",
       "std              9.253717e+09     155.666612       7.637707\n",
       "min              2.009032e+13       1.000000       0.000000\n",
       "25%              2.012123e+13      28.000000       0.000000\n",
       "50%              2.013091e+13      34.000000       0.000000\n",
       "75%              2.014031e+13      43.000000       0.000000\n",
       "max              2.014063e+13    2014.000000      25.000000"
      ]
     },
     "execution_count": 41,
     "metadata": {},
     "output_type": "execute_result"
    }
   ],
   "source": [
    "# describe\n",
    "users.describe()"
   ]
  },
  {
   "cell_type": "markdown",
   "metadata": {},
   "source": [
    "# Check for nans"
   ]
  },
  {
   "cell_type": "code",
   "execution_count": 42,
   "metadata": {
    "ExecuteTime": {
     "end_time": "2018-10-05T02:20:36.061594Z",
     "start_time": "2018-10-05T02:20:35.947991Z"
    }
   },
   "outputs": [
    {
     "data": {
      "text/plain": [
       "id                              0\n",
       "date_account_created            0\n",
       "timestamp_first_active          0\n",
       "date_first_booking         124543\n",
       "gender                          0\n",
       "age                         87990\n",
       "signup_method                   0\n",
       "signup_flow                     0\n",
       "language                        0\n",
       "affiliate_channel               0\n",
       "affiliate_provider              0\n",
       "first_affiliate_tracked      6065\n",
       "signup_app                      0\n",
       "first_device_type               0\n",
       "first_browser                   0\n",
       "country_destination             0\n",
       "dtype: int64"
      ]
     },
     "execution_count": 42,
     "metadata": {},
     "output_type": "execute_result"
    }
   ],
   "source": [
    "users.isnull().sum()"
   ]
  },
  {
   "cell_type": "markdown",
   "metadata": {},
   "source": [
    "We see a lot of nans for `date_first_booking` `age` and `first_affiliate_tracked`."
   ]
  },
  {
   "cell_type": "markdown",
   "metadata": {},
   "source": [
    "# Age Analysis"
   ]
  },
  {
   "cell_type": "markdown",
   "metadata": {},
   "source": [
    "Here, we see a lot of null values for age. Lets look at the age data."
   ]
  },
  {
   "cell_type": "code",
   "execution_count": 43,
   "metadata": {
    "ExecuteTime": {
     "end_time": "2018-10-05T02:20:36.072798Z",
     "start_time": "2018-10-05T02:20:36.063298Z"
    }
   },
   "outputs": [
    {
     "data": {
      "text/plain": [
       "192306    32.0\n",
       "176846    21.0\n",
       "17480     46.0\n",
       "15489     25.0\n",
       "83022      NaN\n",
       "73149     23.0\n",
       "Name: age, dtype: float64"
      ]
     },
     "execution_count": 43,
     "metadata": {},
     "output_type": "execute_result"
    }
   ],
   "source": [
    "np.random.seed(100)\n",
    "users.age.sample(6)"
   ]
  },
  {
   "cell_type": "code",
   "execution_count": 44,
   "metadata": {
    "ExecuteTime": {
     "end_time": "2018-10-05T02:20:36.093317Z",
     "start_time": "2018-10-05T02:20:36.074413Z"
    }
   },
   "outputs": [],
   "source": [
    "# drop na values from age\n",
    "users['age'] = users['age'].dropna()"
   ]
  },
  {
   "cell_type": "code",
   "execution_count": 45,
   "metadata": {
    "ExecuteTime": {
     "end_time": "2018-10-05T02:20:36.118055Z",
     "start_time": "2018-10-05T02:20:36.095182Z"
    }
   },
   "outputs": [
    {
     "data": {
      "text/plain": [
       "count    125461.000000\n",
       "mean         49.668335\n",
       "std         155.666612\n",
       "min           1.000000\n",
       "25%          28.000000\n",
       "50%          34.000000\n",
       "75%          43.000000\n",
       "max        2014.000000\n",
       "Name: age, dtype: float64"
      ]
     },
     "execution_count": 45,
     "metadata": {},
     "output_type": "execute_result"
    }
   ],
   "source": [
    "users.age.describe()"
   ]
  },
  {
   "cell_type": "markdown",
   "metadata": {},
   "source": [
    "We see age from 1 year to 2014. Looks like if somebody wants to put age 1, they put 2014 for the 2015 data.\n",
    "\n",
    "We need to be at least age 18 to register airnb account. \n",
    "\n",
    "https://www.airbnb.com/terms\n",
    "\n",
    "\n",
    "Oldest living person is Kane Tanaka of Japan with age 115 years.\n",
    "https://en.wikipedia.org/wiki/List_of_oldest_living_people\n",
    "\n",
    "\n",
    "Also, the longest verified living person was Jeane Calment 122 years old of \n",
    "France who died in 1997.\n",
    "\n",
    "https://en.wikipedia.org/wiki/List_of_the_verified_oldest_people"
   ]
  },
  {
   "cell_type": "code",
   "execution_count": 46,
   "metadata": {
    "ExecuteTime": {
     "end_time": "2018-10-05T02:20:36.263347Z",
     "start_time": "2018-10-05T02:20:36.119569Z"
    }
   },
   "outputs": [
    {
     "data": {
      "text/plain": [
       "<matplotlib.axes._subplots.AxesSubplot at 0x1149e93c8>"
      ]
     },
     "execution_count": 46,
     "metadata": {},
     "output_type": "execute_result"
    },
    {
     "data": {
      "image/png": "[encoded data removed]",
      "text/plain": [
       "<Figure size 432x288 with 1 Axes>"
      ]
     },
     "metadata": {
      "needs_background": "light"
     },
     "output_type": "display_data"
    }
   ],
   "source": [
    "users[users.age>100].age.hist(bins=5)"
   ]
  },
  {
   "cell_type": "code",
   "execution_count": 47,
   "metadata": {
    "ExecuteTime": {
     "end_time": "2018-10-05T02:20:36.456217Z",
     "start_time": "2018-10-05T02:20:36.265205Z"
    }
   },
   "outputs": [
    {
     "data": {
      "text/plain": [
       "<matplotlib.axes._subplots.AxesSubplot at 0x114a7eef0>"
      ]
     },
     "execution_count": 47,
     "metadata": {},
     "output_type": "execute_result"
    },
    {
     "data": {
      "image/png": "[encoded data removed]",
      "text/plain": [
       "<Figure size 432x288 with 1 Axes>"
      ]
     },
     "metadata": {
      "needs_background": "light"
     },
     "output_type": "display_data"
    }
   ],
   "source": [
    "users[ (users.age>100) & (users.age<500) ].age.hist(bins=5)"
   ]
  },
  {
   "cell_type": "markdown",
   "metadata": {},
   "source": [
    "We see a lot of people put age between 100 and 110. We can't really trust the age\n",
    "above 100 for so many number of people. We will analyze this data later. But for now,\n",
    "lets look the age range between above 1000. They might be confused age for the birth year."
   ]
  },
  {
   "cell_type": "code",
   "execution_count": 48,
   "metadata": {
    "ExecuteTime": {
     "end_time": "2018-10-05T02:20:36.470473Z",
     "start_time": "2018-10-05T02:20:36.460707Z"
    }
   },
   "outputs": [
    {
     "data": {
      "text/plain": [
       "2014.0    710\n",
       "2013.0     39\n",
       "1932.0      3\n",
       "1931.0      3\n",
       "1949.0      3\n",
       "1924.0      2\n",
       "1936.0      2\n",
       "1947.0      2\n",
       "1929.0      2\n",
       "1928.0      2\n",
       "1952.0      1\n",
       "1938.0      1\n",
       "1933.0      1\n",
       "1927.0      1\n",
       "1942.0      1\n",
       "1995.0      1\n",
       "2008.0      1\n",
       "1953.0      1\n",
       "1926.0      1\n",
       "1925.0      1\n",
       "1935.0      1\n",
       "Name: age, dtype: int64"
      ]
     },
     "execution_count": 48,
     "metadata": {},
     "output_type": "execute_result"
    }
   ],
   "source": [
    "users[ (users.age>1000) ].age.value_counts()"
   ]
  },
  {
   "cell_type": "markdown",
   "metadata": {},
   "source": [
    "The legal age to register airnb is 18 years old. If we assume top age is 100.\n",
    "The kaggle data for new user booking of airnb is from 2015 and project ended in 2016 feb.\n",
    "```\n",
    "Age 100 = 2015 - 100 = 1915\n",
    "Age 18 = 2015 - 18 = 1997\n",
    "Age 0 = 2015\n",
    "```\n",
    "\n",
    "We will convert the age from the years 1997 to be 18 and 1915 to be 100 and discard all other ages.\n",
    "\n",
    "Example of age selection:\n",
    "```\n",
    "users.loc[users['age'] < 18, 'age'] = np.NaN\n",
    "users.loc[users['age'] > 100, 'age'] = np.NaN\n",
    "```"
   ]
  },
  {
   "cell_type": "code",
   "execution_count": 49,
   "metadata": {
    "ExecuteTime": {
     "end_time": "2018-10-05T02:20:36.500342Z",
     "start_time": "2018-10-05T02:20:36.474190Z"
    }
   },
   "outputs": [],
   "source": [
    "s = users['age'].copy() # note: series.between in inclusive both ends.\n",
    "s[s.between(1915,1997)] = 2015 - s[s.between(1915,1997)]\n",
    "users.age = s"
   ]
  },
  {
   "cell_type": "code",
   "execution_count": 50,
   "metadata": {
    "ExecuteTime": {
     "end_time": "2018-10-05T02:20:36.510112Z",
     "start_time": "2018-10-05T02:20:36.502409Z"
    }
   },
   "outputs": [
    {
     "data": {
      "text/plain": [
       "2014.0    710\n",
       "2013.0     39\n",
       "2008.0      1\n",
       "Name: age, dtype: int64"
      ]
     },
     "execution_count": 50,
     "metadata": {},
     "output_type": "execute_result"
    }
   ],
   "source": [
    "users[ (users.age>1000) ].age.value_counts()"
   ]
  },
  {
   "cell_type": "code",
   "execution_count": 51,
   "metadata": {
    "ExecuteTime": {
     "end_time": "2018-10-05T02:20:36.521033Z",
     "start_time": "2018-10-05T02:20:36.512032Z"
    }
   },
   "outputs": [
    {
     "data": {
      "text/plain": [
       "1.0      2\n",
       "2.0      7\n",
       "4.0      3\n",
       "5.0     45\n",
       "15.0     8\n",
       "16.0    26\n",
       "17.0    67\n",
       "Name: age, dtype: int64"
      ]
     },
     "execution_count": 51,
     "metadata": {},
     "output_type": "execute_result"
    }
   ],
   "source": [
    "users[ (users.age<18) ].age.value_counts().sort_index()"
   ]
  },
  {
   "cell_type": "code",
   "execution_count": 52,
   "metadata": {
    "ExecuteTime": {
     "end_time": "2018-10-05T02:20:36.542552Z",
     "start_time": "2018-10-05T02:20:36.522591Z"
    }
   },
   "outputs": [],
   "source": [
    "users = users[users.age<=100]"
   ]
  },
  {
   "cell_type": "code",
   "execution_count": 53,
   "metadata": {
    "ExecuteTime": {
     "end_time": "2018-10-05T02:20:36.720620Z",
     "start_time": "2018-10-05T02:20:36.544230Z"
    }
   },
   "outputs": [
    {
     "data": {
      "image/png": "[encoded data removed]",
      "text/plain": [
       "<Figure size 432x288 with 1 Axes>"
      ]
     },
     "metadata": {
      "needs_background": "light"
     },
     "output_type": "display_data"
    }
   ],
   "source": [
    "ax = users.age.plot(kind='hist')\n",
    "ax.set_ylabel('Frequency of Age')\n",
    "ax.set_xlabel('Age')\n",
    "for p in ax.patches:\n",
    "    ax.annotate(np.round(p.get_height(), decimals=2), \n",
    "                (p.get_x()+p.get_width()/2.,\n",
    "                 p.get_height()), ha='center', \n",
    "                va='center', xytext=(0, 10), \n",
    "                textcoords='offset points')\n"
   ]
  },
  {
   "cell_type": "code",
   "execution_count": 75,
   "metadata": {
    "ExecuteTime": {
     "end_time": "2018-10-05T02:22:50.952295Z",
     "start_time": "2018-10-05T02:22:50.949317Z"
    }
   },
   "outputs": [],
   "source": [
    "## Plots using seaborn"
   ]
  },
  {
   "cell_type": "code",
   "execution_count": 76,
   "metadata": {
    "ExecuteTime": {
     "end_time": "2018-10-05T02:23:11.567548Z",
     "start_time": "2018-10-05T02:23:11.266763Z"
    }
   },
   "outputs": [
    {
     "data": {
      "image/png": "[encoded data removed]",
      "text/plain": [
       "<Figure size 432x288 with 1 Axes>"
      ]
     },
     "metadata": {
      "needs_background": "light"
     },
     "output_type": "display_data"
    }
   ],
   "source": [
    "age_plot = sns.countplot(users['age'])\n",
    "age_plot.set_title('Age distribution of airnb users')\n",
    "# make the plot visible\n",
    "for ind, label in enumerate(age_plot.get_xticklabels()):\n",
    "    if ind % 15 == 0:\n",
    "        label.set_visible(True)\n",
    "    else:\n",
    "        label.set_visible(False)"
   ]
  },
  {
   "cell_type": "code",
   "execution_count": 79,
   "metadata": {
    "ExecuteTime": {
     "end_time": "2018-10-05T02:24:50.849254Z",
     "start_time": "2018-10-05T02:24:50.775205Z"
    }
   },
   "outputs": [],
   "source": [
    "age_plot.figure.savefig('outputs/seaborn_age_countplot.png')"
   ]
  },
  {
   "cell_type": "markdown",
   "metadata": {},
   "source": [
    "\n",
    "\n"
   ]
  },
  {
   "cell_type": "markdown",
   "metadata": {},
   "source": [
    "# Gender Analysis"
   ]
  },
  {
   "cell_type": "code",
   "execution_count": 56,
   "metadata": {
    "ExecuteTime": {
     "end_time": "2018-10-05T02:20:37.020358Z",
     "start_time": "2018-10-05T02:20:37.001130Z"
    }
   },
   "outputs": [
    {
     "data": {
      "text/plain": [
       "FEMALE       56777\n",
       "MALE         50003\n",
       "-unknown-    16140\n",
       "OTHER          225\n",
       "Name: gender, dtype: int64"
      ]
     },
     "execution_count": 56,
     "metadata": {},
     "output_type": "execute_result"
    }
   ],
   "source": [
    "users['gender'].value_counts()"
   ]
  },
  {
   "cell_type": "code",
   "execution_count": 57,
   "metadata": {
    "ExecuteTime": {
     "end_time": "2018-10-05T02:20:37.148092Z",
     "start_time": "2018-10-05T02:20:37.022353Z"
    }
   },
   "outputs": [
    {
     "data": {
      "image/png": "[encoded data removed]",
      "text/plain": [
       "<Figure size 432x288 with 1 Axes>"
      ]
     },
     "metadata": {
      "needs_background": "light"
     },
     "output_type": "display_data"
    }
   ],
   "source": [
    "ax = users['gender'].value_counts().plot(kind='bar')\n",
    "for p in ax.patches:\n",
    "    ax.annotate(np.round(p.get_height(), decimals=2), \n",
    "                (p.get_x()+p.get_width()/2.,\n",
    "                 p.get_height()), ha='center', \n",
    "                va='center', xytext=(0, 10), \n",
    "                textcoords='offset points')"
   ]
  },
  {
   "cell_type": "code",
   "execution_count": 58,
   "metadata": {
    "ExecuteTime": {
     "end_time": "2018-10-05T02:20:37.407337Z",
     "start_time": "2018-10-05T02:20:37.150104Z"
    }
   },
   "outputs": [
    {
     "data": {
      "text/plain": [
       "<matplotlib.axes._subplots.AxesSubplot at 0x114ca1710>"
      ]
     },
     "execution_count": 58,
     "metadata": {},
     "output_type": "execute_result"
    },
    {
     "data": {
      "image/png": "[encoded data removed]",
      "text/plain": [
       "<Figure size 432x288 with 1 Axes>"
      ]
     },
     "metadata": {
      "needs_background": "light"
     },
     "output_type": "display_data"
    }
   ],
   "source": [
    "# change unknowns to NaNs\n",
    "users.loc[users['gender'] == '-unknown-', 'gender'] = np.NaN\n",
    "sns.countplot(users['gender'],  palette = \"deep\")"
   ]
  },
  {
   "cell_type": "code",
   "execution_count": 59,
   "metadata": {
    "ExecuteTime": {
     "end_time": "2018-10-05T02:20:37.529816Z",
     "start_time": "2018-10-05T02:20:37.409075Z"
    }
   },
   "outputs": [
    {
     "data": {
      "image/png": "[encoded data removed]",
      "text/plain": [
       "<Figure size 432x288 with 1 Axes>"
      ]
     },
     "metadata": {
      "needs_background": "light"
     },
     "output_type": "display_data"
    }
   ],
   "source": [
    "ax = users['gender'].value_counts().plot(kind='bar')\n",
    "for p in ax.patches:\n",
    "    ax.annotate(np.round(p.get_height(), decimals=2), \n",
    "                (p.get_x()+p.get_width()/2.,\n",
    "                 p.get_height()), ha='center', \n",
    "                va='center', xytext=(0, 10), \n",
    "                textcoords='offset points')"
   ]
  },
  {
   "cell_type": "markdown",
   "metadata": {},
   "source": [
    "# Histogram Using Bokeh"
   ]
  },
  {
   "cell_type": "code",
   "execution_count": 60,
   "metadata": {
    "ExecuteTime": {
     "end_time": "2018-10-05T02:20:37.534394Z",
     "start_time": "2018-10-05T02:20:37.531565Z"
    }
   },
   "outputs": [],
   "source": [
    "import pandas as pd\n",
    "import numpy as np"
   ]
  },
  {
   "cell_type": "code",
   "execution_count": 61,
   "metadata": {
    "ExecuteTime": {
     "end_time": "2018-10-05T02:20:37.540154Z",
     "start_time": "2018-10-05T02:20:37.536791Z"
    }
   },
   "outputs": [],
   "source": [
    "from bokeh.plotting import figure\n",
    "\n",
    "from bokeh.io import show, output_notebook\n",
    "from bokeh.models import ColumnDataSource, HoverTool, CategoricalColorMapper\n",
    "from bokeh.palettes import Category10_5, Category20_16"
   ]
  },
  {
   "cell_type": "code",
   "execution_count": 62,
   "metadata": {
    "ExecuteTime": {
     "end_time": "2018-10-05T02:20:37.559818Z",
     "start_time": "2018-10-05T02:20:37.542149Z"
    }
   },
   "outputs": [
    {
     "data": {
      "text/html": [
       "<div>\n",
       "<style scoped>\n",
       "    .dataframe tbody tr th:only-of-type {\n",
       "        vertical-align: middle;\n",
       "    }\n",
       "\n",
       "    .dataframe tbody tr th {\n",
       "        vertical-align: top;\n",
       "    }\n",
       "\n",
       "    .dataframe thead th {\n",
       "        text-align: right;\n",
       "    }\n",
       "</style>\n",
       "<table border=\"1\" class=\"dataframe\">\n",
       "  <thead>\n",
       "    <tr style=\"text-align: right;\">\n",
       "      <th></th>\n",
       "      <th>id</th>\n",
       "      <th>date_account_created</th>\n",
       "      <th>timestamp_first_active</th>\n",
       "      <th>date_first_booking</th>\n",
       "      <th>gender</th>\n",
       "      <th>age</th>\n",
       "      <th>signup_method</th>\n",
       "      <th>signup_flow</th>\n",
       "      <th>language</th>\n",
       "      <th>affiliate_channel</th>\n",
       "      <th>affiliate_provider</th>\n",
       "      <th>first_affiliate_tracked</th>\n",
       "      <th>signup_app</th>\n",
       "      <th>first_device_type</th>\n",
       "      <th>first_browser</th>\n",
       "      <th>country_destination</th>\n",
       "    </tr>\n",
       "  </thead>\n",
       "  <tbody>\n",
       "    <tr>\n",
       "      <th>1</th>\n",
       "      <td>820tgsjxq7</td>\n",
       "      <td>2011-05-25</td>\n",
       "      <td>20090523174809</td>\n",
       "      <td>NaN</td>\n",
       "      <td>MALE</td>\n",
       "      <td>38.0</td>\n",
       "      <td>facebook</td>\n",
       "      <td>0</td>\n",
       "      <td>en</td>\n",
       "      <td>seo</td>\n",
       "      <td>google</td>\n",
       "      <td>untracked</td>\n",
       "      <td>Web</td>\n",
       "      <td>Mac Desktop</td>\n",
       "      <td>Chrome</td>\n",
       "      <td>NDF</td>\n",
       "    </tr>\n",
       "    <tr>\n",
       "      <th>2</th>\n",
       "      <td>4ft3gnwmtx</td>\n",
       "      <td>2010-09-28</td>\n",
       "      <td>20090609231247</td>\n",
       "      <td>2010-08-02</td>\n",
       "      <td>FEMALE</td>\n",
       "      <td>56.0</td>\n",
       "      <td>basic</td>\n",
       "      <td>3</td>\n",
       "      <td>en</td>\n",
       "      <td>direct</td>\n",
       "      <td>direct</td>\n",
       "      <td>untracked</td>\n",
       "      <td>Web</td>\n",
       "      <td>Windows Desktop</td>\n",
       "      <td>IE</td>\n",
       "      <td>US</td>\n",
       "    </tr>\n",
       "    <tr>\n",
       "      <th>3</th>\n",
       "      <td>bjjt8pjhuk</td>\n",
       "      <td>2011-12-05</td>\n",
       "      <td>20091031060129</td>\n",
       "      <td>2012-09-08</td>\n",
       "      <td>FEMALE</td>\n",
       "      <td>42.0</td>\n",
       "      <td>facebook</td>\n",
       "      <td>0</td>\n",
       "      <td>en</td>\n",
       "      <td>direct</td>\n",
       "      <td>direct</td>\n",
       "      <td>untracked</td>\n",
       "      <td>Web</td>\n",
       "      <td>Mac Desktop</td>\n",
       "      <td>Firefox</td>\n",
       "      <td>other</td>\n",
       "    </tr>\n",
       "    <tr>\n",
       "      <th>4</th>\n",
       "      <td>87mebub9p4</td>\n",
       "      <td>2010-09-14</td>\n",
       "      <td>20091208061105</td>\n",
       "      <td>2010-02-18</td>\n",
       "      <td>NaN</td>\n",
       "      <td>41.0</td>\n",
       "      <td>basic</td>\n",
       "      <td>0</td>\n",
       "      <td>en</td>\n",
       "      <td>direct</td>\n",
       "      <td>direct</td>\n",
       "      <td>untracked</td>\n",
       "      <td>Web</td>\n",
       "      <td>Mac Desktop</td>\n",
       "      <td>Chrome</td>\n",
       "      <td>US</td>\n",
       "    </tr>\n",
       "    <tr>\n",
       "      <th>6</th>\n",
       "      <td>lsw9q7uk0j</td>\n",
       "      <td>2010-01-02</td>\n",
       "      <td>20100102012558</td>\n",
       "      <td>2010-01-05</td>\n",
       "      <td>FEMALE</td>\n",
       "      <td>46.0</td>\n",
       "      <td>basic</td>\n",
       "      <td>0</td>\n",
       "      <td>en</td>\n",
       "      <td>other</td>\n",
       "      <td>craigslist</td>\n",
       "      <td>untracked</td>\n",
       "      <td>Web</td>\n",
       "      <td>Mac Desktop</td>\n",
       "      <td>Safari</td>\n",
       "      <td>US</td>\n",
       "    </tr>\n",
       "  </tbody>\n",
       "</table>\n",
       "</div>"
      ],
      "text/plain": [
       "           id date_account_created  timestamp_first_active date_first_booking  \\\n",
       "1  820tgsjxq7           2011-05-25          20090523174809                NaN   \n",
       "2  4ft3gnwmtx           2010-09-28          20090609231247         2010-08-02   \n",
       "3  bjjt8pjhuk           2011-12-05          20091031060129         2012-09-08   \n",
       "4  87mebub9p4           2010-09-14          20091208061105         2010-02-18   \n",
       "6  lsw9q7uk0j           2010-01-02          20100102012558         2010-01-05   \n",
       "\n",
       "   gender   age signup_method  signup_flow language affiliate_channel  \\\n",
       "1    MALE  38.0      facebook            0       en               seo   \n",
       "2  FEMALE  56.0         basic            3       en            direct   \n",
       "3  FEMALE  42.0      facebook            0       en            direct   \n",
       "4     NaN  41.0         basic            0       en            direct   \n",
       "6  FEMALE  46.0         basic            0       en             other   \n",
       "\n",
       "  affiliate_provider first_affiliate_tracked signup_app first_device_type  \\\n",
       "1             google               untracked        Web       Mac Desktop   \n",
       "2             direct               untracked        Web   Windows Desktop   \n",
       "3             direct               untracked        Web       Mac Desktop   \n",
       "4             direct               untracked        Web       Mac Desktop   \n",
       "6         craigslist               untracked        Web       Mac Desktop   \n",
       "\n",
       "  first_browser country_destination  \n",
       "1        Chrome                 NDF  \n",
       "2            IE                  US  \n",
       "3       Firefox               other  \n",
       "4        Chrome                  US  \n",
       "6        Safari                  US  "
      ]
     },
     "execution_count": 62,
     "metadata": {},
     "output_type": "execute_result"
    }
   ],
   "source": [
    "users.head()"
   ]
  },
  {
   "cell_type": "code",
   "execution_count": 63,
   "metadata": {
    "ExecuteTime": {
     "end_time": "2018-10-05T02:20:37.575936Z",
     "start_time": "2018-10-05T02:20:37.561594Z"
    }
   },
   "outputs": [
    {
     "data": {
      "text/plain": [
       "count    123145.000000\n",
       "mean         36.553965\n",
       "std          11.725716\n",
       "min           1.000000\n",
       "25%          28.000000\n",
       "50%          34.000000\n",
       "75%          42.000000\n",
       "max         100.000000\n",
       "Name: age, dtype: float64"
      ]
     },
     "execution_count": 63,
     "metadata": {},
     "output_type": "execute_result"
    }
   ],
   "source": [
    "users['age'].describe()"
   ]
  },
  {
   "cell_type": "code",
   "execution_count": 64,
   "metadata": {
    "ExecuteTime": {
     "end_time": "2018-10-05T02:20:37.583245Z",
     "start_time": "2018-10-05T02:20:37.577350Z"
    }
   },
   "outputs": [],
   "source": [
    "arr_hist, edges = np.histogram(users['age'],bins=9,range = [10, 100])"
   ]
  },
  {
   "cell_type": "code",
   "execution_count": 65,
   "metadata": {
    "ExecuteTime": {
     "end_time": "2018-10-05T02:20:37.856651Z",
     "start_time": "2018-10-05T02:20:37.585317Z"
    }
   },
   "outputs": [
    {
     "data": {
      "text/html": [
       "\n",
       "    <div class=\"bk-root\">\n",
       "        <a href=\"https://bokeh.pydata.org\" target=\"_blank\" class=\"bk-logo bk-logo-small bk-logo-notebook\"></a>\n",
       "        <span id=\"5765b581-ddfd-4b1f-bdd6-6841e9336288\">Loading BokehJS ...</span>\n",
       "    </div>"
      ]
     },
     "metadata": {},
     "output_type": "display_data"
    },
    {
     "data": {
      "application/javascript": [
       "\n",
       "(function(root) {\n",
       "  function now() {\n",
       "    return new Date();\n",
       "  }\n",
       "\n",
       "  var force = true;\n",
       "\n",
       "  if (typeof (root._bokeh_onload_callbacks) === \"undefined\" || force === true) {\n",
       "    root._bokeh_onload_callbacks = [];\n",
       "    root._bokeh_is_loading = undefined;\n",
       "  }\n",
       "\n",
       "  var JS_MIME_TYPE = 'application/javascript';\n",
       "  var HTML_MIME_TYPE = 'text/html';\n",
       "  var EXEC_MIME_TYPE = 'application/vnd.bokehjs_exec.v0+json';\n",
       "  var CLASS_NAME = 'output_bokeh rendered_html';\n",
       "\n",
       "  /**\n",
       "   * Render data to the DOM node\n",
       "   */\n",
       "  function render(props, node) {\n",
       "    var script = document.createElement(\"script\");\n",
       "    node.appendChild(script);\n",
       "  }\n",
       "\n",
       "  /**\n",
       "   * Handle when an output is cleared or removed\n",
       "   */\n",
       "  function handleClearOutput(event, handle) {\n",
       "    var cell = handle.cell;\n",
       "\n",
       "    var id = cell.output_area._bokeh_element_id;\n",
       "    var server_id = cell.output_area._bokeh_server_id;\n",
       "    // Clean up Bokeh references\n",
       "    if (id != null && id in Bokeh.index) {\n",
       "      Bokeh.index[id].model.document.clear();\n",
       "      delete Bokeh.index[id];\n",
       "    }\n",
       "\n",
       "    if (server_id !== undefined) {\n",
       "      // Clean up Bokeh references\n",
       "      var cmd = \"from bokeh.io.state import curstate; print(curstate().uuid_to_server['\" + server_id + \"'].get_sessions()[0].document.roots[0]._id)\";\n",
       "      cell.notebook.kernel.execute(cmd, {\n",
       "        iopub: {\n",
       "          output: function(msg) {\n",
       "            var id = msg.content.text.trim();\n",
       "            if (id in Bokeh.index) {\n",
       "              Bokeh.index[id].model.document.clear();\n",
       "              delete Bokeh.index[id];\n",
       "            }\n",
       "          }\n",
       "        }\n",
       "      });\n",
       "      // Destroy server and session\n",
       "      var cmd = \"import bokeh.io.notebook as ion; ion.destroy_server('\" + server_id + \"')\";\n",
       "      cell.notebook.kernel.execute(cmd);\n",
       "    }\n",
       "  }\n",
       "\n",
       "  /**\n",
       "   * Handle when a new output is added\n",
       "   */\n",
       "  function handleAddOutput(event, handle) {\n",
       "    var output_area = handle.output_area;\n",
       "    var output = handle.output;\n",
       "\n",
       "    // limit handleAddOutput to display_data with EXEC_MIME_TYPE content only\n",
       "    if ((output.output_type != \"display_data\") || (!output.data.hasOwnProperty(EXEC_MIME_TYPE))) {\n",
       "      return\n",
       "    }\n",
       "\n",
       "    var toinsert = output_area.element.find(\".\" + CLASS_NAME.split(' ')[0]);\n",
       "\n",
       "    if (output.metadata[EXEC_MIME_TYPE][\"id\"] !== undefined) {\n",
       "      toinsert[toinsert.length - 1].firstChild.textContent = output.data[JS_MIME_TYPE];\n",
       "      // store reference to embed id on output_area\n",
       "      output_area._bokeh_element_id = output.metadata[EXEC_MIME_TYPE][\"id\"];\n",
       "    }\n",
       "    if (output.metadata[EXEC_MIME_TYPE][\"server_id\"] !== undefined) {\n",
       "      var bk_div = document.createElement(\"div\");\n",
       "      bk_div.innerHTML = output.data[HTML_MIME_TYPE];\n",
       "      var script_attrs = bk_div.children[0].attributes;\n",
       "      for (var i = 0; i < script_attrs.length; i++) {\n",
       "        toinsert[toinsert.length - 1].firstChild.setAttribute(script_attrs[i].name, script_attrs[i].value);\n",
       "      }\n",
       "      // store reference to server id on output_area\n",
       "      output_area._bokeh_server_id = output.metadata[EXEC_MIME_TYPE][\"server_id\"];\n",
       "    }\n",
       "  }\n",
       "\n",
       "  function register_renderer(events, OutputArea) {\n",
       "\n",
       "    function append_mime(data, metadata, element) {\n",
       "      // create a DOM node to render to\n",
       "      var toinsert = this.create_output_subarea(\n",
       "        metadata,\n",
       "        CLASS_NAME,\n",
       "        EXEC_MIME_TYPE\n",
       "      );\n",
       "      this.keyboard_manager.register_events(toinsert);\n",
       "      // Render to node\n",
       "      var props = {data: data, metadata: metadata[EXEC_MIME_TYPE]};\n",
       "      render(props, toinsert[toinsert.length - 1]);\n",
       "      element.append(toinsert);\n",
       "      return toinsert\n",
       "    }\n",
       "\n",
       "    /* Handle when an output is cleared or removed */\n",
       "    events.on('clear_output.CodeCell', handleClearOutput);\n",
       "    events.on('delete.Cell', handleClearOutput);\n",
       "\n",
       "    /* Handle when a new output is added */\n",
       "    events.on('output_added.OutputArea', handleAddOutput);\n",
       "\n",
       "    /**\n",
       "     * Register the mime type and append_mime function with output_area\n",
       "     */\n",
       "    OutputArea.prototype.register_mime_type(EXEC_MIME_TYPE, append_mime, {\n",
       "      /* Is output safe? */\n",
       "      safe: true,\n",
       "      /* Index of renderer in `output_area.display_order` */\n",
       "      index: 0\n",
       "    });\n",
       "  }\n",
       "\n",
       "  // register the mime type if in Jupyter Notebook environment and previously unregistered\n",
       "  if (root.Jupyter !== undefined) {\n",
       "    var events = require('base/js/events');\n",
       "    var OutputArea = require('notebook/js/outputarea').OutputArea;\n",
       "\n",
       "    if (OutputArea.prototype.mime_types().indexOf(EXEC_MIME_TYPE) == -1) {\n",
       "      register_renderer(events, OutputArea);\n",
       "    }\n",
       "  }\n",
       "\n",
       "  \n",
       "  if (typeof (root._bokeh_timeout) === \"undefined\" || force === true) {\n",
       "    root._bokeh_timeout = Date.now() + 5000;\n",
       "    root._bokeh_failed_load = false;\n",
       "  }\n",
       "\n",
       "  var NB_LOAD_WARNING = {'data': {'text/html':\n",
       "     \"<div style='background-color: #fdd'>\\n\"+\n",
       "     \"<p>\\n\"+\n",
       "     \"BokehJS does not appear to have successfully loaded. If loading BokehJS from CDN, this \\n\"+\n",
       "     \"may be due to a slow or bad network connection. Possible fixes:\\n\"+\n",
       "     \"</p>\\n\"+\n",
       "     \"<ul>\\n\"+\n",
       "     \"<li>re-rerun `output_notebook()` to attempt to load from CDN again, or</li>\\n\"+\n",
       "     \"<li>use INLINE resources instead, as so:</li>\\n\"+\n",
       "     \"</ul>\\n\"+\n",
       "     \"<code>\\n\"+\n",
       "     \"from bokeh.resources import INLINE\\n\"+\n",
       "     \"output_notebook(resources=INLINE)\\n\"+\n",
       "     \"</code>\\n\"+\n",
       "     \"</div>\"}};\n",
       "\n",
       "  function display_loaded() {\n",
       "    var el = document.getElementById(\"5765b581-ddfd-4b1f-bdd6-6841e9336288\");\n",
       "    if (el != null) {\n",
       "      el.textContent = \"BokehJS is loading...\";\n",
       "    }\n",
       "    if (root.Bokeh !== undefined) {\n",
       "      if (el != null) {\n",
       "        el.textContent = \"BokehJS \" + root.Bokeh.version + \" successfully loaded.\";\n",
       "      }\n",
       "    } else if (Date.now() < root._bokeh_timeout) {\n",
       "      setTimeout(display_loaded, 100)\n",
       "    }\n",
       "  }\n",
       "\n",
       "\n",
       "  function run_callbacks() {\n",
       "    try {\n",
       "      root._bokeh_onload_callbacks.forEach(function(callback) { callback() });\n",
       "    }\n",
       "    finally {\n",
       "      delete root._bokeh_onload_callbacks\n",
       "    }\n",
       "    console.info(\"Bokeh: all callbacks have finished\");\n",
       "  }\n",
       "\n",
       "  function load_libs(js_urls, callback) {\n",
       "    root._bokeh_onload_callbacks.push(callback);\n",
       "    if (root._bokeh_is_loading > 0) {\n",
       "      console.log(\"Bokeh: BokehJS is being loaded, scheduling callback at\", now());\n",
       "      return null;\n",
       "    }\n",
       "    if (js_urls == null || js_urls.length === 0) {\n",
       "      run_callbacks();\n",
       "      return null;\n",
       "    }\n",
       "    console.log(\"Bokeh: BokehJS not loaded, scheduling load and callback at\", now());\n",
       "    root._bokeh_is_loading = js_urls.length;\n",
       "    for (var i = 0; i < js_urls.length; i++) {\n",
       "      var url = js_urls[i];\n",
       "      var s = document.createElement('script');\n",
       "      s.src = url;\n",
       "      s.async = false;\n",
       "      s.onreadystatechange = s.onload = function() {\n",
       "        root._bokeh_is_loading--;\n",
       "        if (root._bokeh_is_loading === 0) {\n",
       "          console.log(\"Bokeh: all BokehJS libraries loaded\");\n",
       "          run_callbacks()\n",
       "        }\n",
       "      };\n",
       "      s.onerror = function() {\n",
       "        console.warn(\"failed to load library \" + url);\n",
       "      };\n",
       "      console.log(\"Bokeh: injecting script tag for BokehJS library: \", url);\n",
       "      document.getElementsByTagName(\"head\")[0].appendChild(s);\n",
       "    }\n",
       "  };var element = document.getElementById(\"5765b581-ddfd-4b1f-bdd6-6841e9336288\");\n",
       "  if (element == null) {\n",
       "    console.log(\"Bokeh: ERROR: autoload.js configured with elementid '5765b581-ddfd-4b1f-bdd6-6841e9336288' but no matching script tag was found. \")\n",
       "    return false;\n",
       "  }\n",
       "\n",
       "  var js_urls = [\"https://cdn.pydata.org/bokeh/release/bokeh-0.13.0.min.js\", \"https://cdn.pydata.org/bokeh/release/bokeh-widgets-0.13.0.min.js\", \"https://cdn.pydata.org/bokeh/release/bokeh-tables-0.13.0.min.js\", \"https://cdn.pydata.org/bokeh/release/bokeh-gl-0.13.0.min.js\"];\n",
       "\n",
       "  var inline_js = [\n",
       "    function(Bokeh) {\n",
       "      Bokeh.set_log_level(\"info\");\n",
       "    },\n",
       "    \n",
       "    function(Bokeh) {\n",
       "      \n",
       "    },\n",
       "    function(Bokeh) {\n",
       "      console.log(\"Bokeh: injecting CSS: https://cdn.pydata.org/bokeh/release/bokeh-0.13.0.min.css\");\n",
       "      Bokeh.embed.inject_css(\"https://cdn.pydata.org/bokeh/release/bokeh-0.13.0.min.css\");\n",
       "      console.log(\"Bokeh: injecting CSS: https://cdn.pydata.org/bokeh/release/bokeh-widgets-0.13.0.min.css\");\n",
       "      Bokeh.embed.inject_css(\"https://cdn.pydata.org/bokeh/release/bokeh-widgets-0.13.0.min.css\");\n",
       "      console.log(\"Bokeh: injecting CSS: https://cdn.pydata.org/bokeh/release/bokeh-tables-0.13.0.min.css\");\n",
       "      Bokeh.embed.inject_css(\"https://cdn.pydata.org/bokeh/release/bokeh-tables-0.13.0.min.css\");\n",
       "    }\n",
       "  ];\n",
       "\n",
       "  function run_inline_js() {\n",
       "    \n",
       "    if ((root.Bokeh !== undefined) || (force === true)) {\n",
       "      for (var i = 0; i < inline_js.length; i++) {\n",
       "        inline_js[i].call(root, root.Bokeh);\n",
       "      }if (force === true) {\n",
       "        display_loaded();\n",
       "      }} else if (Date.now() < root._bokeh_timeout) {\n",
       "      setTimeout(run_inline_js, 100);\n",
       "    } else if (!root._bokeh_failed_load) {\n",
       "      console.log(\"Bokeh: BokehJS failed to load within specified timeout.\");\n",
       "      root._bokeh_failed_load = true;\n",
       "    } else if (force !== true) {\n",
       "      var cell = $(document.getElementById(\"5765b581-ddfd-4b1f-bdd6-6841e9336288\")).parents('.cell').data().cell;\n",
       "      cell.output_area.append_execute_result(NB_LOAD_WARNING)\n",
       "    }\n",
       "\n",
       "  }\n",
       "\n",
       "  if (root._bokeh_is_loading === 0) {\n",
       "    console.log(\"Bokeh: BokehJS loaded, going straight to plotting\");\n",
       "    run_inline_js();\n",
       "  } else {\n",
       "    load_libs(js_urls, function() {\n",
       "      console.log(\"Bokeh: BokehJS plotting callback run at\", now());\n",
       "      run_inline_js();\n",
       "    });\n",
       "  }\n",
       "}(window));"
      ],
      "application/vnd.bokehjs_load.v0+json": "\n(function(root) {\n  function now() {\n    return new Date();\n  }\n\n  var force = true;\n\n  if (typeof (root._bokeh_onload_callbacks) === \"undefined\" || force === true) {\n    root._bokeh_onload_callbacks = [];\n    root._bokeh_is_loading = undefined;\n  }\n\n  \n\n  \n  if (typeof (root._bokeh_timeout) === \"undefined\" || force === true) {\n    root._bokeh_timeout = Date.now() + 5000;\n    root._bokeh_failed_load = false;\n  }\n\n  var NB_LOAD_WARNING = {'data': {'text/html':\n     \"<div style='background-color: #fdd'>\\n\"+\n     \"<p>\\n\"+\n     \"BokehJS does not appear to have successfully loaded. If loading BokehJS from CDN, this \\n\"+\n     \"may be due to a slow or bad network connection. Possible fixes:\\n\"+\n     \"</p>\\n\"+\n     \"<ul>\\n\"+\n     \"<li>re-rerun `output_notebook()` to attempt to load from CDN again, or</li>\\n\"+\n     \"<li>use INLINE resources instead, as so:</li>\\n\"+\n     \"</ul>\\n\"+\n     \"<code>\\n\"+\n     \"from bokeh.resources import INLINE\\n\"+\n     \"output_notebook(resources=INLINE)\\n\"+\n     \"</code>\\n\"+\n     \"</div>\"}};\n\n  function display_loaded() {\n    var el = document.getElementById(\"5765b581-ddfd-4b1f-bdd6-6841e9336288\");\n    if (el != null) {\n      el.textContent = \"BokehJS is loading...\";\n    }\n    if (root.Bokeh !== undefined) {\n      if (el != null) {\n        el.textContent = \"BokehJS \" + root.Bokeh.version + \" successfully loaded.\";\n      }\n    } else if (Date.now() < root._bokeh_timeout) {\n      setTimeout(display_loaded, 100)\n    }\n  }\n\n\n  function run_callbacks() {\n    try {\n      root._bokeh_onload_callbacks.forEach(function(callback) { callback() });\n    }\n    finally {\n      delete root._bokeh_onload_callbacks\n    }\n    console.info(\"Bokeh: all callbacks have finished\");\n  }\n\n  function load_libs(js_urls, callback) {\n    root._bokeh_onload_callbacks.push(callback);\n    if (root._bokeh_is_loading > 0) {\n      console.log(\"Bokeh: BokehJS is being loaded, scheduling callback at\", now());\n      return null;\n    }\n    if (js_urls == null || js_urls.length === 0) {\n      run_callbacks();\n      return null;\n    }\n    console.log(\"Bokeh: BokehJS not loaded, scheduling load and callback at\", now());\n    root._bokeh_is_loading = js_urls.length;\n    for (var i = 0; i < js_urls.length; i++) {\n      var url = js_urls[i];\n      var s = document.createElement('script');\n      s.src = url;\n      s.async = false;\n      s.onreadystatechange = s.onload = function() {\n        root._bokeh_is_loading--;\n        if (root._bokeh_is_loading === 0) {\n          console.log(\"Bokeh: all BokehJS libraries loaded\");\n          run_callbacks()\n        }\n      };\n      s.onerror = function() {\n        console.warn(\"failed to load library \" + url);\n      };\n      console.log(\"Bokeh: injecting script tag for BokehJS library: \", url);\n      document.getElementsByTagName(\"head\")[0].appendChild(s);\n    }\n  };var element = document.getElementById(\"5765b581-ddfd-4b1f-bdd6-6841e9336288\");\n  if (element == null) {\n    console.log(\"Bokeh: ERROR: autoload.js configured with elementid '5765b581-ddfd-4b1f-bdd6-6841e9336288' but no matching script tag was found. \")\n    return false;\n  }\n\n  var js_urls = [\"https://cdn.pydata.org/bokeh/release/bokeh-0.13.0.min.js\", \"https://cdn.pydata.org/bokeh/release/bokeh-widgets-0.13.0.min.js\", \"https://cdn.pydata.org/bokeh/release/bokeh-tables-0.13.0.min.js\", \"https://cdn.pydata.org/bokeh/release/bokeh-gl-0.13.0.min.js\"];\n\n  var inline_js = [\n    function(Bokeh) {\n      Bokeh.set_log_level(\"info\");\n    },\n    \n    function(Bokeh) {\n      \n    },\n    function(Bokeh) {\n      console.log(\"Bokeh: injecting CSS: https://cdn.pydata.org/bokeh/release/bokeh-0.13.0.min.css\");\n      Bokeh.embed.inject_css(\"https://cdn.pydata.org/bokeh/release/bokeh-0.13.0.min.css\");\n      console.log(\"Bokeh: injecting CSS: https://cdn.pydata.org/bokeh/release/bokeh-widgets-0.13.0.min.css\");\n      Bokeh.embed.inject_css(\"https://cdn.pydata.org/bokeh/release/bokeh-widgets-0.13.0.min.css\");\n      console.log(\"Bokeh: injecting CSS: https://cdn.pydata.org/bokeh/release/bokeh-tables-0.13.0.min.css\");\n      Bokeh.embed.inject_css(\"https://cdn.pydata.org/bokeh/release/bokeh-tables-0.13.0.min.css\");\n    }\n  ];\n\n  function run_inline_js() {\n    \n    if ((root.Bokeh !== undefined) || (force === true)) {\n      for (var i = 0; i < inline_js.length; i++) {\n        inline_js[i].call(root, root.Bokeh);\n      }if (force === true) {\n        display_loaded();\n      }} else if (Date.now() < root._bokeh_timeout) {\n      setTimeout(run_inline_js, 100);\n    } else if (!root._bokeh_failed_load) {\n      console.log(\"Bokeh: BokehJS failed to load within specified timeout.\");\n      root._bokeh_failed_load = true;\n    } else if (force !== true) {\n      var cell = $(document.getElementById(\"5765b581-ddfd-4b1f-bdd6-6841e9336288\")).parents('.cell').data().cell;\n      cell.output_area.append_execute_result(NB_LOAD_WARNING)\n    }\n\n  }\n\n  if (root._bokeh_is_loading === 0) {\n    console.log(\"Bokeh: BokehJS loaded, going straight to plotting\");\n    run_inline_js();\n  } else {\n    load_libs(js_urls, function() {\n      console.log(\"Bokeh: BokehJS plotting callback run at\", now());\n      run_inline_js();\n    });\n  }\n}(window));"
     },
     "metadata": {},
     "output_type": "display_data"
    },
    {
     "data": {
      "text/html": [
       "\n",
       "\n",
       "\n",
       "\n",
       "\n",
       "\n",
       "  <div class=\"bk-root\" id=\"d415e68a-1fe0-4ca6-9e41-d485df2c7899\"></div>\n"
      ]
     },
     "metadata": {},
     "output_type": "display_data"
    },
    {
     "data": {
      "application/javascript": [
       "(function(root) {\n",
       "  function embed_document(root) {\n",
       "    \n",
       "  var docs_json = {\"c9a76a72-5cc5-4515-9f69-8340659b31e0\":{\"roots\":{\"references\":[{\"attributes\":{},\"id\":\"028b54ca-aeab-4b90-9b72-86844ecfa296\",\"type\":\"SaveTool\"},{\"attributes\":{\"bottom\":{\"value\":0},\"fill_color\":{\"value\":\"red\"},\"left\":{\"field\":\"left\"},\"right\":{\"field\":\"right\"},\"top\":{\"field\":\"top\"}},\"id\":\"3f4a0d5b-8ac1-47d4-9d55-aee8ea773fe2\",\"type\":\"Quad\"},{\"attributes\":{},\"id\":\"bf70a385-df6a-437d-83d4-646e6032b1e0\",\"type\":\"Selection\"},{\"attributes\":{\"below\":[{\"id\":\"1893db91-1a0e-49de-b305-5b7c886fbe6b\",\"type\":\"LinearAxis\"}],\"left\":[{\"id\":\"ed282aa9-5b4b-4fdd-be46-8dadf6abe052\",\"type\":\"LinearAxis\"}],\"plot_height\":500,\"plot_width\":500,\"renderers\":[{\"id\":\"1893db91-1a0e-49de-b305-5b7c886fbe6b\",\"type\":\"LinearAxis\"},{\"id\":\"fd197496-bc6d-462b-b134-53a3417193f0\",\"type\":\"Grid\"},{\"id\":\"ed282aa9-5b4b-4fdd-be46-8dadf6abe052\",\"type\":\"LinearAxis\"},{\"id\":\"b4958c15-d39a-487e-b6aa-42bc3666d4cc\",\"type\":\"Grid\"},{\"id\":\"0eeef1a9-4e76-4cf2-8058-de9bde640832\",\"type\":\"BoxAnnotation\"},{\"id\":\"9450fbf5-6c20-4173-a9d9-ece7eb7136b9\",\"type\":\"GlyphRenderer\"}],\"title\":{\"id\":\"eed384e2-1933-458e-bcd4-b533bb78c730\",\"type\":\"Title\"},\"toolbar\":{\"id\":\"0e3ada15-39f7-4c8f-83c5-59793c28f3e4\",\"type\":\"Toolbar\"},\"x_range\":{\"id\":\"89a114dd-1e3e-438a-aea7-9f044b68089e\",\"type\":\"DataRange1d\"},\"x_scale\":{\"id\":\"2f263e0e-95c3-4303-b19c-ba955b20c780\",\"type\":\"LinearScale\"},\"y_range\":{\"id\":\"3dd7db16-2c68-47d7-a100-923d29521d24\",\"type\":\"DataRange1d\"},\"y_scale\":{\"id\":\"e95db6ba-2190-42e1-8509-5a0552200c7c\",\"type\":\"LinearScale\"}},\"id\":\"60825955-5b67-4385-8224-d6f856a4ecdb\",\"subtype\":\"Figure\",\"type\":\"Plot\"},{\"attributes\":{},\"id\":\"5c7a71a4-db5c-44ac-bb0e-a2c179901417\",\"type\":\"BasicTickFormatter\"},{\"attributes\":{},\"id\":\"2c5a231b-0107-4fe4-9d1f-ba9ba3123ed8\",\"type\":\"UnionRenderers\"},{\"attributes\":{\"bottom_units\":\"screen\",\"fill_alpha\":{\"value\":0.5},\"fill_color\":{\"value\":\"lightgrey\"},\"left_units\":\"screen\",\"level\":\"overlay\",\"line_alpha\":{\"value\":1.0},\"line_color\":{\"value\":\"black\"},\"line_dash\":[4,4],\"line_width\":{\"value\":2},\"plot\":null,\"render_mode\":\"css\",\"right_units\":\"screen\",\"top_units\":\"screen\"},\"id\":\"0eeef1a9-4e76-4cf2-8058-de9bde640832\",\"type\":\"BoxAnnotation\"},{\"attributes\":{\"active_drag\":\"auto\",\"active_inspect\":\"auto\",\"active_multi\":null,\"active_scroll\":\"auto\",\"active_tap\":\"auto\",\"tools\":[{\"id\":\"d38dcf61-dad4-4f14-9994-86dc9d43bb00\",\"type\":\"PanTool\"},{\"id\":\"889ec9c2-d6a5-420e-b168-1c4f5b80ed0d\",\"type\":\"WheelZoomTool\"},{\"id\":\"1689649c-82c8-4ff4-8be2-366bb9b8aa6b\",\"type\":\"BoxZoomTool\"},{\"id\":\"028b54ca-aeab-4b90-9b72-86844ecfa296\",\"type\":\"SaveTool\"},{\"id\":\"d75f601e-8702-432d-bd95-4dd87f429fef\",\"type\":\"ResetTool\"},{\"id\":\"90ced73f-d423-44df-a6ea-29f8f8093fe9\",\"type\":\"HelpTool\"}]},\"id\":\"0e3ada15-39f7-4c8f-83c5-59793c28f3e4\",\"type\":\"Toolbar\"},{\"attributes\":{},\"id\":\"16b130e9-6e55-40a5-80f7-9b2e1f46e36c\",\"type\":\"BasicTickFormatter\"},{\"attributes\":{\"callback\":null},\"id\":\"3dd7db16-2c68-47d7-a100-923d29521d24\",\"type\":\"DataRange1d\"},{\"attributes\":{\"data_source\":{\"id\":\"33c088dd-f3de-45bf-acb1-341626d9dbc8\",\"type\":\"ColumnDataSource\"},\"glyph\":{\"id\":\"3f4a0d5b-8ac1-47d4-9d55-aee8ea773fe2\",\"type\":\"Quad\"},\"hover_glyph\":null,\"muted_glyph\":null,\"nonselection_glyph\":{\"id\":\"81f7aae8-9b95-4166-852f-b62e7a498ee3\",\"type\":\"Quad\"},\"selection_glyph\":null,\"view\":{\"id\":\"973b2930-3712-43ad-8a46-fed0b8283947\",\"type\":\"CDSView\"}},\"id\":\"9450fbf5-6c20-4173-a9d9-ece7eb7136b9\",\"type\":\"GlyphRenderer\"},{\"attributes\":{\"plot\":null,\"text\":\"Histogram of Age Count of Airnb Users\"},\"id\":\"eed384e2-1933-458e-bcd4-b533bb78c730\",\"type\":\"Title\"},{\"attributes\":{\"callback\":null,\"data\":{\"left\":{\"__ndarray__\":\"AAAAAAAAJEAAAAAAAAA0QAAAAAAAAD5AAAAAAAAAREAAAAAAAABJQAAAAAAAAE5AAAAAAACAUUAAAAAAAABUQAAAAAAAgFZA\",\"dtype\":\"float64\",\"shape\":[9]},\"right\":{\"__ndarray__\":\"AAAAAAAANEAAAAAAAAA+QAAAAAAAAERAAAAAAAAASUAAAAAAAABOQAAAAAAAgFFAAAAAAAAAVEAAAAAAAIBWQAAAAAAAAFlA\",\"dtype\":\"float64\",\"shape\":[9]},\"top\":[1872,36050,47570,20210,10521,5138,1238,270,219]},\"selected\":{\"id\":\"bf70a385-df6a-437d-83d4-646e6032b1e0\",\"type\":\"Selection\"},\"selection_policy\":{\"id\":\"2c5a231b-0107-4fe4-9d1f-ba9ba3123ed8\",\"type\":\"UnionRenderers\"}},\"id\":\"33c088dd-f3de-45bf-acb1-341626d9dbc8\",\"type\":\"ColumnDataSource\"},{\"attributes\":{},\"id\":\"e95db6ba-2190-42e1-8509-5a0552200c7c\",\"type\":\"LinearScale\"},{\"attributes\":{},\"id\":\"90ced73f-d423-44df-a6ea-29f8f8093fe9\",\"type\":\"HelpTool\"},{\"attributes\":{\"bottom\":{\"value\":0},\"fill_alpha\":{\"value\":0.1},\"fill_color\":{\"value\":\"#1f77b4\"},\"left\":{\"field\":\"left\"},\"line_alpha\":{\"value\":0.1},\"line_color\":{\"value\":\"#1f77b4\"},\"right\":{\"field\":\"right\"},\"top\":{\"field\":\"top\"}},\"id\":\"81f7aae8-9b95-4166-852f-b62e7a498ee3\",\"type\":\"Quad\"},{\"attributes\":{\"dimension\":1,\"plot\":{\"id\":\"60825955-5b67-4385-8224-d6f856a4ecdb\",\"subtype\":\"Figure\",\"type\":\"Plot\"},\"ticker\":{\"id\":\"5755dc80-92e2-4897-8f1f-61ded94df864\",\"type\":\"BasicTicker\"}},\"id\":\"b4958c15-d39a-487e-b6aa-42bc3666d4cc\",\"type\":\"Grid\"},{\"attributes\":{},\"id\":\"889ec9c2-d6a5-420e-b168-1c4f5b80ed0d\",\"type\":\"WheelZoomTool\"},{\"attributes\":{},\"id\":\"d75f601e-8702-432d-bd95-4dd87f429fef\",\"type\":\"ResetTool\"},{\"attributes\":{\"axis_label\":\"Age (years)\",\"formatter\":{\"id\":\"5c7a71a4-db5c-44ac-bb0e-a2c179901417\",\"type\":\"BasicTickFormatter\"},\"plot\":{\"id\":\"60825955-5b67-4385-8224-d6f856a4ecdb\",\"subtype\":\"Figure\",\"type\":\"Plot\"},\"ticker\":{\"id\":\"253c8406-04f3-4847-9ac1-182afb2bedd9\",\"type\":\"BasicTicker\"}},\"id\":\"1893db91-1a0e-49de-b305-5b7c886fbe6b\",\"type\":\"LinearAxis\"},{\"attributes\":{\"overlay\":{\"id\":\"0eeef1a9-4e76-4cf2-8058-de9bde640832\",\"type\":\"BoxAnnotation\"}},\"id\":\"1689649c-82c8-4ff4-8be2-366bb9b8aa6b\",\"type\":\"BoxZoomTool\"},{\"attributes\":{\"plot\":{\"id\":\"60825955-5b67-4385-8224-d6f856a4ecdb\",\"subtype\":\"Figure\",\"type\":\"Plot\"},\"ticker\":{\"id\":\"253c8406-04f3-4847-9ac1-182afb2bedd9\",\"type\":\"BasicTicker\"}},\"id\":\"fd197496-bc6d-462b-b134-53a3417193f0\",\"type\":\"Grid\"},{\"attributes\":{\"axis_label\":\"Count\",\"formatter\":{\"id\":\"16b130e9-6e55-40a5-80f7-9b2e1f46e36c\",\"type\":\"BasicTickFormatter\"},\"plot\":{\"id\":\"60825955-5b67-4385-8224-d6f856a4ecdb\",\"subtype\":\"Figure\",\"type\":\"Plot\"},\"ticker\":{\"id\":\"5755dc80-92e2-4897-8f1f-61ded94df864\",\"type\":\"BasicTicker\"}},\"id\":\"ed282aa9-5b4b-4fdd-be46-8dadf6abe052\",\"type\":\"LinearAxis\"},{\"attributes\":{\"source\":{\"id\":\"33c088dd-f3de-45bf-acb1-341626d9dbc8\",\"type\":\"ColumnDataSource\"}},\"id\":\"973b2930-3712-43ad-8a46-fed0b8283947\",\"type\":\"CDSView\"},{\"attributes\":{\"callback\":null},\"id\":\"89a114dd-1e3e-438a-aea7-9f044b68089e\",\"type\":\"DataRange1d\"},{\"attributes\":{},\"id\":\"5755dc80-92e2-4897-8f1f-61ded94df864\",\"type\":\"BasicTicker\"},{\"attributes\":{},\"id\":\"d38dcf61-dad4-4f14-9994-86dc9d43bb00\",\"type\":\"PanTool\"},{\"attributes\":{},\"id\":\"2f263e0e-95c3-4303-b19c-ba955b20c780\",\"type\":\"LinearScale\"},{\"attributes\":{},\"id\":\"253c8406-04f3-4847-9ac1-182afb2bedd9\",\"type\":\"BasicTicker\"}],\"root_ids\":[\"60825955-5b67-4385-8224-d6f856a4ecdb\"]},\"title\":\"Bokeh Application\",\"version\":\"0.13.0\"}};\n",
       "  var render_items = [{\"docid\":\"c9a76a72-5cc5-4515-9f69-8340659b31e0\",\"roots\":{\"60825955-5b67-4385-8224-d6f856a4ecdb\":\"d415e68a-1fe0-4ca6-9e41-d485df2c7899\"}}];\n",
       "  root.Bokeh.embed.embed_items_notebook(docs_json, render_items);\n",
       "\n",
       "  }\n",
       "  if (root.Bokeh !== undefined) {\n",
       "    embed_document(root);\n",
       "  } else {\n",
       "    var attempts = 0;\n",
       "    var timer = setInterval(function(root) {\n",
       "      if (root.Bokeh !== undefined) {\n",
       "        embed_document(root);\n",
       "        clearInterval(timer);\n",
       "      }\n",
       "      attempts++;\n",
       "      if (attempts > 100) {\n",
       "        console.log(\"Bokeh: ERROR: Unable to run BokehJS code because BokehJS library is missing\")\n",
       "        clearInterval(timer);\n",
       "      }\n",
       "    }, 10, root)\n",
       "  }\n",
       "})(window);"
      ],
      "application/vnd.bokehjs_exec.v0+json": ""
     },
     "metadata": {
      "application/vnd.bokehjs_exec.v0+json": {
       "id": "60825955-5b67-4385-8224-d6f856a4ecdb"
      }
     },
     "output_type": "display_data"
    }
   ],
   "source": [
    "# Set up the figure\n",
    "p = figure(plot_width = 500, \n",
    "           plot_height = 500, \n",
    "           title = 'Histogram of Age Count of Airnb Users',\n",
    "           x_axis_label = 'Age (years)', \n",
    "           y_axis_label = 'Count')\n",
    "\n",
    "# Add a quad glyph\n",
    "p.quad(bottom=0, \n",
    "       top=arr_hist, \n",
    "       left=edges[:-1], \n",
    "       right=edges[1:], \n",
    "       fill_color='red', \n",
    "       line_color='black')\n",
    "\n",
    "# To show in notebook\n",
    "output_notebook()\n",
    "\n",
    "# Show the plot\n",
    "show(p)"
   ]
  },
  {
   "cell_type": "code",
   "execution_count": 66,
   "metadata": {
    "ExecuteTime": {
     "end_time": "2018-10-05T02:20:37.866624Z",
     "start_time": "2018-10-05T02:20:37.859911Z"
    }
   },
   "outputs": [],
   "source": [
    "# add style\n",
    "def style(p):\n",
    "    p.title.align = 'center'\n",
    "    p.title.text_font_size = '18pt'\n",
    "    p.xaxis.axis_label_text_font_size = '12pt'\n",
    "    p.xaxis.major_label_text_font_size = '12pt'\n",
    "    p.yaxis.axis_label_text_font_size = '12pt'\n",
    "    p.yaxis.major_label_text_font_size = '12pt'\n",
    "    \n",
    "    return p"
   ]
  },
  {
   "cell_type": "code",
   "execution_count": 67,
   "metadata": {
    "ExecuteTime": {
     "end_time": "2018-10-05T02:20:38.354290Z",
     "start_time": "2018-10-05T02:20:37.869336Z"
    }
   },
   "outputs": [
    {
     "data": {
      "text/html": [
       "\n",
       "\n",
       "\n",
       "\n",
       "\n",
       "\n",
       "  <div class=\"bk-root\" id=\"57e8cb65-a4c7-4425-96de-72ba4c3b6233\"></div>\n"
      ]
     },
     "metadata": {},
     "output_type": "display_data"
    },
    {
     "data": {
      "application/javascript": [
       "(function(root) {\n",
       "  function embed_document(root) {\n",
       "    \n",
       "  var docs_json = {\"2d9b9b30-56ee-41a3-9c4d-b4c9d9a19b76\":{\"roots\":{\"references\":[{\"attributes\":{},\"id\":\"028b54ca-aeab-4b90-9b72-86844ecfa296\",\"type\":\"SaveTool\"},{\"attributes\":{\"bottom\":{\"value\":0},\"fill_color\":{\"value\":\"red\"},\"left\":{\"field\":\"left\"},\"right\":{\"field\":\"right\"},\"top\":{\"field\":\"top\"}},\"id\":\"3f4a0d5b-8ac1-47d4-9d55-aee8ea773fe2\",\"type\":\"Quad\"},{\"attributes\":{},\"id\":\"bf70a385-df6a-437d-83d4-646e6032b1e0\",\"type\":\"Selection\"},{\"attributes\":{\"below\":[{\"id\":\"1893db91-1a0e-49de-b305-5b7c886fbe6b\",\"type\":\"LinearAxis\"}],\"left\":[{\"id\":\"ed282aa9-5b4b-4fdd-be46-8dadf6abe052\",\"type\":\"LinearAxis\"}],\"plot_height\":500,\"plot_width\":500,\"renderers\":[{\"id\":\"1893db91-1a0e-49de-b305-5b7c886fbe6b\",\"type\":\"LinearAxis\"},{\"id\":\"fd197496-bc6d-462b-b134-53a3417193f0\",\"type\":\"Grid\"},{\"id\":\"ed282aa9-5b4b-4fdd-be46-8dadf6abe052\",\"type\":\"LinearAxis\"},{\"id\":\"b4958c15-d39a-487e-b6aa-42bc3666d4cc\",\"type\":\"Grid\"},{\"id\":\"0eeef1a9-4e76-4cf2-8058-de9bde640832\",\"type\":\"BoxAnnotation\"},{\"id\":\"9450fbf5-6c20-4173-a9d9-ece7eb7136b9\",\"type\":\"GlyphRenderer\"}],\"title\":{\"id\":\"eed384e2-1933-458e-bcd4-b533bb78c730\",\"type\":\"Title\"},\"toolbar\":{\"id\":\"0e3ada15-39f7-4c8f-83c5-59793c28f3e4\",\"type\":\"Toolbar\"},\"x_range\":{\"id\":\"89a114dd-1e3e-438a-aea7-9f044b68089e\",\"type\":\"DataRange1d\"},\"x_scale\":{\"id\":\"2f263e0e-95c3-4303-b19c-ba955b20c780\",\"type\":\"LinearScale\"},\"y_range\":{\"id\":\"3dd7db16-2c68-47d7-a100-923d29521d24\",\"type\":\"DataRange1d\"},\"y_scale\":{\"id\":\"e95db6ba-2190-42e1-8509-5a0552200c7c\",\"type\":\"LinearScale\"}},\"id\":\"60825955-5b67-4385-8224-d6f856a4ecdb\",\"subtype\":\"Figure\",\"type\":\"Plot\"},{\"attributes\":{},\"id\":\"5c7a71a4-db5c-44ac-bb0e-a2c179901417\",\"type\":\"BasicTickFormatter\"},{\"attributes\":{},\"id\":\"2c5a231b-0107-4fe4-9d1f-ba9ba3123ed8\",\"type\":\"UnionRenderers\"},{\"attributes\":{\"bottom_units\":\"screen\",\"fill_alpha\":{\"value\":0.5},\"fill_color\":{\"value\":\"lightgrey\"},\"left_units\":\"screen\",\"level\":\"overlay\",\"line_alpha\":{\"value\":1.0},\"line_color\":{\"value\":\"black\"},\"line_dash\":[4,4],\"line_width\":{\"value\":2},\"plot\":null,\"render_mode\":\"css\",\"right_units\":\"screen\",\"top_units\":\"screen\"},\"id\":\"0eeef1a9-4e76-4cf2-8058-de9bde640832\",\"type\":\"BoxAnnotation\"},{\"attributes\":{\"active_drag\":\"auto\",\"active_inspect\":\"auto\",\"active_multi\":null,\"active_scroll\":\"auto\",\"active_tap\":\"auto\",\"tools\":[{\"id\":\"d38dcf61-dad4-4f14-9994-86dc9d43bb00\",\"type\":\"PanTool\"},{\"id\":\"889ec9c2-d6a5-420e-b168-1c4f5b80ed0d\",\"type\":\"WheelZoomTool\"},{\"id\":\"1689649c-82c8-4ff4-8be2-366bb9b8aa6b\",\"type\":\"BoxZoomTool\"},{\"id\":\"028b54ca-aeab-4b90-9b72-86844ecfa296\",\"type\":\"SaveTool\"},{\"id\":\"d75f601e-8702-432d-bd95-4dd87f429fef\",\"type\":\"ResetTool\"},{\"id\":\"90ced73f-d423-44df-a6ea-29f8f8093fe9\",\"type\":\"HelpTool\"}]},\"id\":\"0e3ada15-39f7-4c8f-83c5-59793c28f3e4\",\"type\":\"Toolbar\"},{\"attributes\":{},\"id\":\"16b130e9-6e55-40a5-80f7-9b2e1f46e36c\",\"type\":\"BasicTickFormatter\"},{\"attributes\":{\"callback\":null},\"id\":\"3dd7db16-2c68-47d7-a100-923d29521d24\",\"type\":\"DataRange1d\"},{\"attributes\":{\"data_source\":{\"id\":\"33c088dd-f3de-45bf-acb1-341626d9dbc8\",\"type\":\"ColumnDataSource\"},\"glyph\":{\"id\":\"3f4a0d5b-8ac1-47d4-9d55-aee8ea773fe2\",\"type\":\"Quad\"},\"hover_glyph\":null,\"muted_glyph\":null,\"nonselection_glyph\":{\"id\":\"81f7aae8-9b95-4166-852f-b62e7a498ee3\",\"type\":\"Quad\"},\"selection_glyph\":null,\"view\":{\"id\":\"973b2930-3712-43ad-8a46-fed0b8283947\",\"type\":\"CDSView\"}},\"id\":\"9450fbf5-6c20-4173-a9d9-ece7eb7136b9\",\"type\":\"GlyphRenderer\"},{\"attributes\":{\"align\":\"center\",\"plot\":null,\"text\":\"Histogram of Age Count of Airnb Users\",\"text_font_size\":{\"value\":\"18pt\"}},\"id\":\"eed384e2-1933-458e-bcd4-b533bb78c730\",\"type\":\"Title\"},{\"attributes\":{\"callback\":null,\"data\":{\"left\":{\"__ndarray__\":\"AAAAAAAAJEAAAAAAAAA0QAAAAAAAAD5AAAAAAAAAREAAAAAAAABJQAAAAAAAAE5AAAAAAACAUUAAAAAAAABUQAAAAAAAgFZA\",\"dtype\":\"float64\",\"shape\":[9]},\"right\":{\"__ndarray__\":\"AAAAAAAANEAAAAAAAAA+QAAAAAAAAERAAAAAAAAASUAAAAAAAABOQAAAAAAAgFFAAAAAAAAAVEAAAAAAAIBWQAAAAAAAAFlA\",\"dtype\":\"float64\",\"shape\":[9]},\"top\":[1872,36050,47570,20210,10521,5138,1238,270,219]},\"selected\":{\"id\":\"bf70a385-df6a-437d-83d4-646e6032b1e0\",\"type\":\"Selection\"},\"selection_policy\":{\"id\":\"2c5a231b-0107-4fe4-9d1f-ba9ba3123ed8\",\"type\":\"UnionRenderers\"}},\"id\":\"33c088dd-f3de-45bf-acb1-341626d9dbc8\",\"type\":\"ColumnDataSource\"},{\"attributes\":{},\"id\":\"e95db6ba-2190-42e1-8509-5a0552200c7c\",\"type\":\"LinearScale\"},{\"attributes\":{},\"id\":\"90ced73f-d423-44df-a6ea-29f8f8093fe9\",\"type\":\"HelpTool\"},{\"attributes\":{\"bottom\":{\"value\":0},\"fill_alpha\":{\"value\":0.1},\"fill_color\":{\"value\":\"#1f77b4\"},\"left\":{\"field\":\"left\"},\"line_alpha\":{\"value\":0.1},\"line_color\":{\"value\":\"#1f77b4\"},\"right\":{\"field\":\"right\"},\"top\":{\"field\":\"top\"}},\"id\":\"81f7aae8-9b95-4166-852f-b62e7a498ee3\",\"type\":\"Quad\"},{\"attributes\":{\"dimension\":1,\"plot\":{\"id\":\"60825955-5b67-4385-8224-d6f856a4ecdb\",\"subtype\":\"Figure\",\"type\":\"Plot\"},\"ticker\":{\"id\":\"5755dc80-92e2-4897-8f1f-61ded94df864\",\"type\":\"BasicTicker\"}},\"id\":\"b4958c15-d39a-487e-b6aa-42bc3666d4cc\",\"type\":\"Grid\"},{\"attributes\":{},\"id\":\"889ec9c2-d6a5-420e-b168-1c4f5b80ed0d\",\"type\":\"WheelZoomTool\"},{\"attributes\":{},\"id\":\"d75f601e-8702-432d-bd95-4dd87f429fef\",\"type\":\"ResetTool\"},{\"attributes\":{\"axis_label\":\"Age (years)\",\"axis_label_text_font_size\":{\"value\":\"12pt\"},\"formatter\":{\"id\":\"5c7a71a4-db5c-44ac-bb0e-a2c179901417\",\"type\":\"BasicTickFormatter\"},\"major_label_text_font_size\":{\"value\":\"12pt\"},\"plot\":{\"id\":\"60825955-5b67-4385-8224-d6f856a4ecdb\",\"subtype\":\"Figure\",\"type\":\"Plot\"},\"ticker\":{\"id\":\"253c8406-04f3-4847-9ac1-182afb2bedd9\",\"type\":\"BasicTicker\"}},\"id\":\"1893db91-1a0e-49de-b305-5b7c886fbe6b\",\"type\":\"LinearAxis\"},{\"attributes\":{\"overlay\":{\"id\":\"0eeef1a9-4e76-4cf2-8058-de9bde640832\",\"type\":\"BoxAnnotation\"}},\"id\":\"1689649c-82c8-4ff4-8be2-366bb9b8aa6b\",\"type\":\"BoxZoomTool\"},{\"attributes\":{\"plot\":{\"id\":\"60825955-5b67-4385-8224-d6f856a4ecdb\",\"subtype\":\"Figure\",\"type\":\"Plot\"},\"ticker\":{\"id\":\"253c8406-04f3-4847-9ac1-182afb2bedd9\",\"type\":\"BasicTicker\"}},\"id\":\"fd197496-bc6d-462b-b134-53a3417193f0\",\"type\":\"Grid\"},{\"attributes\":{\"axis_label\":\"Count\",\"axis_label_text_font_size\":{\"value\":\"12pt\"},\"formatter\":{\"id\":\"16b130e9-6e55-40a5-80f7-9b2e1f46e36c\",\"type\":\"BasicTickFormatter\"},\"major_label_text_font_size\":{\"value\":\"12pt\"},\"plot\":{\"id\":\"60825955-5b67-4385-8224-d6f856a4ecdb\",\"subtype\":\"Figure\",\"type\":\"Plot\"},\"ticker\":{\"id\":\"5755dc80-92e2-4897-8f1f-61ded94df864\",\"type\":\"BasicTicker\"}},\"id\":\"ed282aa9-5b4b-4fdd-be46-8dadf6abe052\",\"type\":\"LinearAxis\"},{\"attributes\":{\"source\":{\"id\":\"33c088dd-f3de-45bf-acb1-341626d9dbc8\",\"type\":\"ColumnDataSource\"}},\"id\":\"973b2930-3712-43ad-8a46-fed0b8283947\",\"type\":\"CDSView\"},{\"attributes\":{\"callback\":null},\"id\":\"89a114dd-1e3e-438a-aea7-9f044b68089e\",\"type\":\"DataRange1d\"},{\"attributes\":{},\"id\":\"5755dc80-92e2-4897-8f1f-61ded94df864\",\"type\":\"BasicTicker\"},{\"attributes\":{},\"id\":\"d38dcf61-dad4-4f14-9994-86dc9d43bb00\",\"type\":\"PanTool\"},{\"attributes\":{},\"id\":\"2f263e0e-95c3-4303-b19c-ba955b20c780\",\"type\":\"LinearScale\"},{\"attributes\":{},\"id\":\"253c8406-04f3-4847-9ac1-182afb2bedd9\",\"type\":\"BasicTicker\"}],\"root_ids\":[\"60825955-5b67-4385-8224-d6f856a4ecdb\"]},\"title\":\"Bokeh Application\",\"version\":\"0.13.0\"}};\n",
       "  var render_items = [{\"docid\":\"2d9b9b30-56ee-41a3-9c4d-b4c9d9a19b76\",\"roots\":{\"60825955-5b67-4385-8224-d6f856a4ecdb\":\"57e8cb65-a4c7-4425-96de-72ba4c3b6233\"}}];\n",
       "  root.Bokeh.embed.embed_items_notebook(docs_json, render_items);\n",
       "\n",
       "  }\n",
       "  if (root.Bokeh !== undefined) {\n",
       "    embed_document(root);\n",
       "  } else {\n",
       "    var attempts = 0;\n",
       "    var timer = setInterval(function(root) {\n",
       "      if (root.Bokeh !== undefined) {\n",
       "        embed_document(root);\n",
       "        clearInterval(timer);\n",
       "      }\n",
       "      attempts++;\n",
       "      if (attempts > 100) {\n",
       "        console.log(\"Bokeh: ERROR: Unable to run BokehJS code because BokehJS library is missing\")\n",
       "        clearInterval(timer);\n",
       "      }\n",
       "    }, 10, root)\n",
       "  }\n",
       "})(window);"
      ],
      "application/vnd.bokehjs_exec.v0+json": ""
     },
     "metadata": {
      "application/vnd.bokehjs_exec.v0+json": {
       "id": "60825955-5b67-4385-8224-d6f856a4ecdb"
      }
     },
     "output_type": "display_data"
    }
   ],
   "source": [
    "styled_p = style(p)\n",
    "show(styled_p)"
   ]
  },
  {
   "cell_type": "code",
   "execution_count": 68,
   "metadata": {
    "ExecuteTime": {
     "end_time": "2018-10-05T02:20:38.399701Z",
     "start_time": "2018-10-05T02:20:38.361135Z"
    }
   },
   "outputs": [
    {
     "data": {
      "text/html": [
       "<div>\n",
       "<style scoped>\n",
       "    .dataframe tbody tr th:only-of-type {\n",
       "        vertical-align: middle;\n",
       "    }\n",
       "\n",
       "    .dataframe tbody tr th {\n",
       "        vertical-align: top;\n",
       "    }\n",
       "\n",
       "    .dataframe thead th {\n",
       "        text-align: right;\n",
       "    }\n",
       "</style>\n",
       "<table border=\"1\" class=\"dataframe\">\n",
       "  <thead>\n",
       "    <tr style=\"text-align: right;\">\n",
       "      <th></th>\n",
       "      <th>count</th>\n",
       "      <th>left</th>\n",
       "      <th>right</th>\n",
       "      <th>f_count</th>\n",
       "      <th>f_interval</th>\n",
       "    </tr>\n",
       "  </thead>\n",
       "  <tbody>\n",
       "    <tr>\n",
       "      <th>0</th>\n",
       "      <td>1872</td>\n",
       "      <td>10.0</td>\n",
       "      <td>20.0</td>\n",
       "      <td>1872 people</td>\n",
       "      <td>10 to 20 years</td>\n",
       "    </tr>\n",
       "    <tr>\n",
       "      <th>1</th>\n",
       "      <td>36050</td>\n",
       "      <td>20.0</td>\n",
       "      <td>30.0</td>\n",
       "      <td>36050 people</td>\n",
       "      <td>20 to 30 years</td>\n",
       "    </tr>\n",
       "    <tr>\n",
       "      <th>2</th>\n",
       "      <td>47570</td>\n",
       "      <td>30.0</td>\n",
       "      <td>40.0</td>\n",
       "      <td>47570 people</td>\n",
       "      <td>30 to 40 years</td>\n",
       "    </tr>\n",
       "    <tr>\n",
       "      <th>3</th>\n",
       "      <td>20210</td>\n",
       "      <td>40.0</td>\n",
       "      <td>50.0</td>\n",
       "      <td>20210 people</td>\n",
       "      <td>40 to 50 years</td>\n",
       "    </tr>\n",
       "    <tr>\n",
       "      <th>4</th>\n",
       "      <td>10521</td>\n",
       "      <td>50.0</td>\n",
       "      <td>60.0</td>\n",
       "      <td>10521 people</td>\n",
       "      <td>50 to 60 years</td>\n",
       "    </tr>\n",
       "  </tbody>\n",
       "</table>\n",
       "</div>"
      ],
      "text/plain": [
       "   count  left  right       f_count      f_interval\n",
       "0   1872  10.0   20.0   1872 people  10 to 20 years\n",
       "1  36050  20.0   30.0  36050 people  20 to 30 years\n",
       "2  47570  30.0   40.0  47570 people  30 to 40 years\n",
       "3  20210  40.0   50.0  20210 people  40 to 50 years\n",
       "4  10521  50.0   60.0  10521 people  50 to 60 years"
      ]
     },
     "execution_count": 68,
     "metadata": {},
     "output_type": "execute_result"
    }
   ],
   "source": [
    "# Column data source\n",
    "arr_df = pd.DataFrame({'count': arr_hist, 'left': edges[:-1], 'right': edges[1:]})\n",
    "arr_df['f_count'] = ['%d people' % count for count in arr_df['count']]\n",
    "arr_df['f_interval'] = ['%d to %d years' % (left, right) for left, right in zip(arr_df['left'], arr_df['right'])]\n",
    "\n",
    "arr_df.head()"
   ]
  },
  {
   "cell_type": "code",
   "execution_count": 69,
   "metadata": {
    "ExecuteTime": {
     "end_time": "2018-10-05T02:20:38.414159Z",
     "start_time": "2018-10-05T02:20:38.406980Z"
    }
   },
   "outputs": [
    {
     "data": {
      "text/plain": [
       "dict_keys(['count', 'left', 'right', 'f_count', 'f_interval', 'index'])"
      ]
     },
     "execution_count": 69,
     "metadata": {},
     "output_type": "execute_result"
    }
   ],
   "source": [
    "arr_src = ColumnDataSource(arr_df)\n",
    "arr_src.data.keys()"
   ]
  },
  {
   "cell_type": "code",
   "execution_count": 70,
   "metadata": {
    "ExecuteTime": {
     "end_time": "2018-10-05T02:20:38.807743Z",
     "start_time": "2018-10-05T02:20:38.422126Z"
    }
   },
   "outputs": [
    {
     "data": {
      "text/html": [
       "\n",
       "\n",
       "\n",
       "\n",
       "\n",
       "\n",
       "  <div class=\"bk-root\" id=\"1e7ffd41-fd8b-486a-831c-1bf509779fe0\"></div>\n"
      ]
     },
     "metadata": {},
     "output_type": "display_data"
    },
    {
     "data": {
      "application/javascript": [
       "(function(root) {\n",
       "  function embed_document(root) {\n",
       "    \n",
       "  var docs_json = {\"6b2787e6-d0b9-4e09-9a4e-7226b8d8173e\":{\"roots\":{\"references\":[{\"attributes\":{\"bottom\":{\"value\":0},\"fill_color\":{\"value\":\"red\"},\"left\":{\"field\":\"left\"},\"right\":{\"field\":\"right\"},\"top\":{\"field\":\"count\"}},\"id\":\"f0e5dab5-3f6b-4f07-8ba1-688946722c75\",\"type\":\"Quad\"},{\"attributes\":{},\"id\":\"5c812f65-e7cb-4622-a402-1f60dc3e2688\",\"type\":\"SaveTool\"},{\"attributes\":{\"dimension\":1,\"plot\":{\"id\":\"2b4df0d6-1511-4085-bfea-feeade5abf14\",\"subtype\":\"Figure\",\"type\":\"Plot\"},\"ticker\":{\"id\":\"ff2ada80-ba1e-42af-97f9-19dc713b3ba9\",\"type\":\"BasicTicker\"}},\"id\":\"22381daa-4c1a-4d29-90f2-83f15795a703\",\"type\":\"Grid\"},{\"attributes\":{},\"id\":\"cc05f550-db7c-412b-9cc4-ff0231563ca7\",\"type\":\"LinearScale\"},{\"attributes\":{\"overlay\":{\"id\":\"50bc7262-6cf7-46ab-b780-da55d323632f\",\"type\":\"BoxAnnotation\"}},\"id\":\"4bab80b3-6e25-4fe6-9c4b-d1bb84ad1dd8\",\"type\":\"BoxZoomTool\"},{\"attributes\":{\"axis_label\":\"Age (years)\",\"axis_label_text_font_size\":{\"value\":\"12pt\"},\"formatter\":{\"id\":\"0b181c97-24a4-4d09-a7e1-75762e736b5f\",\"type\":\"BasicTickFormatter\"},\"major_label_text_font_size\":{\"value\":\"12pt\"},\"plot\":{\"id\":\"2b4df0d6-1511-4085-bfea-feeade5abf14\",\"subtype\":\"Figure\",\"type\":\"Plot\"},\"ticker\":{\"id\":\"4480b5e1-3a9d-44c3-aa59-ac1a37beffe8\",\"type\":\"BasicTicker\"}},\"id\":\"9350b1f4-6a27-4cf0-a70d-8657cd0f0e7c\",\"type\":\"LinearAxis\"},{\"attributes\":{},\"id\":\"ff2ada80-ba1e-42af-97f9-19dc713b3ba9\",\"type\":\"BasicTicker\"},{\"attributes\":{\"callback\":null},\"id\":\"709432b9-876c-478e-8b76-25926c30110d\",\"type\":\"DataRange1d\"},{\"attributes\":{},\"id\":\"4480b5e1-3a9d-44c3-aa59-ac1a37beffe8\",\"type\":\"BasicTicker\"},{\"attributes\":{\"bottom_units\":\"screen\",\"fill_alpha\":{\"value\":0.5},\"fill_color\":{\"value\":\"lightgrey\"},\"left_units\":\"screen\",\"level\":\"overlay\",\"line_alpha\":{\"value\":1.0},\"line_color\":{\"value\":\"black\"},\"line_dash\":[4,4],\"line_width\":{\"value\":2},\"plot\":null,\"render_mode\":\"css\",\"right_units\":\"screen\",\"top_units\":\"screen\"},\"id\":\"50bc7262-6cf7-46ab-b780-da55d323632f\",\"type\":\"BoxAnnotation\"},{\"attributes\":{},\"id\":\"837d36d8-668d-412c-8262-f522fd937d2c\",\"type\":\"UnionRenderers\"},{\"attributes\":{\"plot\":{\"id\":\"2b4df0d6-1511-4085-bfea-feeade5abf14\",\"subtype\":\"Figure\",\"type\":\"Plot\"},\"ticker\":{\"id\":\"4480b5e1-3a9d-44c3-aa59-ac1a37beffe8\",\"type\":\"BasicTicker\"}},\"id\":\"bf7d1569-daf4-458c-a454-b8376074030f\",\"type\":\"Grid\"},{\"attributes\":{},\"id\":\"f14a929a-f583-4fe8-aa00-9e936f75104e\",\"type\":\"BasicTickFormatter\"},{\"attributes\":{\"callback\":null,\"data\":{\"count\":[1872,36050,47570,20210,10521,5138,1238,270,219],\"f_count\":[\"1872 people\",\"36050 people\",\"47570 people\",\"20210 people\",\"10521 people\",\"5138 people\",\"1238 people\",\"270 people\",\"219 people\"],\"f_interval\":[\"10 to 20 years\",\"20 to 30 years\",\"30 to 40 years\",\"40 to 50 years\",\"50 to 60 years\",\"60 to 70 years\",\"70 to 80 years\",\"80 to 90 years\",\"90 to 100 years\"],\"index\":[0,1,2,3,4,5,6,7,8],\"left\":{\"__ndarray__\":\"AAAAAAAAJEAAAAAAAAA0QAAAAAAAAD5AAAAAAAAAREAAAAAAAABJQAAAAAAAAE5AAAAAAACAUUAAAAAAAABUQAAAAAAAgFZA\",\"dtype\":\"float64\",\"shape\":[9]},\"right\":{\"__ndarray__\":\"AAAAAAAANEAAAAAAAAA+QAAAAAAAAERAAAAAAAAASUAAAAAAAABOQAAAAAAAgFFAAAAAAAAAVEAAAAAAAIBWQAAAAAAAAFlA\",\"dtype\":\"float64\",\"shape\":[9]}},\"selected\":{\"id\":\"664eef65-ec48-43eb-8166-686d9565b6d6\",\"type\":\"Selection\"},\"selection_policy\":{\"id\":\"837d36d8-668d-412c-8262-f522fd937d2c\",\"type\":\"UnionRenderers\"}},\"id\":\"bc2b61ea-b6b3-43c0-b1a3-f06ec70b1905\",\"type\":\"ColumnDataSource\"},{\"attributes\":{\"data_source\":{\"id\":\"bc2b61ea-b6b3-43c0-b1a3-f06ec70b1905\",\"type\":\"ColumnDataSource\"},\"glyph\":{\"id\":\"f0e5dab5-3f6b-4f07-8ba1-688946722c75\",\"type\":\"Quad\"},\"hover_glyph\":{\"id\":\"83a4ece8-8a7f-408f-8c55-561ea800943f\",\"type\":\"Quad\"},\"muted_glyph\":null,\"nonselection_glyph\":{\"id\":\"c8670d96-74dd-4add-b869-e063efc20196\",\"type\":\"Quad\"},\"selection_glyph\":null,\"view\":{\"id\":\"a03cf7ca-8980-41a5-b56c-980659b7cddf\",\"type\":\"CDSView\"}},\"id\":\"e137a61c-e9de-4cfb-ab0f-88653568d21e\",\"type\":\"GlyphRenderer\"},{\"attributes\":{},\"id\":\"664eef65-ec48-43eb-8166-686d9565b6d6\",\"type\":\"Selection\"},{\"attributes\":{},\"id\":\"7ad52517-cdf9-4dfd-90fc-8e42d69c4ce0\",\"type\":\"PanTool\"},{\"attributes\":{\"callback\":null,\"renderers\":\"auto\",\"tooltips\":[[\"Age\",\"@f_interval\"],[\"Count\",\"@f_count\"]]},\"id\":\"b46d7fd5-afc3-405e-a8f4-4fa47cccf7c6\",\"type\":\"HoverTool\"},{\"attributes\":{},\"id\":\"fe22b5ed-be88-4e5f-9aa9-e0f744bd510c\",\"type\":\"WheelZoomTool\"},{\"attributes\":{\"active_drag\":\"auto\",\"active_inspect\":\"auto\",\"active_multi\":null,\"active_scroll\":\"auto\",\"active_tap\":\"auto\",\"tools\":[{\"id\":\"7ad52517-cdf9-4dfd-90fc-8e42d69c4ce0\",\"type\":\"PanTool\"},{\"id\":\"fe22b5ed-be88-4e5f-9aa9-e0f744bd510c\",\"type\":\"WheelZoomTool\"},{\"id\":\"4bab80b3-6e25-4fe6-9c4b-d1bb84ad1dd8\",\"type\":\"BoxZoomTool\"},{\"id\":\"5c812f65-e7cb-4622-a402-1f60dc3e2688\",\"type\":\"SaveTool\"},{\"id\":\"eb97731b-8690-4f66-b9be-51cd2a6f1928\",\"type\":\"ResetTool\"},{\"id\":\"79191f1a-4c07-449e-9440-00dc54a182d1\",\"type\":\"HelpTool\"},{\"id\":\"b46d7fd5-afc3-405e-a8f4-4fa47cccf7c6\",\"type\":\"HoverTool\"}]},\"id\":\"45ee5e35-aae0-406d-b85b-0d08918801c3\",\"type\":\"Toolbar\"},{\"attributes\":{\"axis_label\":\"Count\",\"axis_label_text_font_size\":{\"value\":\"12pt\"},\"formatter\":{\"id\":\"f14a929a-f583-4fe8-aa00-9e936f75104e\",\"type\":\"BasicTickFormatter\"},\"major_label_text_font_size\":{\"value\":\"12pt\"},\"plot\":{\"id\":\"2b4df0d6-1511-4085-bfea-feeade5abf14\",\"subtype\":\"Figure\",\"type\":\"Plot\"},\"ticker\":{\"id\":\"ff2ada80-ba1e-42af-97f9-19dc713b3ba9\",\"type\":\"BasicTicker\"}},\"id\":\"473eb77e-92c7-4015-af84-608c19a5f3b0\",\"type\":\"LinearAxis\"},{\"attributes\":{\"callback\":null},\"id\":\"25b39962-c105-41ab-b252-2926fbeada7e\",\"type\":\"DataRange1d\"},{\"attributes\":{\"bottom\":{\"value\":0},\"fill_alpha\":{\"value\":0.7},\"fill_color\":{\"value\":\"blue\"},\"left\":{\"field\":\"left\"},\"line_color\":{\"value\":\"#1f77b4\"},\"right\":{\"field\":\"right\"},\"top\":{\"field\":\"count\"}},\"id\":\"83a4ece8-8a7f-408f-8c55-561ea800943f\",\"type\":\"Quad\"},{\"attributes\":{},\"id\":\"1f2cb022-5a37-435a-9908-9d834f256f78\",\"type\":\"LinearScale\"},{\"attributes\":{},\"id\":\"79191f1a-4c07-449e-9440-00dc54a182d1\",\"type\":\"HelpTool\"},{\"attributes\":{},\"id\":\"eb97731b-8690-4f66-b9be-51cd2a6f1928\",\"type\":\"ResetTool\"},{\"attributes\":{\"bottom\":{\"value\":0},\"fill_alpha\":{\"value\":0.1},\"fill_color\":{\"value\":\"#1f77b4\"},\"left\":{\"field\":\"left\"},\"line_alpha\":{\"value\":0.1},\"line_color\":{\"value\":\"#1f77b4\"},\"right\":{\"field\":\"right\"},\"top\":{\"field\":\"count\"}},\"id\":\"c8670d96-74dd-4add-b869-e063efc20196\",\"type\":\"Quad\"},{\"attributes\":{},\"id\":\"0b181c97-24a4-4d09-a7e1-75762e736b5f\",\"type\":\"BasicTickFormatter\"},{\"attributes\":{\"below\":[{\"id\":\"9350b1f4-6a27-4cf0-a70d-8657cd0f0e7c\",\"type\":\"LinearAxis\"}],\"left\":[{\"id\":\"473eb77e-92c7-4015-af84-608c19a5f3b0\",\"type\":\"LinearAxis\"}],\"plot_height\":500,\"plot_width\":500,\"renderers\":[{\"id\":\"9350b1f4-6a27-4cf0-a70d-8657cd0f0e7c\",\"type\":\"LinearAxis\"},{\"id\":\"bf7d1569-daf4-458c-a454-b8376074030f\",\"type\":\"Grid\"},{\"id\":\"473eb77e-92c7-4015-af84-608c19a5f3b0\",\"type\":\"LinearAxis\"},{\"id\":\"22381daa-4c1a-4d29-90f2-83f15795a703\",\"type\":\"Grid\"},{\"id\":\"50bc7262-6cf7-46ab-b780-da55d323632f\",\"type\":\"BoxAnnotation\"},{\"id\":\"e137a61c-e9de-4cfb-ab0f-88653568d21e\",\"type\":\"GlyphRenderer\"}],\"title\":{\"id\":\"8e233624-1543-4dbe-96c2-9599dd2a7f13\",\"type\":\"Title\"},\"toolbar\":{\"id\":\"45ee5e35-aae0-406d-b85b-0d08918801c3\",\"type\":\"Toolbar\"},\"x_range\":{\"id\":\"25b39962-c105-41ab-b252-2926fbeada7e\",\"type\":\"DataRange1d\"},\"x_scale\":{\"id\":\"cc05f550-db7c-412b-9cc4-ff0231563ca7\",\"type\":\"LinearScale\"},\"y_range\":{\"id\":\"709432b9-876c-478e-8b76-25926c30110d\",\"type\":\"DataRange1d\"},\"y_scale\":{\"id\":\"1f2cb022-5a37-435a-9908-9d834f256f78\",\"type\":\"LinearScale\"}},\"id\":\"2b4df0d6-1511-4085-bfea-feeade5abf14\",\"subtype\":\"Figure\",\"type\":\"Plot\"},{\"attributes\":{\"align\":\"center\",\"plot\":null,\"text\":\"Airnb Users Age Distribution\",\"text_font_size\":{\"value\":\"18pt\"}},\"id\":\"8e233624-1543-4dbe-96c2-9599dd2a7f13\",\"type\":\"Title\"},{\"attributes\":{\"source\":{\"id\":\"bc2b61ea-b6b3-43c0-b1a3-f06ec70b1905\",\"type\":\"ColumnDataSource\"}},\"id\":\"a03cf7ca-8980-41a5-b56c-980659b7cddf\",\"type\":\"CDSView\"}],\"root_ids\":[\"2b4df0d6-1511-4085-bfea-feeade5abf14\"]},\"title\":\"Bokeh Application\",\"version\":\"0.13.0\"}};\n",
       "  var render_items = [{\"docid\":\"6b2787e6-d0b9-4e09-9a4e-7226b8d8173e\",\"roots\":{\"2b4df0d6-1511-4085-bfea-feeade5abf14\":\"1e7ffd41-fd8b-486a-831c-1bf509779fe0\"}}];\n",
       "  root.Bokeh.embed.embed_items_notebook(docs_json, render_items);\n",
       "\n",
       "  }\n",
       "  if (root.Bokeh !== undefined) {\n",
       "    embed_document(root);\n",
       "  } else {\n",
       "    var attempts = 0;\n",
       "    var timer = setInterval(function(root) {\n",
       "      if (root.Bokeh !== undefined) {\n",
       "        embed_document(root);\n",
       "        clearInterval(timer);\n",
       "      }\n",
       "      attempts++;\n",
       "      if (attempts > 100) {\n",
       "        console.log(\"Bokeh: ERROR: Unable to run BokehJS code because BokehJS library is missing\")\n",
       "        clearInterval(timer);\n",
       "      }\n",
       "    }, 10, root)\n",
       "  }\n",
       "})(window);"
      ],
      "application/vnd.bokehjs_exec.v0+json": ""
     },
     "metadata": {
      "application/vnd.bokehjs_exec.v0+json": {
       "id": "2b4df0d6-1511-4085-bfea-feeade5abf14"
      }
     },
     "output_type": "display_data"
    }
   ],
   "source": [
    "# Set up the figure same as before\n",
    "p = figure(plot_width = 500, \n",
    "           plot_height = 500, \n",
    "           title = 'Airnb Users Age Distribution',\n",
    "           x_axis_label = 'Age (years)', \n",
    "           y_axis_label = 'Count')\n",
    "\n",
    "# Add a quad glyph with source this time\n",
    "p.quad(bottom=0, \n",
    "       top='count', \n",
    "       left='left', \n",
    "       right='right', \n",
    "       source=arr_src,\n",
    "       fill_color='red',\n",
    "       hover_fill_alpha=0.7,\n",
    "       hover_fill_color='blue',\n",
    "       line_color='black')\n",
    "\n",
    "# Add style to the plot\n",
    "styled_p = style(p)\n",
    "\n",
    "# Add a hover tool referring to the formatted columns\n",
    "hover = HoverTool(tooltips = [('Age', '@f_interval'),\n",
    "                              ('Count', '@f_count')])\n",
    "\n",
    "# Add the hover tool to the graph\n",
    "styled_p.add_tools(hover)\n",
    "\n",
    "# Show the plot\n",
    "show(styled_p)"
   ]
  },
  {
   "cell_type": "code",
   "execution_count": 71,
   "metadata": {
    "ExecuteTime": {
     "end_time": "2018-10-05T02:20:41.500058Z",
     "start_time": "2018-10-05T02:20:38.812294Z"
    }
   },
   "outputs": [
    {
     "data": {
      "text/plain": [
       "['outputs/airnb_age.svg']"
      ]
     },
     "execution_count": 71,
     "metadata": {},
     "output_type": "execute_result"
    }
   ],
   "source": [
    "from bokeh.io import export_svgs\n",
    "\n",
    "p.output_backend = \"svg\"\n",
    "export_svgs(p, filename=\"outputs/airnb_age.svg\")"
   ]
  },
  {
   "cell_type": "code",
   "execution_count": 72,
   "metadata": {
    "ExecuteTime": {
     "end_time": "2018-10-05T02:20:41.506187Z",
     "start_time": "2018-10-05T02:20:41.502626Z"
    }
   },
   "outputs": [],
   "source": [
    "from bokeh.io import output_file\n",
    "output_file(\"outputs/airnb_age.html\")"
   ]
  },
  {
   "cell_type": "code",
   "execution_count": null,
   "metadata": {},
   "outputs": [],
   "source": []
  }
 ],
 "metadata": {
  "kernelspec": {
   "display_name": "Python (pyvz)",
   "language": "python",
   "name": "pyvz"
  },
  "language_info": {
   "codemirror_mode": {
    "name": "ipython",
    "version": 3
   },
   "file_extension": ".py",
   "mimetype": "text/x-python",
   "name": "python",
   "nbconvert_exporter": "python",
   "pygments_lexer": "ipython3",
   "version": "3.6.6"
  },
  "toc": {
   "base_numbering": 1,
   "nav_menu": {},
   "number_sections": true,
   "sideBar": true,
   "skip_h1_title": false,
   "title_cell": "Table of Contents",
   "title_sidebar": "Contents",
   "toc_cell": true,
   "toc_position": {},
   "toc_section_display": true,
   "toc_window_display": true
  }
 },
 "nbformat": 4,
 "nbformat_minor": 2
}
