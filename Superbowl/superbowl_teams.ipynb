{
 "cells": [
  {
   "cell_type": "markdown",
   "metadata": {
    "toc": true
   },
   "source": [
    "<h1>Table of Contents<span class=\"tocSkip\"></span></h1>\n",
    "<div class=\"toc\"><ul class=\"toc-item\"><li><span><a href=\"#Where-are-the-NFL-Teams-Located-?\" data-toc-modified-id=\"Where-are-the-NFL-Teams-Located-?-1\"><span class=\"toc-item-num\">1&nbsp;&nbsp;</span>Where are the NFL Teams Located ?</a></span></li><li><span><a href=\"#Who-has-won-the-Superbowl-most-times-?\" data-toc-modified-id=\"Who-has-won-the-Superbowl-most-times-?-2\"><span class=\"toc-item-num\">2&nbsp;&nbsp;</span>Who has won the Superbowl most times ?</a></span></li><li><span><a href=\"#How-many-times-the-teams-have-reached-the-Superbowl-?\" data-toc-modified-id=\"How-many-times-the-teams-have-reached-the-Superbowl-?-3\"><span class=\"toc-item-num\">3&nbsp;&nbsp;</span>How many times the teams have reached the Superbowl ?</a></span></li><li><span><a href=\"#Who-has-won-consecutively-two-times-?\" data-toc-modified-id=\"Who-has-won-consecutively-two-times-?-4\"><span class=\"toc-item-num\">4&nbsp;&nbsp;</span>Who has won consecutively two times ?</a></span></li><li><span><a href=\"#Who-has-lost-consecutively-two-times-?\" data-toc-modified-id=\"Who-has-lost-consecutively-two-times-?-5\"><span class=\"toc-item-num\">5&nbsp;&nbsp;</span>Who has lost consecutively two times ?</a></span></li><li><span><a href=\"#Who-has-been-on-Superbowl-but-never-won-?\" data-toc-modified-id=\"Who-has-been-on-Superbowl-but-never-won-?-6\"><span class=\"toc-item-num\">6&nbsp;&nbsp;</span>Who has been on Superbowl but never won ?</a></span></li><li><span><a href=\"#Who-has-never-been-to-Superbowl-?\" data-toc-modified-id=\"Who-has-never-been-to-Superbowl-?-7\"><span class=\"toc-item-num\">7&nbsp;&nbsp;</span>Who has never been to Superbowl ?</a></span></li></ul></div>"
   ]
  },
  {
   "cell_type": "code",
   "execution_count": 1,
   "metadata": {
    "ExecuteTime": {
     "end_time": "2019-02-06T03:17:56.130644Z",
     "start_time": "2019-02-06T03:17:55.372701Z"
    }
   },
   "outputs": [],
   "source": [
    "import pandas as pd\n",
    "import numpy as np\n",
    "\n",
    "from IPython.display import Image\n",
    "\n",
    "import plotly.plotly as py\n",
    "\n",
    "import matplotlib.pyplot as plt\n",
    "%matplotlib inline"
   ]
  },
  {
   "cell_type": "markdown",
   "metadata": {},
   "source": [
    "# Where are the NFL Teams Located ?"
   ]
  },
  {
   "cell_type": "code",
   "execution_count": 2,
   "metadata": {
    "ExecuteTime": {
     "end_time": "2019-02-06T03:18:09.475524Z",
     "start_time": "2019-02-06T03:17:56.133490Z"
    }
   },
   "outputs": [
    {
     "data": {
      "text/html": [
       "<div>\n",
       "<style scoped>\n",
       "    .dataframe tbody tr th:only-of-type {\n",
       "        vertical-align: middle;\n",
       "    }\n",
       "\n",
       "    .dataframe tbody tr th {\n",
       "        vertical-align: top;\n",
       "    }\n",
       "\n",
       "    .dataframe thead th {\n",
       "        text-align: right;\n",
       "    }\n",
       "</style>\n",
       "<table border=\"1\" class=\"dataframe\">\n",
       "  <thead>\n",
       "    <tr style=\"text-align: right;\">\n",
       "      <th></th>\n",
       "      <th>Division</th>\n",
       "      <th>Club</th>\n",
       "      <th>City</th>\n",
       "      <th>Stadium</th>\n",
       "      <th>Capacity</th>\n",
       "      <th>Coordinates</th>\n",
       "      <th>Firstseason</th>\n",
       "      <th>Headcoach</th>\n",
       "      <th>latitude</th>\n",
       "      <th>longitude</th>\n",
       "      <th>color</th>\n",
       "    </tr>\n",
       "  </thead>\n",
       "  <tbody>\n",
       "    <tr>\n",
       "      <th>2</th>\n",
       "      <td>East</td>\n",
       "      <td>Buffalo Bills</td>\n",
       "      <td>Orchard Park, New York</td>\n",
       "      <td>New Era Field</td>\n",
       "      <td>71608</td>\n",
       "      <td>42°46′26″N 78°47′13″W﻿ / ﻿42.774°N 78.787°W</td>\n",
       "      <td>1960 (AFL), 1970 (NFL)</td>\n",
       "      <td>Sean McDermott</td>\n",
       "      <td>42.774</td>\n",
       "      <td>-78.787</td>\n",
       "      <td>0</td>\n",
       "    </tr>\n",
       "    <tr>\n",
       "      <th>3</th>\n",
       "      <td>East</td>\n",
       "      <td>Miami Dolphins</td>\n",
       "      <td>Miami Gardens, Florida</td>\n",
       "      <td>Hard Rock Stadium</td>\n",
       "      <td>64767</td>\n",
       "      <td>25°57′29″N 80°14′20″W﻿ / ﻿25.958°N 80.239°W</td>\n",
       "      <td>1966 (AFL), 1970 (NFL)</td>\n",
       "      <td>Brian Flores</td>\n",
       "      <td>25.958</td>\n",
       "      <td>-80.239</td>\n",
       "      <td>0</td>\n",
       "    </tr>\n",
       "    <tr>\n",
       "      <th>4</th>\n",
       "      <td>East</td>\n",
       "      <td>New England Patriots</td>\n",
       "      <td>Foxborough, Massachusetts</td>\n",
       "      <td>Gillette Stadium</td>\n",
       "      <td>65878</td>\n",
       "      <td>42°05′28″N 71°15′50″W﻿ / ﻿42.091°N 71.264°W</td>\n",
       "      <td>1960 (AFL), 1970 (NFL)</td>\n",
       "      <td>Bill Belichick</td>\n",
       "      <td>42.091</td>\n",
       "      <td>-71.264</td>\n",
       "      <td>0</td>\n",
       "    </tr>\n",
       "    <tr>\n",
       "      <th>5</th>\n",
       "      <td>East</td>\n",
       "      <td>New York Jets</td>\n",
       "      <td>East Rutherford, New Jersey</td>\n",
       "      <td>MetLife Stadium[C]</td>\n",
       "      <td>82500</td>\n",
       "      <td>40°48′50″N 74°04′26″W﻿ / ﻿40.814°N 74.074°W</td>\n",
       "      <td>1960 (AFL), 1970 (NFL)</td>\n",
       "      <td>Adam Gase</td>\n",
       "      <td>40.814</td>\n",
       "      <td>-74.074</td>\n",
       "      <td>0</td>\n",
       "    </tr>\n",
       "    <tr>\n",
       "      <th>6</th>\n",
       "      <td>North</td>\n",
       "      <td>Baltimore Ravens</td>\n",
       "      <td>Baltimore, Maryland</td>\n",
       "      <td>M&amp;T Bank Stadium</td>\n",
       "      <td>71008</td>\n",
       "      <td>39°16′41″N 76°37′23″W﻿ / ﻿39.278°N 76.623°W</td>\n",
       "      <td>1996[D]</td>\n",
       "      <td>John Harbaugh</td>\n",
       "      <td>39.278</td>\n",
       "      <td>-76.623</td>\n",
       "      <td>1</td>\n",
       "    </tr>\n",
       "    <tr>\n",
       "      <th>7</th>\n",
       "      <td>North</td>\n",
       "      <td>Cincinnati Bengals</td>\n",
       "      <td>Cincinnati, Ohio</td>\n",
       "      <td>Paul Brown Stadium</td>\n",
       "      <td>65515</td>\n",
       "      <td>39°05′42″N 84°30′58″W﻿ / ﻿39.095°N 84.516°W</td>\n",
       "      <td>1968 (AFL), 1970 (NFL)</td>\n",
       "      <td>Zac Taylor</td>\n",
       "      <td>39.095</td>\n",
       "      <td>-84.516</td>\n",
       "      <td>1</td>\n",
       "    </tr>\n",
       "  </tbody>\n",
       "</table>\n",
       "</div>"
      ],
      "text/plain": [
       "  Division                  Club                         City  \\\n",
       "2     East         Buffalo Bills       Orchard Park, New York   \n",
       "3     East        Miami Dolphins       Miami Gardens, Florida   \n",
       "4     East  New England Patriots    Foxborough, Massachusetts   \n",
       "5     East         New York Jets  East Rutherford, New Jersey   \n",
       "6    North      Baltimore Ravens          Baltimore, Maryland   \n",
       "7    North    Cincinnati Bengals             Cincinnati, Ohio   \n",
       "\n",
       "              Stadium  Capacity                                  Coordinates  \\\n",
       "2       New Era Field     71608  42°46′26″N 78°47′13″W﻿ / ﻿42.774°N 78.787°W   \n",
       "3   Hard Rock Stadium     64767  25°57′29″N 80°14′20″W﻿ / ﻿25.958°N 80.239°W   \n",
       "4    Gillette Stadium     65878  42°05′28″N 71°15′50″W﻿ / ﻿42.091°N 71.264°W   \n",
       "5  MetLife Stadium[C]     82500  40°48′50″N 74°04′26″W﻿ / ﻿40.814°N 74.074°W   \n",
       "6    M&T Bank Stadium     71008  39°16′41″N 76°37′23″W﻿ / ﻿39.278°N 76.623°W   \n",
       "7  Paul Brown Stadium     65515  39°05′42″N 84°30′58″W﻿ / ﻿39.095°N 84.516°W   \n",
       "\n",
       "              Firstseason       Headcoach  latitude  longitude  color  \n",
       "2  1960 (AFL), 1970 (NFL)  Sean McDermott    42.774    -78.787      0  \n",
       "3  1966 (AFL), 1970 (NFL)    Brian Flores    25.958    -80.239      0  \n",
       "4  1960 (AFL), 1970 (NFL)  Bill Belichick    42.091    -71.264      0  \n",
       "5  1960 (AFL), 1970 (NFL)       Adam Gase    40.814    -74.074      0  \n",
       "6                 1996[D]   John Harbaugh    39.278    -76.623      1  \n",
       "7  1968 (AFL), 1970 (NFL)      Zac Taylor    39.095    -84.516      1  "
      ]
     },
     "execution_count": 2,
     "metadata": {},
     "output_type": "execute_result"
    }
   ],
   "source": [
    "tables_url = r'https://en.wikipedia.org/wiki/National_Football_League'\n",
    "df_tables = pd.read_html(tables_url)\n",
    "df = df_tables[2]\n",
    "df = df.rename(columns=df.iloc[0]).drop(df.index[0])\n",
    "\n",
    "# remove rows if it has more than 4 nans\n",
    "df = df.dropna(thresh=4)\n",
    "\n",
    "# clean hdr\n",
    "df.columns = df.columns.str.replace('[\\[\\] \\d+]', '')\n",
    "\n",
    "# if Headcoach is nan shift row values to right\n",
    "df[df['Headcoach'].isnull()] = df[df['Headcoach'].isnull()].shift(1, axis=1)\n",
    "\n",
    "# fill division names\n",
    "df['Division'] = df['Division'].ffill()\n",
    "\n",
    "# change datatypes\n",
    "df['Capacity'] = df['Capacity'].astype(int)\n",
    "\n",
    "# latitude N is +ve and S is -ve\n",
    "df['latitude'] = df['Coordinates'].str.extract(r'/\\s*(.*)°N')[0].str.encode('ascii',errors='ignore').astype(float)\n",
    "\n",
    "# longitude E is +ve and W is -ve\n",
    "df['longitude'] = df['Coordinates'].str.extract(r'°N\\s*(.*)\\s*°W')[0].str.encode('ascii',errors='ignore').astype(float) * -1\n",
    "\n",
    "# create color column\n",
    "df['color'] = df['Division'].map({'East': 0, 'North': 1, 'West': 2, 'South': 3})\n",
    "\n",
    "\n",
    "# for later purpose\n",
    "nfl_teams = df.copy()\n",
    "\n",
    "df.head(6)"
   ]
  },
  {
   "cell_type": "code",
   "execution_count": 3,
   "metadata": {
    "ExecuteTime": {
     "end_time": "2019-02-06T03:18:11.526059Z",
     "start_time": "2019-02-06T03:18:09.477515Z"
    }
   },
   "outputs": [
    {
     "name": "stderr",
     "output_type": "stream",
     "text": [
      "/Users/poudel/miniconda3/envs/viz/lib/python3.7/site-packages/IPython/core/display.py:689: UserWarning:\n",
      "\n",
      "Consider using IPython.display.IFrame instead\n",
      "\n"
     ]
    },
    {
     "data": {
      "text/html": [
       "<iframe id=\"igraph\" scrolling=\"no\" style=\"border:none;\" seamless=\"seamless\" src=\"https://plot.ly/~bhishanpdl/50.embed\" height=\"525px\" width=\"100%\"></iframe>"
      ],
      "text/plain": [
       "<plotly.tools.PlotlyDisplay object>"
      ]
     },
     "execution_count": 3,
     "metadata": {},
     "output_type": "execute_result"
    }
   ],
   "source": [
    "import plotly.plotly as py\n",
    "import pandas as pd\n",
    "\n",
    "data = [ dict(\n",
    "        type = 'scattergeo',\n",
    "        locationmode = 'USA-states',\n",
    "        lon = df['longitude'],\n",
    "        lat = df['latitude'],\n",
    "        text = df['Club'] + ' (' + df['City'] + ')' ,\n",
    "        mode = 'markers',\n",
    "        marker = dict(\n",
    "            size = 8,\n",
    "            opacity = 0.8,\n",
    "            reversescale = True,\n",
    "            autocolorscale = False,\n",
    "            symbol = 'square',\n",
    "            line = dict(\n",
    "                width=1,\n",
    "                color='rgba(102, 102, 102)'\n",
    "            ),\n",
    "            colorscale = 'Jet',\n",
    "            cmin = 0,\n",
    "            color = df['color'],\n",
    "            cmax = 4,\n",
    "            colorbar=dict(\n",
    "                title=\"NFL Teams\"\n",
    "            )\n",
    "        ))]\n",
    "\n",
    "layout = dict(\n",
    "        title = 'NFL Teams (East=brown, North=orange, West=green, South=blue)',\n",
    "        colorbar = True,\n",
    "        geo = dict(\n",
    "            scope='usa',\n",
    "            projection=dict( type='albers usa' ),\n",
    "            showland = True,\n",
    "            landcolor = \"rgb(250, 250, 250)\",\n",
    "            subunitcolor = \"rgb(217, 217, 217)\",\n",
    "            countrycolor = \"rgb(217, 217, 217)\",\n",
    "            countrywidth = 0.5,\n",
    "            subunitwidth = 0.5\n",
    "        ),\n",
    "    )\n",
    "\n",
    "fig = dict( data=data, layout=layout )\n",
    "py.iplot( fig, validate=False, filename='file1' )"
   ]
  },
  {
   "cell_type": "code",
   "execution_count": 4,
   "metadata": {
    "ExecuteTime": {
     "end_time": "2019-02-06T03:18:11.547117Z",
     "start_time": "2019-02-06T03:18:11.529508Z"
    }
   },
   "outputs": [
    {
     "data": {
      "image/png": "[encoded data removed]",
      "text/plain": [
       "<IPython.core.display.Image object>"
      ]
     },
     "execution_count": 4,
     "metadata": {},
     "output_type": "execute_result"
    }
   ],
   "source": [
    "Image('nfl_teams.png')"
   ]
  },
  {
   "cell_type": "markdown",
   "metadata": {},
   "source": [
    "# Who has won the Superbowl most times ?"
   ]
  },
  {
   "cell_type": "code",
   "execution_count": 5,
   "metadata": {
    "ExecuteTime": {
     "end_time": "2019-02-06T03:18:13.484127Z",
     "start_time": "2019-02-06T03:18:11.556940Z"
    }
   },
   "outputs": [
    {
     "data": {
      "text/html": [
       "<div>\n",
       "<style scoped>\n",
       "    .dataframe tbody tr th:only-of-type {\n",
       "        vertical-align: middle;\n",
       "    }\n",
       "\n",
       "    .dataframe tbody tr th {\n",
       "        vertical-align: top;\n",
       "    }\n",
       "\n",
       "    .dataframe thead th {\n",
       "        text-align: right;\n",
       "    }\n",
       "</style>\n",
       "<table border=\"1\" class=\"dataframe\">\n",
       "  <thead>\n",
       "    <tr style=\"text-align: right;\">\n",
       "      <th></th>\n",
       "      <th>Game</th>\n",
       "      <th>Date</th>\n",
       "      <th>Winner</th>\n",
       "      <th>Loser</th>\n",
       "      <th>Venue</th>\n",
       "      <th>Attendance</th>\n",
       "      <th>GF</th>\n",
       "      <th>GA</th>\n",
       "      <th>GD</th>\n",
       "      <th>City</th>\n",
       "      <th>State</th>\n",
       "    </tr>\n",
       "  </thead>\n",
       "  <tbody>\n",
       "    <tr>\n",
       "      <th>1</th>\n",
       "      <td>1</td>\n",
       "      <td>1967-01-15</td>\n",
       "      <td>Green Bay Packers</td>\n",
       "      <td>Kansas City Chiefs</td>\n",
       "      <td>Los Angeles Memorial Coliseum</td>\n",
       "      <td>61946</td>\n",
       "      <td>35</td>\n",
       "      <td>10</td>\n",
       "      <td>25</td>\n",
       "      <td>Los Angeles</td>\n",
       "      <td>California</td>\n",
       "    </tr>\n",
       "    <tr>\n",
       "      <th>2</th>\n",
       "      <td>2</td>\n",
       "      <td>1968-01-14</td>\n",
       "      <td>Green Bay Packers</td>\n",
       "      <td>Oakland Raiders</td>\n",
       "      <td>Miami Orange Bowl</td>\n",
       "      <td>75546</td>\n",
       "      <td>33</td>\n",
       "      <td>14</td>\n",
       "      <td>19</td>\n",
       "      <td>Miami</td>\n",
       "      <td>Florida</td>\n",
       "    </tr>\n",
       "    <tr>\n",
       "      <th>3</th>\n",
       "      <td>3</td>\n",
       "      <td>1969-01-12</td>\n",
       "      <td>New York Jets</td>\n",
       "      <td>Baltimore Colts</td>\n",
       "      <td>Miami Orange Bowl</td>\n",
       "      <td>75389</td>\n",
       "      <td>16</td>\n",
       "      <td>7</td>\n",
       "      <td>9</td>\n",
       "      <td>Miami</td>\n",
       "      <td>Florida</td>\n",
       "    </tr>\n",
       "    <tr>\n",
       "      <th>4</th>\n",
       "      <td>4</td>\n",
       "      <td>1970-01-11</td>\n",
       "      <td>Kansas City Chiefs</td>\n",
       "      <td>Minnesota Vikings</td>\n",
       "      <td>Tulane Stadium</td>\n",
       "      <td>80562</td>\n",
       "      <td>23</td>\n",
       "      <td>7</td>\n",
       "      <td>16</td>\n",
       "      <td>New Orleans</td>\n",
       "      <td>Louisiana</td>\n",
       "    </tr>\n",
       "    <tr>\n",
       "      <th>5</th>\n",
       "      <td>5</td>\n",
       "      <td>1971-01-17</td>\n",
       "      <td>Baltimore Colts</td>\n",
       "      <td>Dallas Cowboys</td>\n",
       "      <td>Miami Orange Bowl</td>\n",
       "      <td>79204</td>\n",
       "      <td>16</td>\n",
       "      <td>13</td>\n",
       "      <td>3</td>\n",
       "      <td>Miami</td>\n",
       "      <td>Florida</td>\n",
       "    </tr>\n",
       "  </tbody>\n",
       "</table>\n",
       "</div>"
      ],
      "text/plain": [
       "   Game       Date              Winner               Loser  \\\n",
       "1     1 1967-01-15   Green Bay Packers  Kansas City Chiefs   \n",
       "2     2 1968-01-14   Green Bay Packers     Oakland Raiders   \n",
       "3     3 1969-01-12       New York Jets     Baltimore Colts   \n",
       "4     4 1970-01-11  Kansas City Chiefs   Minnesota Vikings   \n",
       "5     5 1971-01-17     Baltimore Colts      Dallas Cowboys   \n",
       "\n",
       "                           Venue  Attendance  GF  GA  GD         City  \\\n",
       "1  Los Angeles Memorial Coliseum       61946  35  10  25  Los Angeles   \n",
       "2              Miami Orange Bowl       75546  33  14  19        Miami   \n",
       "3             Miami Orange Bowl        75389  16   7   9        Miami   \n",
       "4                 Tulane Stadium       80562  23   7  16  New Orleans   \n",
       "5             Miami Orange Bowl        79204  16  13   3        Miami   \n",
       "\n",
       "        State  \n",
       "1  California  \n",
       "2     Florida  \n",
       "3     Florida  \n",
       "4   Louisiana  \n",
       "5     Florida  "
      ]
     },
     "metadata": {},
     "output_type": "display_data"
    },
    {
     "data": {
      "text/html": [
       "<div>\n",
       "<style scoped>\n",
       "    .dataframe tbody tr th:only-of-type {\n",
       "        vertical-align: middle;\n",
       "    }\n",
       "\n",
       "    .dataframe tbody tr th {\n",
       "        vertical-align: top;\n",
       "    }\n",
       "\n",
       "    .dataframe thead th {\n",
       "        text-align: right;\n",
       "    }\n",
       "</style>\n",
       "<table border=\"1\" class=\"dataframe\">\n",
       "  <thead>\n",
       "    <tr style=\"text-align: right;\">\n",
       "      <th></th>\n",
       "      <th>Game</th>\n",
       "      <th>Date</th>\n",
       "      <th>Winner</th>\n",
       "      <th>Loser</th>\n",
       "      <th>Venue</th>\n",
       "      <th>Attendance</th>\n",
       "      <th>GF</th>\n",
       "      <th>GA</th>\n",
       "      <th>GD</th>\n",
       "      <th>City</th>\n",
       "      <th>State</th>\n",
       "    </tr>\n",
       "  </thead>\n",
       "  <tbody>\n",
       "    <tr>\n",
       "      <th>49</th>\n",
       "      <td>49</td>\n",
       "      <td>2015-02-01</td>\n",
       "      <td>New England Patriots</td>\n",
       "      <td>Seattle Seahawks</td>\n",
       "      <td>University of Phoenix Stadium</td>\n",
       "      <td>70288</td>\n",
       "      <td>28</td>\n",
       "      <td>24</td>\n",
       "      <td>4</td>\n",
       "      <td>Glendale</td>\n",
       "      <td>Arizona</td>\n",
       "    </tr>\n",
       "    <tr>\n",
       "      <th>50</th>\n",
       "      <td>50</td>\n",
       "      <td>2016-02-07</td>\n",
       "      <td>Denver Broncos</td>\n",
       "      <td>Carolina Panthers</td>\n",
       "      <td>Levi's Stadium</td>\n",
       "      <td>71088</td>\n",
       "      <td>24</td>\n",
       "      <td>10</td>\n",
       "      <td>14</td>\n",
       "      <td>Santa Clara</td>\n",
       "      <td>California</td>\n",
       "    </tr>\n",
       "    <tr>\n",
       "      <th>51</th>\n",
       "      <td>51</td>\n",
       "      <td>2017-02-05</td>\n",
       "      <td>New England Patriots</td>\n",
       "      <td>Atlanta Falcons</td>\n",
       "      <td>NRG Stadium</td>\n",
       "      <td>70807</td>\n",
       "      <td>34</td>\n",
       "      <td>28</td>\n",
       "      <td>6</td>\n",
       "      <td>Houston</td>\n",
       "      <td>Texas</td>\n",
       "    </tr>\n",
       "    <tr>\n",
       "      <th>52</th>\n",
       "      <td>52</td>\n",
       "      <td>2018-02-04</td>\n",
       "      <td>Philadelphia Eagles</td>\n",
       "      <td>New England Patriots</td>\n",
       "      <td>U.S. Bank Stadium</td>\n",
       "      <td>67612</td>\n",
       "      <td>41</td>\n",
       "      <td>33</td>\n",
       "      <td>8</td>\n",
       "      <td>Minneapolis</td>\n",
       "      <td>Minnesota</td>\n",
       "    </tr>\n",
       "    <tr>\n",
       "      <th>53</th>\n",
       "      <td>53</td>\n",
       "      <td>2019-02-03</td>\n",
       "      <td>New England Patriots</td>\n",
       "      <td>Los Angeles Rams</td>\n",
       "      <td>Mercedes</td>\n",
       "      <td>70081</td>\n",
       "      <td>13</td>\n",
       "      <td>3</td>\n",
       "      <td>10</td>\n",
       "      <td>Atlanta</td>\n",
       "      <td>Georgia</td>\n",
       "    </tr>\n",
       "  </tbody>\n",
       "</table>\n",
       "</div>"
      ],
      "text/plain": [
       "    Game       Date                Winner                 Loser  \\\n",
       "49    49 2015-02-01  New England Patriots      Seattle Seahawks   \n",
       "50    50 2016-02-07        Denver Broncos     Carolina Panthers   \n",
       "51    51 2017-02-05  New England Patriots       Atlanta Falcons   \n",
       "52    52 2018-02-04   Philadelphia Eagles  New England Patriots   \n",
       "53    53 2019-02-03  New England Patriots      Los Angeles Rams   \n",
       "\n",
       "                             Venue  Attendance  GF  GA  GD         City  \\\n",
       "49  University of Phoenix Stadium        70288  28  24   4     Glendale   \n",
       "50                  Levi's Stadium       71088  24  10  14  Santa Clara   \n",
       "51                    NRG Stadium        70807  34  28   6      Houston   \n",
       "52               U.S. Bank Stadium       67612  41  33   8  Minneapolis   \n",
       "53                        Mercedes       70081  13   3  10      Atlanta   \n",
       "\n",
       "         State  \n",
       "49     Arizona  \n",
       "50  California  \n",
       "51       Texas  \n",
       "52   Minnesota  \n",
       "53     Georgia  "
      ]
     },
     "metadata": {},
     "output_type": "display_data"
    }
   ],
   "source": [
    "# read wikipedia tables\n",
    "tables_url = r'https://en.wikipedia.org/wiki/List_of_Super_Bowl_champions'\n",
    "df_tables = pd.read_html(tables_url)\n",
    "df = df_tables[1]\n",
    "df = df.rename(columns=df.iloc[0]).drop(df.index[0])\n",
    "\n",
    "# only take rows upto today\n",
    "df = df.iloc[0:-6,:]\n",
    "\n",
    "# change game to number\n",
    "df['Game'] = df.index\n",
    "\n",
    "# rename cols\n",
    "df = df.rename({'Winning team': 'Winner','Losing team': 'Loser'},axis=1)\n",
    "\n",
    "# change date\n",
    "# February 4, 2024 [note 5]\n",
    "df['Date'] = df['Date'].str.extract(r'(.*, \\d{4})')\n",
    "df['Date'] = pd.to_datetime(df['Date'],format='%B %d, %Y')\n",
    "\n",
    "# drop ref\n",
    "df = df.drop('Ref',1)\n",
    "\n",
    "# extract winner and loser\n",
    "df['Winner'] = df['Winner'].str.extract(r'([A-Za-z.49 ]*)')\n",
    "df['Loser'] = df['Loser'].str.extract(r'([A-Za-z.49 ]*)')\n",
    "\n",
    "# goal for and against\n",
    "df['GF'] = df['Score'].str.extract(r'(\\d+)').astype(int)\n",
    "df['GA'] = df['Score'].str.extract(r'–(\\d+)').astype(int) # – is not minus sign\n",
    "df['GD'] = df['GF'] - df['GA']\n",
    "\n",
    "# venue\n",
    "df['Venue'] = df['Venue'].str.extract(r'([\\w\\s\\'\\.]*)')\n",
    "\n",
    "# create city and state columns\n",
    "df = df.rename({'City': 'City2'},axis=1)\n",
    "df['City'] = df['City2'].str.extract(r'(.+),')\n",
    "df['State'] = df['City2'].str.extract(r',([\\w\\s]*)')\n",
    "df['City'] = df['City'].str.strip()\n",
    "df['State'] = df['State'].str.strip()\n",
    "df = df.drop('City2',1)\n",
    "\n",
    "# data types\n",
    "df['Attendance'] = df['Attendance'].astype(int)\n",
    "\n",
    "# drop columns\n",
    "df = df.drop('Score',1)\n",
    "\n",
    "display(df.head(), df.tail())"
   ]
  },
  {
   "cell_type": "code",
   "execution_count": 6,
   "metadata": {
    "ExecuteTime": {
     "end_time": "2019-02-06T03:18:13.705573Z",
     "start_time": "2019-02-06T03:18:13.486560Z"
    }
   },
   "outputs": [
    {
     "data": {
      "image/png": "[encoded data removed]",
      "text/plain": [
       "<Figure size 432x288 with 1 Axes>"
      ]
     },
     "metadata": {
      "needs_background": "light"
     },
     "output_type": "display_data"
    }
   ],
   "source": [
    "df['Winner'].value_counts().head().sort_values().plot.barh(title='# Superbowl Wins');\n",
    "plt.savefig('won_superbowl.png')\n",
    "plt.show()"
   ]
  },
  {
   "cell_type": "markdown",
   "metadata": {
    "ExecuteTime": {
     "end_time": "2019-02-04T23:13:28.876993Z",
     "start_time": "2019-02-04T23:13:28.223245Z"
    }
   },
   "source": [
    "# How many times the teams have reached the Superbowl ?"
   ]
  },
  {
   "cell_type": "code",
   "execution_count": 7,
   "metadata": {
    "ExecuteTime": {
     "end_time": "2019-02-06T03:18:13.958599Z",
     "start_time": "2019-02-06T03:18:13.711860Z"
    }
   },
   "outputs": [
    {
     "data": {
      "image/png": "[encoded data removed]",
      "text/plain": [
       "<Figure size 432x288 with 1 Axes>"
      ]
     },
     "metadata": {
      "needs_background": "light"
     },
     "output_type": "display_data"
    }
   ],
   "source": [
    "finalists = np.union1d(df['Winner'].values, df.Loser.values)\n",
    "\n",
    "# winner and loser counts\n",
    "wc = df.Winner.value_counts().sort_index()\n",
    "lc = df.Loser.value_counts().sort_index()\n",
    "\n",
    "# finalists\n",
    "finalists = (wc + lc).fillna(1).astype(int).sort_index()\n",
    "finalists = finalists.sort_values()\n",
    "\n",
    "# plot\n",
    "finalists.sort_values().tail().plot.barh(title='# Times Reached the Superbowl')\n",
    "plt.savefig('reached_superbowl.png')\n",
    "plt.xticks(range(12));"
   ]
  },
  {
   "cell_type": "markdown",
   "metadata": {
    "ExecuteTime": {
     "end_time": "2019-02-04T23:21:37.088285Z",
     "start_time": "2019-02-04T23:21:37.085779Z"
    }
   },
   "source": [
    "# Who has won consecutively two times ?"
   ]
  },
  {
   "cell_type": "code",
   "execution_count": 8,
   "metadata": {
    "ExecuteTime": {
     "end_time": "2019-02-06T03:18:13.991593Z",
     "start_time": "2019-02-06T03:18:13.960937Z"
    }
   },
   "outputs": [
    {
     "data": {
      "text/html": [
       "<div>\n",
       "<style scoped>\n",
       "    .dataframe tbody tr th:only-of-type {\n",
       "        vertical-align: middle;\n",
       "    }\n",
       "\n",
       "    .dataframe tbody tr th {\n",
       "        vertical-align: top;\n",
       "    }\n",
       "\n",
       "    .dataframe thead th {\n",
       "        text-align: right;\n",
       "    }\n",
       "</style>\n",
       "<table border=\"1\" class=\"dataframe\">\n",
       "  <thead>\n",
       "    <tr style=\"text-align: right;\">\n",
       "      <th></th>\n",
       "      <th>Winner</th>\n",
       "      <th>Game</th>\n",
       "      <th>BeginDate</th>\n",
       "      <th>EndDate</th>\n",
       "    </tr>\n",
       "  </thead>\n",
       "  <tbody>\n",
       "    <tr>\n",
       "      <th>0</th>\n",
       "      <td>Green Bay Packers</td>\n",
       "      <td>1</td>\n",
       "      <td>1967-01-15</td>\n",
       "      <td>1968-01-14</td>\n",
       "    </tr>\n",
       "    <tr>\n",
       "      <th>1</th>\n",
       "      <td>Miami Dolphins</td>\n",
       "      <td>7</td>\n",
       "      <td>1973-01-14</td>\n",
       "      <td>1974-01-13</td>\n",
       "    </tr>\n",
       "    <tr>\n",
       "      <th>2</th>\n",
       "      <td>Pittsburgh Steelers</td>\n",
       "      <td>9</td>\n",
       "      <td>1975-01-12</td>\n",
       "      <td>1980-01-20</td>\n",
       "    </tr>\n",
       "    <tr>\n",
       "      <th>3</th>\n",
       "      <td>San Francisco 49ers</td>\n",
       "      <td>23</td>\n",
       "      <td>1989-01-22</td>\n",
       "      <td>1990-01-28</td>\n",
       "    </tr>\n",
       "    <tr>\n",
       "      <th>4</th>\n",
       "      <td>Dallas Cowboys</td>\n",
       "      <td>27</td>\n",
       "      <td>1993-01-31</td>\n",
       "      <td>1994-01-30</td>\n",
       "    </tr>\n",
       "    <tr>\n",
       "      <th>5</th>\n",
       "      <td>Denver Broncos</td>\n",
       "      <td>32</td>\n",
       "      <td>1998-01-25</td>\n",
       "      <td>1999-01-31</td>\n",
       "    </tr>\n",
       "    <tr>\n",
       "      <th>6</th>\n",
       "      <td>New England Patriots</td>\n",
       "      <td>38</td>\n",
       "      <td>2004-02-01</td>\n",
       "      <td>2005-02-06</td>\n",
       "    </tr>\n",
       "  </tbody>\n",
       "</table>\n",
       "</div>"
      ],
      "text/plain": [
       "                 Winner  Game  BeginDate    EndDate\n",
       "0     Green Bay Packers     1 1967-01-15 1968-01-14\n",
       "1        Miami Dolphins     7 1973-01-14 1974-01-13\n",
       "2   Pittsburgh Steelers     9 1975-01-12 1980-01-20\n",
       "3   San Francisco 49ers    23 1989-01-22 1990-01-28\n",
       "4        Dallas Cowboys    27 1993-01-31 1994-01-30\n",
       "5        Denver Broncos    32 1998-01-25 1999-01-31\n",
       "6  New England Patriots    38 2004-02-01 2005-02-06"
      ]
     },
     "execution_count": 8,
     "metadata": {},
     "output_type": "execute_result"
    }
   ],
   "source": [
    "cond = df['Winner'] != df['Winner'].shift()\n",
    "cond = cond.cumsum()\n",
    "df['consecutiveWin'] = df['Winner'].groupby(cond).transform('size')\n",
    "\n",
    "df1 = df[df['consecutiveWin'] == 2][['Game','Date','Winner','Loser','consecutiveWin']]\n",
    "\n",
    "df1 = (df1.query('consecutiveWin > 1')\n",
    "          .groupby('Winner')\n",
    "          .agg({'Game': 'first', \n",
    "                'Date': ['first', 'last']})\n",
    "          .reset_index()\n",
    ")\n",
    "\n",
    "# flatten multi-index column\n",
    "df1.columns = [i[0]+'_'+i[1] if i[1] else i[0] for i in df1.columns.ravel()]\n",
    "df1.columns = ['Winner', 'Game', 'BeginDate', 'EndDate']\n",
    "\n",
    "# df1\n",
    "df1.sort_values(by='BeginDate').reset_index(drop=True)"
   ]
  },
  {
   "cell_type": "markdown",
   "metadata": {},
   "source": [
    "# Who has lost consecutively two times ?"
   ]
  },
  {
   "cell_type": "code",
   "execution_count": 9,
   "metadata": {
    "ExecuteTime": {
     "end_time": "2019-02-06T03:18:14.020681Z",
     "start_time": "2019-02-06T03:18:13.994978Z"
    }
   },
   "outputs": [
    {
     "data": {
      "text/html": [
       "<div>\n",
       "<style scoped>\n",
       "    .dataframe tbody tr th:only-of-type {\n",
       "        vertical-align: middle;\n",
       "    }\n",
       "\n",
       "    .dataframe tbody tr th {\n",
       "        vertical-align: top;\n",
       "    }\n",
       "\n",
       "    .dataframe thead th {\n",
       "        text-align: right;\n",
       "    }\n",
       "</style>\n",
       "<table border=\"1\" class=\"dataframe\">\n",
       "  <thead>\n",
       "    <tr style=\"text-align: right;\">\n",
       "      <th></th>\n",
       "      <th>Loser</th>\n",
       "      <th>Game</th>\n",
       "      <th>BeginDate</th>\n",
       "      <th>EndDate</th>\n",
       "    </tr>\n",
       "  </thead>\n",
       "  <tbody>\n",
       "    <tr>\n",
       "      <th>0</th>\n",
       "      <td>Minnesota Vikings</td>\n",
       "      <td>8</td>\n",
       "      <td>1974-01-13</td>\n",
       "      <td>1975-01-12</td>\n",
       "    </tr>\n",
       "    <tr>\n",
       "      <th>1</th>\n",
       "      <td>Denver Broncos</td>\n",
       "      <td>21</td>\n",
       "      <td>1987-01-25</td>\n",
       "      <td>1988-01-31</td>\n",
       "    </tr>\n",
       "  </tbody>\n",
       "</table>\n",
       "</div>"
      ],
      "text/plain": [
       "               Loser  Game  BeginDate    EndDate\n",
       "0  Minnesota Vikings     8 1974-01-13 1975-01-12\n",
       "1     Denver Broncos    21 1987-01-25 1988-01-31"
      ]
     },
     "execution_count": 9,
     "metadata": {},
     "output_type": "execute_result"
    }
   ],
   "source": [
    "cond = df['Loser'] != df['Loser'].shift()\n",
    "cond = cond.cumsum()\n",
    "df['consecutiveLoss'] = df['Loser'].groupby(cond).transform('size')\n",
    "\n",
    "df1 = df[df['consecutiveLoss'] == 2][['Game','Date','Winner','Loser',\n",
    "                                      'consecutiveWin','consecutiveLoss']]\n",
    "\n",
    "df1 = (df1.query('consecutiveLoss > 1')\n",
    "          .groupby('Loser')\n",
    "          .agg({'Game': 'first', \n",
    "                'Date': ['first', 'last']})\n",
    "          .reset_index())\n",
    "\n",
    "# flatten multi-index column\n",
    "df1.columns = [i[0]+'_'+i[1] if i[1] else i[0] for i in df1.columns.ravel()]\n",
    "df1.columns = ['Loser', 'Game', 'BeginDate', 'EndDate']\n",
    "\n",
    "# df1\n",
    "df1.sort_values(by='BeginDate').reset_index(drop=True)"
   ]
  },
  {
   "cell_type": "markdown",
   "metadata": {},
   "source": [
    "# Who has been on Superbowl but never won ?"
   ]
  },
  {
   "cell_type": "code",
   "execution_count": 10,
   "metadata": {
    "ExecuteTime": {
     "end_time": "2019-02-06T03:18:14.244478Z",
     "start_time": "2019-02-06T03:18:14.022555Z"
    }
   },
   "outputs": [
    {
     "data": {
      "image/png": "[encoded data removed]",
      "text/plain": [
       "<Figure size 432x288 with 1 Axes>"
      ]
     },
     "metadata": {
      "needs_background": "light"
     },
     "output_type": "display_data"
    }
   ],
   "source": [
    "final_teams = np.union1d(df['Winner'].values, df['Loser'].values)\n",
    "winner_unq = df['Winner'].unique()\n",
    "not_winner = [i for i in final_teams if i not in winner_unq]\n",
    "\n",
    "df['Loser'].value_counts()[not_winner].sort_values(ascending=False).plot.bar()\n",
    "plt.yticks(range(6));\n",
    "plt.title('Been on Superbowl but never won')\n",
    "plt.savefig('been_but_never_won.png')"
   ]
  },
  {
   "cell_type": "markdown",
   "metadata": {},
   "source": [
    "# Who has never been to Superbowl ?"
   ]
  },
  {
   "cell_type": "code",
   "execution_count": 11,
   "metadata": {
    "ExecuteTime": {
     "end_time": "2019-02-06T03:18:14.253480Z",
     "start_time": "2019-02-06T03:18:14.246959Z"
    }
   },
   "outputs": [
    {
     "data": {
      "text/plain": [
       "array(['Cleveland Browns', 'Detroit Lions', 'Houston Texans',\n",
       "       'Jacksonville Jaguars', 'Los Angeles Chargers'], dtype='<U20')"
      ]
     },
     "execution_count": 11,
     "metadata": {},
     "output_type": "execute_result"
    }
   ],
   "source": [
    "all_teams = nfl_teams['Club'].values\n",
    "all_teams = [i.replace('*',''.replace('†','')).replace('†','') for i in all_teams]\n",
    "final_teams = final_teams\n",
    "\n",
    "never_final = np.setdiff1d(all_teams, final_teams)\n",
    "never_final"
   ]
  },
  {
   "cell_type": "code",
   "execution_count": 12,
   "metadata": {
    "ExecuteTime": {
     "end_time": "2019-02-06T03:18:14.270934Z",
     "start_time": "2019-02-06T03:18:14.255849Z"
    }
   },
   "outputs": [
    {
     "data": {
      "text/html": [
       "<div>\n",
       "<style scoped>\n",
       "    .dataframe tbody tr th:only-of-type {\n",
       "        vertical-align: middle;\n",
       "    }\n",
       "\n",
       "    .dataframe tbody tr th {\n",
       "        vertical-align: top;\n",
       "    }\n",
       "\n",
       "    .dataframe thead th {\n",
       "        text-align: right;\n",
       "    }\n",
       "</style>\n",
       "<table border=\"1\" class=\"dataframe\">\n",
       "  <thead>\n",
       "    <tr style=\"text-align: right;\">\n",
       "      <th></th>\n",
       "      <th>Game</th>\n",
       "      <th>Date</th>\n",
       "      <th>Winner</th>\n",
       "      <th>Loser</th>\n",
       "      <th>Venue</th>\n",
       "      <th>Attendance</th>\n",
       "      <th>GF</th>\n",
       "      <th>GA</th>\n",
       "      <th>GD</th>\n",
       "      <th>City</th>\n",
       "      <th>State</th>\n",
       "      <th>consecutiveWin</th>\n",
       "      <th>consecutiveLoss</th>\n",
       "    </tr>\n",
       "  </thead>\n",
       "  <tbody>\n",
       "    <tr>\n",
       "      <th>29</th>\n",
       "      <td>29</td>\n",
       "      <td>1995-01-29</td>\n",
       "      <td>San Francisco 49ers</td>\n",
       "      <td>San Diego Chargers</td>\n",
       "      <td>Joe Robbie Stadium</td>\n",
       "      <td>74107</td>\n",
       "      <td>49</td>\n",
       "      <td>26</td>\n",
       "      <td>23</td>\n",
       "      <td>Miami Gardens</td>\n",
       "      <td>Florida</td>\n",
       "      <td>1</td>\n",
       "      <td>1</td>\n",
       "    </tr>\n",
       "  </tbody>\n",
       "</table>\n",
       "</div>"
      ],
      "text/plain": [
       "    Game       Date               Winner               Loser  \\\n",
       "29    29 1995-01-29  San Francisco 49ers  San Diego Chargers   \n",
       "\n",
       "                  Venue  Attendance  GF  GA  GD           City    State  \\\n",
       "29  Joe Robbie Stadium        74107  49  26  23  Miami Gardens  Florida   \n",
       "\n",
       "    consecutiveWin  consecutiveLoss  \n",
       "29               1                1  "
      ]
     },
     "execution_count": 12,
     "metadata": {},
     "output_type": "execute_result"
    }
   ],
   "source": [
    "# Note that Los Angeles Chargers was previously known as San Diego Chargers\n",
    "# and has been to superbowl.\n",
    "df[df['Loser'] == 'San Diego Chargers']"
   ]
  },
  {
   "cell_type": "code",
   "execution_count": 13,
   "metadata": {
    "ExecuteTime": {
     "end_time": "2019-02-06T03:18:14.283431Z",
     "start_time": "2019-02-06T03:18:14.273553Z"
    }
   },
   "outputs": [
    {
     "data": {
      "text/plain": [
       "array(['Cleveland Browns', 'Detroit Lions', 'Houston Texans',\n",
       "       'Jacksonville Jaguars'], dtype='<U20')"
      ]
     },
     "execution_count": 13,
     "metadata": {},
     "output_type": "execute_result"
    }
   ],
   "source": [
    "never_final = np.delete(never_final, [4])\n",
    "never_final"
   ]
  },
  {
   "cell_type": "code",
   "execution_count": 14,
   "metadata": {
    "ExecuteTime": {
     "end_time": "2019-02-06T03:18:14.289425Z",
     "start_time": "2019-02-06T03:18:14.285493Z"
    }
   },
   "outputs": [
    {
     "data": {
      "text/plain": [
       "4"
      ]
     },
     "execution_count": 14,
     "metadata": {},
     "output_type": "execute_result"
    }
   ],
   "source": [
    "len(never_final)"
   ]
  },
  {
   "cell_type": "code",
   "execution_count": 15,
   "metadata": {
    "ExecuteTime": {
     "end_time": "2019-02-06T03:18:14.457973Z",
     "start_time": "2019-02-06T03:18:14.296253Z"
    }
   },
   "outputs": [
    {
     "data": {
      "image/png": "[encoded data removed]",
      "text/plain": [
       "<Figure size 432x288 with 1 Axes>"
      ]
     },
     "metadata": {
      "needs_background": "light"
     },
     "output_type": "display_data"
    }
   ],
   "source": [
    "s = pd.Series(0,index=never_final)\n",
    "s.plot.barh(title='Teams never reached Superbowl')\n",
    "plt.savefig('never_reached.png')"
   ]
  },
  {
   "cell_type": "code",
   "execution_count": 16,
   "metadata": {
    "ExecuteTime": {
     "end_time": "2019-02-06T03:18:14.468777Z",
     "start_time": "2019-02-06T03:18:14.460362Z"
    }
   },
   "outputs": [
    {
     "data": {
      "text/html": [
       "<div>\n",
       "<style scoped>\n",
       "    .dataframe tbody tr th:only-of-type {\n",
       "        vertical-align: middle;\n",
       "    }\n",
       "\n",
       "    .dataframe tbody tr th {\n",
       "        vertical-align: top;\n",
       "    }\n",
       "\n",
       "    .dataframe thead th {\n",
       "        text-align: right;\n",
       "    }\n",
       "</style>\n",
       "<table border=\"1\" class=\"dataframe\">\n",
       "  <thead>\n",
       "    <tr style=\"text-align: right;\">\n",
       "      <th></th>\n",
       "      <th>Team</th>\n",
       "      <th>Apperances</th>\n",
       "    </tr>\n",
       "  </thead>\n",
       "  <tbody>\n",
       "    <tr>\n",
       "      <th>0</th>\n",
       "      <td>Cleveland Browns</td>\n",
       "      <td>0</td>\n",
       "    </tr>\n",
       "    <tr>\n",
       "      <th>1</th>\n",
       "      <td>Detroit Lions</td>\n",
       "      <td>0</td>\n",
       "    </tr>\n",
       "    <tr>\n",
       "      <th>2</th>\n",
       "      <td>Houston Texans</td>\n",
       "      <td>0</td>\n",
       "    </tr>\n",
       "    <tr>\n",
       "      <th>3</th>\n",
       "      <td>Jacksonville Jaguars</td>\n",
       "      <td>0</td>\n",
       "    </tr>\n",
       "  </tbody>\n",
       "</table>\n",
       "</div>"
      ],
      "text/plain": [
       "                   Team  Apperances\n",
       "0      Cleveland Browns           0\n",
       "1         Detroit Lions           0\n",
       "2        Houston Texans           0\n",
       "3  Jacksonville Jaguars           0"
      ]
     },
     "execution_count": 16,
     "metadata": {},
     "output_type": "execute_result"
    }
   ],
   "source": [
    "nvf = pd.DataFrame({'Team': never_final, 'Apperances': 0})\n",
    "nvf"
   ]
  },
  {
   "cell_type": "code",
   "execution_count": 18,
   "metadata": {
    "ExecuteTime": {
     "end_time": "2019-02-06T03:19:01.417947Z",
     "start_time": "2019-02-06T03:19:00.872363Z"
    }
   },
   "outputs": [
    {
     "data": {
      "text/plain": [
       "<matplotlib.table.Table at 0x125196ac8>"
      ]
     },
     "execution_count": 18,
     "metadata": {},
     "output_type": "execute_result"
    },
    {
     "data": {
      "image/png": "[encoded data removed]",
      "text/plain": [
       "<Figure size 1008x288 with 1 Axes>"
      ]
     },
     "metadata": {
      "needs_background": "light"
     },
     "output_type": "display_data"
    }
   ],
   "source": [
    "fig, axes = plt.subplots(1, 1, figsize=(14, 4))\n",
    "pd.plotting.table(axes, \n",
    "                  nvf,\n",
    "                  loc='upper right',\n",
    "                  colLoc='right',\n",
    "                  colWidths=[0.55, 0.4, 0.8,0.8])"
   ]
  },
  {
   "cell_type": "code",
   "execution_count": null,
   "metadata": {},
   "outputs": [],
   "source": []
  }
 ],
 "metadata": {
  "kernelspec": {
   "display_name": "Python (plotly)",
   "language": "python",
   "name": "viz"
  },
  "language_info": {
   "codemirror_mode": {
    "name": "ipython",
    "version": 3
   },
   "file_extension": ".py",
   "mimetype": "text/x-python",
   "name": "python",
   "nbconvert_exporter": "python",
   "pygments_lexer": "ipython3",
   "version": "3.7.1"
  },
  "toc": {
   "base_numbering": 1,
   "nav_menu": {},
   "number_sections": true,
   "sideBar": true,
   "skip_h1_title": false,
   "title_cell": "Table of Contents",
   "title_sidebar": "Contents",
   "toc_cell": true,
   "toc_position": {},
   "toc_section_display": true,
   "toc_window_display": true
  }
 },
 "nbformat": 4,
 "nbformat_minor": 2
}
